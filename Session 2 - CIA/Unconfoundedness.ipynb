{
 "cells": [
  {
   "cell_type": "markdown",
   "metadata": {},
   "source": [
    "**Causal Inference for Policy Evaluation (HS 2021)**\n",
    "\n",
    "**Conny Wunsch, Ulrike Unterhofer and Véra Zabrodina** -- University of Basel\n",
    "\n",
    "***\n",
    "\n",
    "# Lab Session 2 - Unconfoundedness\n",
    "\n",
    "\n",
    "---\n",
    "\n",
    "![](./Cgraph.JPG)\n",
    "\n",
    "**Key steps of causal policy evaluation**\n",
    "\n",
    "1. Set up a research design to study a key effect of interest (i.e. choose an identification strategy) \n",
    "\n",
    "2. Discuss the identifying assumptions in context\n",
    "\n",
    "3. Prepare the data for analysis (session 1)\n",
    "\n",
    "4. Produce and interpret relevant descriptive statistics, and provide supportive evidence for the validity of identifying assumptions\n",
    "\n",
    "5. Estimate causal effects of interest \n",
    "\n",
    "6. Present and interpret the results meaningfully \n",
    "\n",
    "\n",
    "**Key ingredients for a selection on observables design:**\n",
    "\n",
    "* Treatment assignment an self-selection into treatment are well understood (institutional knowledge, theory)\n",
    "* A rich dataset containing all relevant confounders\n",
    "* Sufficiently large number of nontreated observations\n",
    "* Common support in the covariate distributions (no perfect predictor of the treatment status)\n",
    "\n",
    "\n",
    "## Application: What Did All the Money Do? On the General Ineffectiveness of Recent West German Labour Market Programmes\n",
    "**Conny Wunsch and Michael Lechner, Kyklos 2008**\n"
   ]
  },
  {
   "cell_type": "markdown",
   "metadata": {},
   "source": [
    "***\n",
    "## 1. Introduction\n",
    "\n",
    "\n",
    "\n",
    "* What is the research question?\n",
    "\n",
    "* Why is this question of interest?\n",
    "\n",
    "* What are the treatment(s) and the outcome(s)? \n",
    "\n",
    "* How is the control group defined?\n",
    "\n",
    "* Why would comparing the average outcomes of the treated and control groups potentially result in a biased treatment effect estimate? What is the endogeneity problem?\n"
   ]
  },
  {
   "cell_type": "markdown",
   "metadata": {},
   "source": [
    "***\n",
    "\n",
    "## 2. Setup and Data\n",
    "\n",
    "### Program specifics\n",
    "\n",
    "* Evaluate the effect of an **online application coaching program for unemployed workers** on their employment outcomes.\n",
    "* The course is full time and can only be started within the first month of unemployment.\n",
    "* It lasts for **1 month**.\n",
    "* Any worker can voluntarily participate, in agreement with their randomly-assigned caseworker. \n",
    "* Caseworkers are instructed to encourage older workers, as well as women with lower education to participate. \n",
    "* Participation is however mandatory for all workers older than 60.\n",
    "* The program's capacity is limited each month.\n",
    "\n",
    "Why is this information important?\n",
    "\n",
    "\n",
    "### Data\n",
    "\n",
    "We have representative data on unemployment spells that started in 20XX, with a rich set of observable individual characteristics.\n",
    "\n",
    "\n",
    "|Variable name| Description|\n",
    "|:----|:----|\n",
    "|*id*|Individual identifier|\n",
    "|*idobs*|Spell ID|\n",
    "|*date_start*|Start of unemployment spell|\n",
    "|*date_end*|Spell end|\n",
    "|*spell*|Unemployment spell|\n",
    "|*num_spells*|Number of unemployment spells|\n",
    "|*treat*|Program participation|\n",
    "|*duration*|Spell duration|\n",
    "|*employed1y*|Employed within 1 year|\n",
    "|*sex*|Gender (Female=1)|\n",
    "|*marits*|Marital status (Married=1)|\n",
    "|*region*|Region|\n",
    "|*educ*|Education|\n",
    "|*insured_earn*|Insured earnings|\n",
    "|*lastj_occpt*|Occupation last job|\n",
    "|*lastj_fct*|Function last job|\n",
    "|*contr_5y*|Months contribution in last 5 years|\n",
    "|*unempl_r*|Unemployment rate|\n",
    "|*full_time*|Full time employed last job|\n",
    "|*swiss*|Swiss citizen|\n",
    "|*age*|Age|\n",
    "|*agegr*|Age group|\n",
    "\n"
   ]
  },
  {
   "cell_type": "markdown",
   "metadata": {},
   "source": [
    "***\n",
    "\n",
    "## 3. Identification strategy and assumptions"
   ]
  },
  {
   "cell_type": "markdown",
   "metadata": {},
   "source": [
    "### Notation\n",
    "\n",
    "* $D_i \\in \\{0,1\\}$ ... treatment (program participation)\n",
    "* $Y^*_{0i}$ ... potential outcome under no participation (unemployment duration)\n",
    "* $Y^*_{1i}$ ... potential outcome under participation\n",
    "* $Y_{0i}$, $Y_{1i}$  ... observed outcomes\n",
    "\n",
    "### Effects of interest\n",
    "\n",
    "* **Average Treatement Effect**: \n",
    "$$ATE = {\\rm E} [Y^*_{1i} - Y^*_{0i}]$$\n",
    "\n",
    "\n",
    "* **Average Treatment Effect on the Treated**: \n",
    "$$ATET = {\\rm E} [Y^*_{1i} - Y^*_{0i}|D_i =1]$$\n",
    "\n",
    "\n",
    "* **Average Treatment Effect on the Non-Treated:**  \n",
    "$$ATENT ={\\rm E} [Y^*_{1i} - Y^*_{0i}|D_i =0]$$\n",
    " "
   ]
  },
  {
   "cell_type": "markdown",
   "metadata": {},
   "source": [
    "\n",
    "---\n",
    "\n",
    "### Discussion of identifying assumptions\n",
    "\n",
    "* Which assumptions are imposed for parametric and semiparametric estimators?\n",
    "\n",
    "* What do these assumptions mean in words?\n",
    "\n",
    "*\tWhat could invalidate them? Think of concrete examples or mechanisms.\n",
    "\n",
    "*\tWhich arguments or evidence can you provide to support that they hold?\n",
    "\n",
    "\n",
    "\n",
    "**A1 Stable unit treatment value assumption (SUTVA):**\n",
    "\n",
    "$Y_i=D_iY^*_{1,i}+(1-D_i)Y^*_{0,i}$\n",
    "\n",
    "* We assume that there are no spillover effects from treated to non-treated individuals. \n",
    "\n",
    "* Participants should not affect the outcomes of non-participants (e.g. no general equilibrium effects).\n",
    "\n",
    "* Difficult to test and rarely discussed in the literature. An exception: Ferracci et al. (2014). \n",
    "\n",
    "* Supporting arguments can be related to the scale of the program.\n",
    "\n",
    "\n",
    "### *Parametric context*\n",
    "\n",
    "**A2 Zero conditional mean error:**\n",
    "\n",
    "$E[U_i|D=D_i,X=X_i]=0$ \n",
    "\n",
    "* Main identifying assumption.\n",
    "\n",
    "* Implies that there are no unobserved variables $U_i$ that are correlated with the treatment conditional on $X$.\n",
    "\n",
    "* You need to argue that you sufficiently control for all the (observable and unobservable) characteristics that jointly affect $Y_i$ and $D_i$.\n",
    "\n",
    "The choice of control variables should be guided by \n",
    "* large observed differences in covariates between treated and control observations\n",
    "* institutional knowledge \n",
    "* existing theory and literature. \n",
    "\n",
    "\n",
    "\n",
    "**A3 Linearity:**\n",
    "\n",
    "$E[Y_i|D=D_i,X=X_i]=\\alpha+\\delta D_i+\\sum_{k=1}^K\\beta_kX_{i,k}$\n",
    "\n",
    "* You impose a linear relationship between the outcome, the treatment and the $X$. \n",
    "\n",
    "* Can be relaxed by more flexible functional forms (polynomials, dummies, interaction terms).\n",
    "\n",
    "\n",
    "**A4 Effect homogeneity:**\n",
    "\n",
    "$E[Y^*_{1,i}-Y^*_{0,i}]=\\delta = ATE = ATET = ATENT \\quad\\forall\\ i$\n",
    "\n",
    "* Directly resulting from **A3**.\n",
    "\n",
    "* You assume the treatment effect is the same for all individuals (participants and non-participants).\n",
    "\n",
    "### *Non or semi-parametric context*\n",
    "\n",
    "**A2  Conditional independence assumption (CIA)**\n",
    "\n",
    "$ Y^*_{1} ,Y^*_{0}\\perp D|X $\n",
    "\n",
    "* Nonparametric equivalent to **A2**\n",
    "\n",
    "* Treatment is random, i.e. independent of outcomes, conditional on $X$.\n",
    "\n",
    "* Observe all $X$ that jointly determine the outcome and the treatment (discussed in the lecture).\n",
    "\n",
    "The assumptions **A3** and **A4** are not necessary.\n",
    "\n",
    "\n",
    "**A3  Common support (CS)**\n",
    "\n",
    "$0<Pr(D=1|X=x)<1$\n",
    "\n",
    "* There are always both treated ($D=1$) and nontreated ($D=0$) with the same $X$.\n",
    "\n",
    "\n"
   ]
  },
  {
   "cell_type": "markdown",
   "metadata": {},
   "source": [
    "***\n",
    "## 4. Empirical Analysis"
   ]
  },
  {
   "cell_type": "markdown",
   "metadata": {},
   "source": [
    "### Load packages "
   ]
  },
  {
   "cell_type": "code",
   "execution_count": 32,
   "metadata": {},
   "outputs": [
    {
     "data": {
      "text/html": [
       "<ol>\n",
       "\t<li>TRUE</li>\n",
       "\t<li>TRUE</li>\n",
       "\t<li>TRUE</li>\n",
       "\t<li>TRUE</li>\n",
       "\t<li>TRUE</li>\n",
       "\t<li>TRUE</li>\n",
       "\t<li>TRUE</li>\n",
       "\t<li>TRUE</li>\n",
       "\t<li>TRUE</li>\n",
       "\t<li>TRUE</li>\n",
       "\t<li>TRUE</li>\n",
       "\t<li>TRUE</li>\n",
       "\t<li>TRUE</li>\n",
       "\t<li>TRUE</li>\n",
       "\t<li>TRUE</li>\n",
       "\t<li>TRUE</li>\n",
       "\t<li>TRUE</li>\n",
       "\t<li>TRUE</li>\n",
       "\t<li>TRUE</li>\n",
       "\t<li>TRUE</li>\n",
       "</ol>\n"
      ],
      "text/latex": [
       "\\begin{enumerate}\n",
       "\\item TRUE\n",
       "\\item TRUE\n",
       "\\item TRUE\n",
       "\\item TRUE\n",
       "\\item TRUE\n",
       "\\item TRUE\n",
       "\\item TRUE\n",
       "\\item TRUE\n",
       "\\item TRUE\n",
       "\\item TRUE\n",
       "\\item TRUE\n",
       "\\item TRUE\n",
       "\\item TRUE\n",
       "\\item TRUE\n",
       "\\item TRUE\n",
       "\\item TRUE\n",
       "\\item TRUE\n",
       "\\item TRUE\n",
       "\\item TRUE\n",
       "\\item TRUE\n",
       "\\end{enumerate}\n"
      ],
      "text/markdown": [
       "1. TRUE\n",
       "2. TRUE\n",
       "3. TRUE\n",
       "4. TRUE\n",
       "5. TRUE\n",
       "6. TRUE\n",
       "7. TRUE\n",
       "8. TRUE\n",
       "9. TRUE\n",
       "10. TRUE\n",
       "11. TRUE\n",
       "12. TRUE\n",
       "13. TRUE\n",
       "14. TRUE\n",
       "15. TRUE\n",
       "16. TRUE\n",
       "17. TRUE\n",
       "18. TRUE\n",
       "19. TRUE\n",
       "20. TRUE\n",
       "\n",
       "\n"
      ],
      "text/plain": [
       "[[1]]\n",
       "[1] TRUE\n",
       "\n",
       "[[2]]\n",
       "[1] TRUE\n",
       "\n",
       "[[3]]\n",
       "[1] TRUE\n",
       "\n",
       "[[4]]\n",
       "[1] TRUE\n",
       "\n",
       "[[5]]\n",
       "[1] TRUE\n",
       "\n",
       "[[6]]\n",
       "[1] TRUE\n",
       "\n",
       "[[7]]\n",
       "[1] TRUE\n",
       "\n",
       "[[8]]\n",
       "[1] TRUE\n",
       "\n",
       "[[9]]\n",
       "[1] TRUE\n",
       "\n",
       "[[10]]\n",
       "[1] TRUE\n",
       "\n",
       "[[11]]\n",
       "[1] TRUE\n",
       "\n",
       "[[12]]\n",
       "[1] TRUE\n",
       "\n",
       "[[13]]\n",
       "[1] TRUE\n",
       "\n",
       "[[14]]\n",
       "[1] TRUE\n",
       "\n",
       "[[15]]\n",
       "[1] TRUE\n",
       "\n",
       "[[16]]\n",
       "[1] TRUE\n",
       "\n",
       "[[17]]\n",
       "[1] TRUE\n",
       "\n",
       "[[18]]\n",
       "[1] TRUE\n",
       "\n",
       "[[19]]\n",
       "[1] TRUE\n",
       "\n",
       "[[20]]\n",
       "[1] TRUE\n"
      ]
     },
     "metadata": {},
     "output_type": "display_data"
    },
    {
     "data": {
      "text/html": [
       "<style>\n",
       ".list-inline {list-style: none; margin:0; padding: 0}\n",
       ".list-inline>li {display: inline-block}\n",
       ".list-inline>li:not(:last-child)::after {content: \"\\00b7\"; padding: 0 .5ex}\n",
       "</style>\n",
       "<ol class=list-inline><li>'fastDummies'</li><li>'np'</li><li>'causalweight'</li><li>'ranger'</li><li>'expss'</li><li>'mfx'</li><li>'betareg'</li><li>'MASS'</li><li>'AER'</li><li>'car'</li><li>'carData'</li><li>'stargazer'</li><li>'data.table'</li><li>'xtable'</li><li>'knitr'</li><li>'fBasics'</li><li>'timeSeries'</li><li>'timeDate'</li><li>'jtools'</li><li>'lmtest'</li><li>'zoo'</li><li>'sandwich'</li><li>'Hmisc'</li><li>'Formula'</li><li>'survival'</li><li>'lattice'</li><li>'haven'</li><li>'forcats'</li><li>'stringr'</li><li>'dplyr'</li><li>'purrr'</li><li>'readr'</li><li>'tidyr'</li><li>'tibble'</li><li>'ggplot2'</li><li>'tidyverse'</li><li>'stats'</li><li>'graphics'</li><li>'grDevices'</li><li>'utils'</li><li>'datasets'</li><li>'methods'</li><li>'base'</li></ol>\n"
      ],
      "text/latex": [
       "\\begin{enumerate*}\n",
       "\\item 'fastDummies'\n",
       "\\item 'np'\n",
       "\\item 'causalweight'\n",
       "\\item 'ranger'\n",
       "\\item 'expss'\n",
       "\\item 'mfx'\n",
       "\\item 'betareg'\n",
       "\\item 'MASS'\n",
       "\\item 'AER'\n",
       "\\item 'car'\n",
       "\\item 'carData'\n",
       "\\item 'stargazer'\n",
       "\\item 'data.table'\n",
       "\\item 'xtable'\n",
       "\\item 'knitr'\n",
       "\\item 'fBasics'\n",
       "\\item 'timeSeries'\n",
       "\\item 'timeDate'\n",
       "\\item 'jtools'\n",
       "\\item 'lmtest'\n",
       "\\item 'zoo'\n",
       "\\item 'sandwich'\n",
       "\\item 'Hmisc'\n",
       "\\item 'Formula'\n",
       "\\item 'survival'\n",
       "\\item 'lattice'\n",
       "\\item 'haven'\n",
       "\\item 'forcats'\n",
       "\\item 'stringr'\n",
       "\\item 'dplyr'\n",
       "\\item 'purrr'\n",
       "\\item 'readr'\n",
       "\\item 'tidyr'\n",
       "\\item 'tibble'\n",
       "\\item 'ggplot2'\n",
       "\\item 'tidyverse'\n",
       "\\item 'stats'\n",
       "\\item 'graphics'\n",
       "\\item 'grDevices'\n",
       "\\item 'utils'\n",
       "\\item 'datasets'\n",
       "\\item 'methods'\n",
       "\\item 'base'\n",
       "\\end{enumerate*}\n"
      ],
      "text/markdown": [
       "1. 'fastDummies'\n",
       "2. 'np'\n",
       "3. 'causalweight'\n",
       "4. 'ranger'\n",
       "5. 'expss'\n",
       "6. 'mfx'\n",
       "7. 'betareg'\n",
       "8. 'MASS'\n",
       "9. 'AER'\n",
       "10. 'car'\n",
       "11. 'carData'\n",
       "12. 'stargazer'\n",
       "13. 'data.table'\n",
       "14. 'xtable'\n",
       "15. 'knitr'\n",
       "16. 'fBasics'\n",
       "17. 'timeSeries'\n",
       "18. 'timeDate'\n",
       "19. 'jtools'\n",
       "20. 'lmtest'\n",
       "21. 'zoo'\n",
       "22. 'sandwich'\n",
       "23. 'Hmisc'\n",
       "24. 'Formula'\n",
       "25. 'survival'\n",
       "26. 'lattice'\n",
       "27. 'haven'\n",
       "28. 'forcats'\n",
       "29. 'stringr'\n",
       "30. 'dplyr'\n",
       "31. 'purrr'\n",
       "32. 'readr'\n",
       "33. 'tidyr'\n",
       "34. 'tibble'\n",
       "35. 'ggplot2'\n",
       "36. 'tidyverse'\n",
       "37. 'stats'\n",
       "38. 'graphics'\n",
       "39. 'grDevices'\n",
       "40. 'utils'\n",
       "41. 'datasets'\n",
       "42. 'methods'\n",
       "43. 'base'\n",
       "\n",
       "\n"
      ],
      "text/plain": [
       " [1] \"fastDummies\"  \"np\"           \"causalweight\" \"ranger\"       \"expss\"       \n",
       " [6] \"mfx\"          \"betareg\"      \"MASS\"         \"AER\"          \"car\"         \n",
       "[11] \"carData\"      \"stargazer\"    \"data.table\"   \"xtable\"       \"knitr\"       \n",
       "[16] \"fBasics\"      \"timeSeries\"   \"timeDate\"     \"jtools\"       \"lmtest\"      \n",
       "[21] \"zoo\"          \"sandwich\"     \"Hmisc\"        \"Formula\"      \"survival\"    \n",
       "[26] \"lattice\"      \"haven\"        \"forcats\"      \"stringr\"      \"dplyr\"       \n",
       "[31] \"purrr\"        \"readr\"        \"tidyr\"        \"tibble\"       \"ggplot2\"     \n",
       "[36] \"tidyverse\"    \"stats\"        \"graphics\"     \"grDevices\"    \"utils\"       \n",
       "[41] \"datasets\"     \"methods\"      \"base\"        "
      ]
     },
     "metadata": {},
     "output_type": "display_data"
    }
   ],
   "source": [
    "# remove old objects from R working space\n",
    "rm(list=ls())\n",
    "\n",
    "# Define packages that you need\n",
    "packages_vector <- c(\"tidyverse\", \"haven\", \"Hmisc\", \"dplyr\", \n",
    "                     \"tidyr\", \"stringr\", \"sandwich\", \"lmtest\", \n",
    "                     \"jtools\", \"fBasics\", \"knitr\", \"xtable\", \n",
    "                     \"data.table\", \"stargazer\", \"AER\", \"mfx\", \"expss\",\n",
    "                     \"causalweight\", \"np\", \"fastDummies\")\n",
    "\n",
    "#install.packages(packages_vector) \n",
    "lapply(packages_vector, require, character.only = TRUE) \n",
    "(.packages())\n",
    "\n",
    "\n",
    "# Function for table display\n",
    "repr_html.xtable <- function(obj, ...){\n",
    "    paste(capture.output(print(obj, type = 'html')), collapse=\"\", sep=\"\")\n",
    "}\n"
   ]
  },
  {
   "cell_type": "markdown",
   "metadata": {},
   "source": [
    "### Load data\n",
    "\n",
    "Load the data that we cleaned last week."
   ]
  },
  {
   "cell_type": "code",
   "execution_count": 33,
   "metadata": {},
   "outputs": [
    {
     "name": "stderr",
     "output_type": "stream",
     "text": [
      "The following objects are masked from data_reg:\n",
      "\n",
      "    agegr_2, agegr_3, agegr_4, contr_5y, duration, educ_0, educ_2,\n",
      "    educ_3, educ_99, employed1y, full_time_0, insured_earn,\n",
      "    lastj_fct_0, lastj_fct_1, lastj_fct_3, lastj_fct_99, lastj_occpt_1,\n",
      "    lastj_occpt_10, lastj_occpt_11, lastj_occpt_12, lastj_occpt_14,\n",
      "    lastj_occpt_15, lastj_occpt_16, lastj_occpt_17, lastj_occpt_18,\n",
      "    lastj_occpt_19, lastj_occpt_2, lastj_occpt_20, lastj_occpt_21,\n",
      "    lastj_occpt_22, lastj_occpt_23, lastj_occpt_3, lastj_occpt_4,\n",
      "    lastj_occpt_5, lastj_occpt_6, lastj_occpt_7, lastj_occpt_8,\n",
      "    lastj_occpt_9, marits_1, region_1, region_2, region_3, region_4,\n",
      "    region_5, region_7, sex_1, swiss_0, treat, unempl_r\n",
      "\n",
      "\n",
      "The following objects are masked from data_desc (pos = 4):\n",
      "\n",
      "    agegr_1, agegr_2, agegr_3, agegr_4, contr_5y, duration, educ_0,\n",
      "    educ_1, educ_2, educ_3, educ_99, employed1y, full_time_0,\n",
      "    full_time_1, insured_earn, lastj_fct_0, lastj_fct_1, lastj_fct_2,\n",
      "    lastj_fct_3, lastj_fct_99, lastj_occpt_1, lastj_occpt_10,\n",
      "    lastj_occpt_11, lastj_occpt_12, lastj_occpt_13, lastj_occpt_14,\n",
      "    lastj_occpt_15, lastj_occpt_16, lastj_occpt_17, lastj_occpt_18,\n",
      "    lastj_occpt_19, lastj_occpt_2, lastj_occpt_20, lastj_occpt_21,\n",
      "    lastj_occpt_22, lastj_occpt_23, lastj_occpt_3, lastj_occpt_4,\n",
      "    lastj_occpt_5, lastj_occpt_6, lastj_occpt_7, lastj_occpt_8,\n",
      "    lastj_occpt_9, marits_0, marits_1, region_1, region_2, region_3,\n",
      "    region_4, region_5, region_6, region_7, sex_0, sex_1, swiss_0,\n",
      "    swiss_1, treat, unempl_r\n",
      "\n",
      "\n",
      "The following objects are masked from data_desc (pos = 3):\n",
      "\n",
      "    agegr_2, agegr_3, agegr_4, contr_5y, duration, educ_0, educ_2,\n",
      "    educ_3, educ_99, employed1y, full_time_0, insured_earn,\n",
      "    lastj_fct_0, lastj_fct_1, lastj_fct_3, lastj_fct_99, lastj_occpt_1,\n",
      "    lastj_occpt_10, lastj_occpt_11, lastj_occpt_12, lastj_occpt_14,\n",
      "    lastj_occpt_15, lastj_occpt_16, lastj_occpt_17, lastj_occpt_18,\n",
      "    lastj_occpt_19, lastj_occpt_2, lastj_occpt_20, lastj_occpt_21,\n",
      "    lastj_occpt_22, lastj_occpt_23, lastj_occpt_3, lastj_occpt_4,\n",
      "    lastj_occpt_5, lastj_occpt_6, lastj_occpt_7, lastj_occpt_8,\n",
      "    lastj_occpt_9, marits_1, region_1, region_2, region_3, region_4,\n",
      "    region_5, region_7, sex_1, swiss_0, treat, unempl_r\n",
      "\n",
      "\n",
      "The following objects are masked from data_reg (pos = 4):\n",
      "\n",
      "    agegr_2, agegr_3, agegr_4, contr_5y, date_end, date_start,\n",
      "    duration, educ_0, educ_2, educ_3, educ_99, employed1y, full_time_0,\n",
      "    id, idobs, insured_earn, lastj_fct_0, lastj_fct_1, lastj_fct_3,\n",
      "    lastj_fct_99, lastj_occpt_1, lastj_occpt_10, lastj_occpt_11,\n",
      "    lastj_occpt_12, lastj_occpt_14, lastj_occpt_15, lastj_occpt_16,\n",
      "    lastj_occpt_17, lastj_occpt_18, lastj_occpt_19, lastj_occpt_2,\n",
      "    lastj_occpt_20, lastj_occpt_21, lastj_occpt_22, lastj_occpt_23,\n",
      "    lastj_occpt_3, lastj_occpt_4, lastj_occpt_5, lastj_occpt_6,\n",
      "    lastj_occpt_7, lastj_occpt_8, lastj_occpt_9, marits_1, num_spells,\n",
      "    region_1, region_2, region_3, region_4, region_5, region_7, sex_1,\n",
      "    spell, swiss_0, treat, unempl_r\n",
      "\n",
      "\n",
      "The following objects are masked from data_desc (pos = 5):\n",
      "\n",
      "    agegr_2, agegr_3, agegr_4, contr_5y, duration, educ_0, educ_2,\n",
      "    educ_3, educ_99, employed1y, full_time_0, insured_earn,\n",
      "    lastj_fct_0, lastj_fct_1, lastj_fct_3, lastj_fct_99, lastj_occpt_1,\n",
      "    lastj_occpt_10, lastj_occpt_11, lastj_occpt_12, lastj_occpt_14,\n",
      "    lastj_occpt_15, lastj_occpt_16, lastj_occpt_17, lastj_occpt_18,\n",
      "    lastj_occpt_19, lastj_occpt_2, lastj_occpt_20, lastj_occpt_21,\n",
      "    lastj_occpt_22, lastj_occpt_23, lastj_occpt_3, lastj_occpt_4,\n",
      "    lastj_occpt_5, lastj_occpt_6, lastj_occpt_7, lastj_occpt_8,\n",
      "    lastj_occpt_9, marits_1, region_1, region_2, region_3, region_4,\n",
      "    region_5, region_7, sex_1, swiss_0, treat, unempl_r\n",
      "\n",
      "\n"
     ]
    }
   ],
   "source": [
    "# Data for descriptives\n",
    "load(\"data_desc.RData\")\n",
    "attach(data_desc)\n",
    "\n",
    "# Data for regression (omitting reference categories)\n",
    "load(\"data_reg.RData\")\n",
    "attach(data_reg)\n",
    "\n",
    "options(warn=-1)"
   ]
  },
  {
   "cell_type": "markdown",
   "metadata": {},
   "source": [
    "### Application-specific cleaning\n",
    "\n",
    "\n",
    "On top of the variables available in the dataset, we might want to create some additional variables to include in our specification."
   ]
  },
  {
   "cell_type": "code",
   "execution_count": 34,
   "metadata": {},
   "outputs": [
    {
     "data": {
      "text/html": [
       "<table class='gmisc_table' style='border-collapse: collapse; margin-top: 1em; margin-bottom: 1em;' >\n",
       "<thead>\n",
       "<tr><th style='border-bottom: 1px solid grey; font-weight: 900; border-top: 2px solid grey; text-align: center;'></th>\n",
       "<th style='font-weight: 900; border-bottom: 1px solid grey; border-top: 2px solid grey; text-align: center;'></th>\n",
       "<th style='font-weight: 900; border-bottom: 1px solid grey; border-top: 2px solid grey; text-align: center;'>&nbsp;#Total&nbsp;</th>\n",
       "</tr>\n",
       "</thead>\n",
       "<tbody>\n",
       "<tr>\n",
       "<td style='text-align: left;'>&nbsp;data_reg&#36;quarter&nbsp;</td>\n",
       "<td style='text-align: left;'>&nbsp;1&nbsp;</td>\n",
       "<td style='text-align: right;'>4706</td>\n",
       "</tr>\n",
       "<tr>\n",
       "<td style='text-align: left;'></td>\n",
       "<td style='text-align: left;'>&nbsp;2&nbsp;</td>\n",
       "<td style='text-align: right;'>3960</td>\n",
       "</tr>\n",
       "<tr>\n",
       "<td style='text-align: left;'></td>\n",
       "<td style='text-align: left;'>&nbsp;3&nbsp;</td>\n",
       "<td style='text-align: right;'>4498</td>\n",
       "</tr>\n",
       "<tr>\n",
       "<td style='text-align: left;'></td>\n",
       "<td style='text-align: left;'>&nbsp;4&nbsp;</td>\n",
       "<td style='text-align: right;'>5920</td>\n",
       "</tr>\n",
       "<tr>\n",
       "<td style='border-bottom: 2px solid grey; text-align: left;'></td>\n",
       "<td style='border-bottom: 2px solid grey; text-align: left;'>&nbsp;#Total cases&nbsp;</td>\n",
       "<td style='border-bottom: 2px solid grey; text-align: right;'>19084</td>\n",
       "</tr>\n",
       "</tbody>\n",
       "</table>"
      ],
      "text/latex": [
       "A etable: 5 × 2\n",
       "\\begin{tabular}{ll}\n",
       " row\\_labels & \\#Total\\\\\n",
       " <chr> & <dbl>\\\\\n",
       "\\hline\n",
       "\t data\\_reg\\$quarter\\textbar{}1            &  4706\\\\\n",
       "\t data\\_reg\\$quarter\\textbar{}2            &  3960\\\\\n",
       "\t data\\_reg\\$quarter\\textbar{}3            &  4498\\\\\n",
       "\t data\\_reg\\$quarter\\textbar{}4            &  5920\\\\\n",
       "\t data\\_reg\\$quarter\\textbar{}\\#Total cases & 19084\\\\\n",
       "\\end{tabular}\n"
      ],
      "text/markdown": [
       "\n",
       "A etable: 5 × 2\n",
       "\n",
       "| row_labels &lt;chr&gt; | #Total &lt;dbl&gt; |\n",
       "|---|---|\n",
       "| data_reg$quarter|1            |  4706 |\n",
       "| data_reg$quarter|2            |  3960 |\n",
       "| data_reg$quarter|3            |  4498 |\n",
       "| data_reg$quarter|4            |  5920 |\n",
       "| data_reg$quarter|#Total cases | 19084 |\n",
       "\n"
      ],
      "text/plain": [
       "                                             \n",
       " |                  |              | #Total |\n",
       " | ---------------- | ------------ | ------ |\n",
       " | data_reg$quarter |            1 |   4706 |\n",
       " |                  |            2 |   3960 |\n",
       " |                  |            3 |   4498 |\n",
       " |                  |            4 |   5920 |\n",
       " |                  | #Total cases |  19084 |"
      ]
     },
     "metadata": {},
     "output_type": "display_data"
    }
   ],
   "source": [
    "# Generate quarter of entry into unemployment to control for seasonality \n",
    "data_reg$quarter <- as.numeric(quarter(data_reg$date_start))\n",
    "cro(data_reg$quarter)\n",
    "\n",
    "# Generate categorical dummies (4th quarter omitted here)\n",
    "data_reg<-dummy_cols(data_reg, select_columns = c(\"quarter\"), \n",
    "                     remove_most_frequent_dummy = TRUE)\n",
    "\n",
    "\n",
    "# save final data set\n",
    "save(data_reg, xcat_names_reg, xcont_names, file=\"data_reg_final.RData\")"
   ]
  },
  {
   "cell_type": "code",
   "execution_count": 35,
   "metadata": {},
   "outputs": [
    {
     "name": "stdout",
     "output_type": "stream",
     "text": [
      "[1] \"Dimensions of outcome and input vectors\"\n"
     ]
    },
    {
     "data": {
      "text/html": [
       "<style>\n",
       ".list-inline {list-style: none; margin:0; padding: 0}\n",
       ".list-inline>li {display: inline-block}\n",
       ".list-inline>li:not(:last-child)::after {content: \"\\00b7\"; padding: 0 .5ex}\n",
       "</style>\n",
       "<ol class=list-inline><li>19084</li><li>1</li></ol>\n"
      ],
      "text/latex": [
       "\\begin{enumerate*}\n",
       "\\item 19084\n",
       "\\item 1\n",
       "\\end{enumerate*}\n"
      ],
      "text/markdown": [
       "1. 19084\n",
       "2. 1\n",
       "\n",
       "\n"
      ],
      "text/plain": [
       "[1] 19084     1"
      ]
     },
     "metadata": {},
     "output_type": "display_data"
    },
    {
     "data": {
      "text/html": [
       "<style>\n",
       ".list-inline {list-style: none; margin:0; padding: 0}\n",
       ".list-inline>li {display: inline-block}\n",
       ".list-inline>li:not(:last-child)::after {content: \"\\00b7\"; padding: 0 .5ex}\n",
       "</style>\n",
       "<ol class=list-inline><li>19084</li><li>1</li></ol>\n"
      ],
      "text/latex": [
       "\\begin{enumerate*}\n",
       "\\item 19084\n",
       "\\item 1\n",
       "\\end{enumerate*}\n"
      ],
      "text/markdown": [
       "1. 19084\n",
       "2. 1\n",
       "\n",
       "\n"
      ],
      "text/plain": [
       "[1] 19084     1"
      ]
     },
     "metadata": {},
     "output_type": "display_data"
    },
    {
     "data": {
      "text/html": [
       "<style>\n",
       ".list-inline {list-style: none; margin:0; padding: 0}\n",
       ".list-inline>li {display: inline-block}\n",
       ".list-inline>li:not(:last-child)::after {content: \"\\00b7\"; padding: 0 .5ex}\n",
       "</style>\n",
       "<ol class=list-inline><li>19084</li><li>49</li></ol>\n"
      ],
      "text/latex": [
       "\\begin{enumerate*}\n",
       "\\item 19084\n",
       "\\item 49\n",
       "\\end{enumerate*}\n"
      ],
      "text/markdown": [
       "1. 19084\n",
       "2. 49\n",
       "\n",
       "\n"
      ],
      "text/plain": [
       "[1] 19084    49"
      ]
     },
     "metadata": {},
     "output_type": "display_data"
    },
    {
     "name": "stdout",
     "output_type": "stream",
     "text": [
      "[1] \"Matrix of covariates\"\n"
     ]
    },
    {
     "data": {
      "text/html": [
       "<table class=\"dataframe\">\n",
       "<caption>A matrix: 6 × 49 of type dbl</caption>\n",
       "<thead>\n",
       "\t<tr><th scope=col>sex_1</th><th scope=col>marits_1</th><th scope=col>region_1</th><th scope=col>region_2</th><th scope=col>region_3</th><th scope=col>region_4</th><th scope=col>region_5</th><th scope=col>region_7</th><th scope=col>swiss_0</th><th scope=col>educ_0</th><th scope=col>...</th><th scope=col>lastj_fct_99</th><th scope=col>agegr_2</th><th scope=col>agegr_3</th><th scope=col>agegr_4</th><th scope=col>insured_earn</th><th scope=col>contr_5y</th><th scope=col>unempl_r</th><th scope=col>quarter_1</th><th scope=col>quarter_2</th><th scope=col>quarter_3</th></tr>\n",
       "</thead>\n",
       "<tbody>\n",
       "\t<tr><td>0</td><td>1</td><td>0</td><td>0</td><td>0</td><td>0</td><td>0</td><td>0</td><td>1</td><td>0</td><td>...</td><td>1</td><td>1</td><td>0</td><td>0</td><td>4368</td><td>36</td><td>1.3</td><td>1</td><td>0</td><td>0</td></tr>\n",
       "\t<tr><td>1</td><td>0</td><td>0</td><td>0</td><td>0</td><td>0</td><td>0</td><td>0</td><td>1</td><td>0</td><td>...</td><td>0</td><td>0</td><td>1</td><td>0</td><td>5579</td><td>47</td><td>2.1</td><td>0</td><td>1</td><td>0</td></tr>\n",
       "\t<tr><td>1</td><td>0</td><td>0</td><td>1</td><td>0</td><td>0</td><td>0</td><td>0</td><td>0</td><td>0</td><td>...</td><td>0</td><td>1</td><td>0</td><td>0</td><td>2710</td><td>36</td><td>4.7</td><td>0</td><td>0</td><td>0</td></tr>\n",
       "\t<tr><td>1</td><td>1</td><td>0</td><td>0</td><td>0</td><td>1</td><td>0</td><td>0</td><td>0</td><td>0</td><td>...</td><td>0</td><td>0</td><td>1</td><td>0</td><td>4896</td><td>12</td><td>3.2</td><td>1</td><td>0</td><td>0</td></tr>\n",
       "\t<tr><td>1</td><td>1</td><td>0</td><td>0</td><td>0</td><td>0</td><td>0</td><td>0</td><td>0</td><td>0</td><td>...</td><td>0</td><td>0</td><td>1</td><td>0</td><td>4896</td><td>48</td><td>2.1</td><td>0</td><td>0</td><td>1</td></tr>\n",
       "\t<tr><td>0</td><td>1</td><td>0</td><td>0</td><td>0</td><td>0</td><td>1</td><td>0</td><td>1</td><td>1</td><td>...</td><td>1</td><td>1</td><td>0</td><td>0</td><td>5370</td><td> 0</td><td>2.8</td><td>1</td><td>0</td><td>0</td></tr>\n",
       "</tbody>\n",
       "</table>\n"
      ],
      "text/latex": [
       "A matrix: 6 × 49 of type dbl\n",
       "\\begin{tabular}{lllllllllllllllllllll}\n",
       " sex\\_1 & marits\\_1 & region\\_1 & region\\_2 & region\\_3 & region\\_4 & region\\_5 & region\\_7 & swiss\\_0 & educ\\_0 & ... & lastj\\_fct\\_99 & agegr\\_2 & agegr\\_3 & agegr\\_4 & insured\\_earn & contr\\_5y & unempl\\_r & quarter\\_1 & quarter\\_2 & quarter\\_3\\\\\n",
       "\\hline\n",
       "\t 0 & 1 & 0 & 0 & 0 & 0 & 0 & 0 & 1 & 0 & ... & 1 & 1 & 0 & 0 & 4368 & 36 & 1.3 & 1 & 0 & 0\\\\\n",
       "\t 1 & 0 & 0 & 0 & 0 & 0 & 0 & 0 & 1 & 0 & ... & 0 & 0 & 1 & 0 & 5579 & 47 & 2.1 & 0 & 1 & 0\\\\\n",
       "\t 1 & 0 & 0 & 1 & 0 & 0 & 0 & 0 & 0 & 0 & ... & 0 & 1 & 0 & 0 & 2710 & 36 & 4.7 & 0 & 0 & 0\\\\\n",
       "\t 1 & 1 & 0 & 0 & 0 & 1 & 0 & 0 & 0 & 0 & ... & 0 & 0 & 1 & 0 & 4896 & 12 & 3.2 & 1 & 0 & 0\\\\\n",
       "\t 1 & 1 & 0 & 0 & 0 & 0 & 0 & 0 & 0 & 0 & ... & 0 & 0 & 1 & 0 & 4896 & 48 & 2.1 & 0 & 0 & 1\\\\\n",
       "\t 0 & 1 & 0 & 0 & 0 & 0 & 1 & 0 & 1 & 1 & ... & 1 & 1 & 0 & 0 & 5370 &  0 & 2.8 & 1 & 0 & 0\\\\\n",
       "\\end{tabular}\n"
      ],
      "text/markdown": [
       "\n",
       "A matrix: 6 × 49 of type dbl\n",
       "\n",
       "| sex_1 | marits_1 | region_1 | region_2 | region_3 | region_4 | region_5 | region_7 | swiss_0 | educ_0 | ... | lastj_fct_99 | agegr_2 | agegr_3 | agegr_4 | insured_earn | contr_5y | unempl_r | quarter_1 | quarter_2 | quarter_3 |\n",
       "|---|---|---|---|---|---|---|---|---|---|---|---|---|---|---|---|---|---|---|---|---|\n",
       "| 0 | 1 | 0 | 0 | 0 | 0 | 0 | 0 | 1 | 0 | ... | 1 | 1 | 0 | 0 | 4368 | 36 | 1.3 | 1 | 0 | 0 |\n",
       "| 1 | 0 | 0 | 0 | 0 | 0 | 0 | 0 | 1 | 0 | ... | 0 | 0 | 1 | 0 | 5579 | 47 | 2.1 | 0 | 1 | 0 |\n",
       "| 1 | 0 | 0 | 1 | 0 | 0 | 0 | 0 | 0 | 0 | ... | 0 | 1 | 0 | 0 | 2710 | 36 | 4.7 | 0 | 0 | 0 |\n",
       "| 1 | 1 | 0 | 0 | 0 | 1 | 0 | 0 | 0 | 0 | ... | 0 | 0 | 1 | 0 | 4896 | 12 | 3.2 | 1 | 0 | 0 |\n",
       "| 1 | 1 | 0 | 0 | 0 | 0 | 0 | 0 | 0 | 0 | ... | 0 | 0 | 1 | 0 | 4896 | 48 | 2.1 | 0 | 0 | 1 |\n",
       "| 0 | 1 | 0 | 0 | 0 | 0 | 1 | 0 | 1 | 1 | ... | 1 | 1 | 0 | 0 | 5370 |  0 | 2.8 | 1 | 0 | 0 |\n",
       "\n"
      ],
      "text/plain": [
       "     sex_1 marits_1 region_1 region_2 region_3 region_4 region_5 region_7\n",
       "[1,] 0     1        0        0        0        0        0        0       \n",
       "[2,] 1     0        0        0        0        0        0        0       \n",
       "[3,] 1     0        0        1        0        0        0        0       \n",
       "[4,] 1     1        0        0        0        1        0        0       \n",
       "[5,] 1     1        0        0        0        0        0        0       \n",
       "[6,] 0     1        0        0        0        0        1        0       \n",
       "     swiss_0 educ_0 ... lastj_fct_99 agegr_2 agegr_3 agegr_4 insured_earn\n",
       "[1,] 1       0      ... 1            1       0       0       4368        \n",
       "[2,] 1       0      ... 0            0       1       0       5579        \n",
       "[3,] 0       0      ... 0            1       0       0       2710        \n",
       "[4,] 0       0      ... 0            0       1       0       4896        \n",
       "[5,] 0       0      ... 0            0       1       0       4896        \n",
       "[6,] 1       1      ... 1            1       0       0       5370        \n",
       "     contr_5y unempl_r quarter_1 quarter_2 quarter_3\n",
       "[1,] 36       1.3      1         0         0        \n",
       "[2,] 47       2.1      0         1         0        \n",
       "[3,] 36       4.7      0         0         0        \n",
       "[4,] 12       3.2      1         0         0        \n",
       "[5,] 48       2.1      0         0         1        \n",
       "[6,]  0       2.8      1         0         0        "
      ]
     },
     "metadata": {},
     "output_type": "display_data"
    }
   ],
   "source": [
    "# Define variable inputs for the estimation\n",
    "\n",
    "# Outcomes\n",
    "y1 <- as.matrix(data_reg$duration)\n",
    "y2 <- as.matrix(data_reg$employed1y)\n",
    "\n",
    "# Treatment\n",
    "treat <- as.matrix(data_reg$treat)\n",
    "\n",
    "# Controls\n",
    "x1 <- as.matrix(dplyr::select(data_reg, \n",
    "                              xcat_names_reg, \n",
    "                              xcont_names, \n",
    "                              starts_with(\"quarter_\")))\n",
    "x_names<- colnames(x1)\n",
    "\n",
    "# Inspect data\n",
    "print(\"Dimensions of outcome and input vectors\")\n",
    "dim(y1)\n",
    "dim(y2)\n",
    "dim(x1)\n",
    "\n",
    "print(\"Matrix of covariates\")\n",
    "head(x1)"
   ]
  },
  {
   "cell_type": "markdown",
   "metadata": {},
   "source": [
    "## 1. Descriptive Statistics"
   ]
  },
  {
   "cell_type": "markdown",
   "metadata": {},
   "source": [
    "#### Differences in characteristics and outcomes by treatment status\n",
    "\n",
    "Is there evidence of selection into treatment based on observable characteristics?\n",
    "\n",
    "* Compare the differences in means across treatment and control groups by regressing the covariates on the treatment variable (t-test). Significantly different?\n",
    "\n",
    "* Compare the absolute standardized bias. Is it larger than 5%?\n",
    "\n",
    "$$SB = 100*\\frac{E(X|D=1)-E(X|D=0)}{\\sqrt{0.5*[Var(X|D=1)+Var(X|D=0)]}}$$\n",
    "\n"
   ]
  },
  {
   "cell_type": "code",
   "execution_count": 36,
   "metadata": {},
   "outputs": [
    {
     "name": "stdout",
     "output_type": "stream",
     "text": [
      "[1] \"Difference in means by treatment status and standardized bias\"\n"
     ]
    },
    {
     "data": {
      "text/html": [
       "<!-- html table generated in R 4.0.3 by xtable 1.8-4 package --><!-- Thu Oct 14 17:59:21 2021 --><table border=1><tr> <th>  </th> <th> E(X|D=0) </th> <th> E(X|D=1) </th> <th> Difference </th> <th> s.e. </th> <th> p-value </th> <th> Abs. SB </th>  </tr>  <tr> <td align=\"right\"> insured_earn </td> <td align=\"right\"> 4937.040 </td> <td align=\"right\"> 4724.427 </td> <td align=\"right\"> -212.613 </td> <td align=\"right\"> 31.414 </td> <td align=\"right\"> 0.000 </td> <td align=\"right\"> 9.826 </td> </tr>  <tr> <td align=\"right\"> contr_5y </td> <td align=\"right\"> 38.536 </td> <td align=\"right\"> 30.088 </td> <td align=\"right\"> -8.449 </td> <td align=\"right\"> 0.292 </td> <td align=\"right\"> 0.000 </td> <td align=\"right\"> 42.208 </td> </tr>  <tr> <td align=\"right\"> unempl_r </td> <td align=\"right\"> 2.723 </td> <td align=\"right\"> 2.757 </td> <td align=\"right\"> 0.034 </td> <td align=\"right\"> 0.018 </td> <td align=\"right\"> 0.060 </td> <td align=\"right\"> 2.729 </td> </tr>  <tr> <td align=\"right\"> sex_1 </td> <td align=\"right\"> 0.401 </td> <td align=\"right\"> 0.474 </td> <td align=\"right\"> 0.073 </td> <td align=\"right\"> 0.007 </td> <td align=\"right\"> 0.000 </td> <td align=\"right\"> 14.703 </td> </tr>  <tr> <td align=\"right\"> marits_1 </td> <td align=\"right\"> 0.451 </td> <td align=\"right\"> 0.352 </td> <td align=\"right\"> -0.099 </td> <td align=\"right\"> 0.007 </td> <td align=\"right\"> 0.000 </td> <td align=\"right\"> 20.313 </td> </tr>  <tr> <td align=\"right\"> swiss_1 </td> <td align=\"right\"> 0.571 </td> <td align=\"right\"> 0.571 </td> <td align=\"right\"> 0.000 </td> <td align=\"right\"> 0.007 </td> <td align=\"right\"> 0.975 </td> <td align=\"right\"> 0.046 </td> </tr>  <tr> <td align=\"right\"> agegr_1 </td> <td align=\"right\"> 0.320 </td> <td align=\"right\"> 0.338 </td> <td align=\"right\"> 0.018 </td> <td align=\"right\"> 0.007 </td> <td align=\"right\"> 0.009 </td> <td align=\"right\"> 3.791 </td> </tr>  <tr> <td align=\"right\"> agegr_2 </td> <td align=\"right\"> 0.296 </td> <td align=\"right\"> 0.291 </td> <td align=\"right\"> -0.005 </td> <td align=\"right\"> 0.007 </td> <td align=\"right\"> 0.431 </td> <td align=\"right\"> 1.144 </td> </tr>  <tr> <td align=\"right\"> agegr_3 </td> <td align=\"right\"> 0.238 </td> <td align=\"right\"> 0.225 </td> <td align=\"right\"> -0.012 </td> <td align=\"right\"> 0.006 </td> <td align=\"right\"> 0.041 </td> <td align=\"right\"> 2.959 </td> </tr>  <tr> <td align=\"right\"> agegr_4 </td> <td align=\"right\"> 0.145 </td> <td align=\"right\"> 0.145 </td> <td align=\"right\"> -0.000 </td> <td align=\"right\"> 0.005 </td> <td align=\"right\"> 0.981 </td> <td align=\"right\"> 0.035 </td> </tr>  <tr> <td align=\"right\"> educ_0 </td> <td align=\"right\"> 0.212 </td> <td align=\"right\"> 0.226 </td> <td align=\"right\"> 0.013 </td> <td align=\"right\"> 0.006 </td> <td align=\"right\"> 0.027 </td> <td align=\"right\"> 3.217 </td> </tr>  <tr> <td align=\"right\"> educ_1 </td> <td align=\"right\"> 0.599 </td> <td align=\"right\"> 0.551 </td> <td align=\"right\"> -0.048 </td> <td align=\"right\"> 0.007 </td> <td align=\"right\"> 0.000 </td> <td align=\"right\"> 9.736 </td> </tr>  <tr> <td align=\"right\"> educ_2 </td> <td align=\"right\"> 0.039 </td> <td align=\"right\"> 0.047 </td> <td align=\"right\"> 0.008 </td> <td align=\"right\"> 0.003 </td> <td align=\"right\"> 0.008 </td> <td align=\"right\"> 3.879 </td> </tr>  <tr> <td align=\"right\"> educ_3 </td> <td align=\"right\"> 0.149 </td> <td align=\"right\"> 0.175 </td> <td align=\"right\"> 0.027 </td> <td align=\"right\"> 0.005 </td> <td align=\"right\"> 0.000 </td> <td align=\"right\"> 7.261 </td> </tr>  <tr> <td align=\"right\"> full_time_1 </td> <td align=\"right\"> 0.765 </td> <td align=\"right\"> 0.688 </td> <td align=\"right\"> -0.077 </td> <td align=\"right\"> 0.006 </td> <td align=\"right\"> 0.000 </td> <td align=\"right\"> 17.236 </td> </tr>  <tr> <td align=\"right\"> Observations </td> <td align=\"right\"> 10336.000 </td> <td align=\"right\"> 8748.000 </td> <td align=\"right\">  </td> <td align=\"right\">  </td> <td align=\"right\">  </td> <td align=\"right\">  </td> </tr>   </table>"
      ],
      "text/latex": [
       "A xtable: 16 × 6\n",
       "\\begin{tabular}{r|llllll}\n",
       "  & E(X\\textbar{}D=0) & E(X\\textbar{}D=1) & Difference & s.e. & p-value & Abs. SB\\\\\n",
       "  & <dbl> & <dbl> & <dbl> & <dbl> & <dbl> & <dbl>\\\\\n",
       "\\hline\n",
       "\tinsured\\_earn & 4.937040e+03 & 4.724427e+03 & -2.126127e+02 & 31.414136903 &  1.305213e-11 &  9.82636699\\\\\n",
       "\tcontr\\_5y & 3.853628e+01 & 3.008768e+01 & -8.448604e+00 &  0.292102217 & 6.055999e-184 & 42.20783358\\\\\n",
       "\tunempl\\_r & 2.722903e+00 & 2.757045e+00 &  3.414268e-02 &  0.018186399 &  6.046683e-02 &  2.72936691\\\\\n",
       "\tsex\\_1 & 4.014125e-01 & 4.741655e-01 &  7.275298e-02 &  0.007193651 &  4.813392e-24 & 14.70335186\\\\\n",
       "\tmarits\\_1 & 4.505611e-01 & 3.515089e-01 & -9.905223e-02 &  0.007071652 &  1.413593e-44 & 20.31319897\\\\\n",
       "\tswiss\\_1 & 5.705302e-01 & 5.707590e-01 &  2.288449e-04 &  0.007191081 &  9.746129e-01 &  0.04623033\\\\\n",
       "\tagegr\\_1 & 3.204334e-01 & 3.382487e-01 &  1.781531e-02 &  0.006830437 &  9.101357e-03 &  3.79118133\\\\\n",
       "\tagegr\\_2 & 2.962461e-01 & 2.910380e-01 & -5.208178e-03 &  0.006614924 &  4.310843e-01 &  1.14353251\\\\\n",
       "\tagegr\\_3 & 2.379063e-01 & 2.254230e-01 & -1.248339e-02 &  0.006123806 &  4.149973e-02 &  2.95904794\\\\\n",
       "\tagegr\\_4 & 1.454141e-01 & 1.452904e-01 & -1.237346e-04 &  0.005120379 &  9.807209e-01 &  0.03510459\\\\\n",
       "\teduc\\_0 & 2.124613e-01 & 2.257659e-01 &  1.330459e-02 &  0.006014103 &  2.695067e-02 &  3.21666684\\\\\n",
       "\teduc\\_1 & 5.991680e-01 & 5.510974e-01 & -4.807056e-02 &  0.007177419 &  2.120560e-11 &  9.73552900\\\\\n",
       "\teduc\\_2 & 3.879644e-02 & 4.663923e-02 &  7.842792e-03 &  0.002947993 &  7.805180e-03 &  3.87886523\\\\\n",
       "\teduc\\_3 & 1.485101e-01 & 1.752401e-01 &  2.672999e-02 &  0.005362463 &  6.207455e-07 &  7.26135267\\\\\n",
       "\tfull\\_time\\_1 & 7.646091e-01 & 6.880430e-01 & -7.656615e-02 &  0.006476804 &  3.019012e-32 & 17.23606698\\\\\n",
       "\tObservations & 1.033600e+04 & 8.748000e+03 &            NA &           NA &            NA &          NA\\\\\n",
       "\\end{tabular}\n"
      ],
      "text/markdown": [
       "\n",
       "A xtable: 16 × 6\n",
       "\n",
       "| <!--/--> | E(X|D=0) &lt;dbl&gt; | E(X|D=1) &lt;dbl&gt; | Difference &lt;dbl&gt; | s.e. &lt;dbl&gt; | p-value &lt;dbl&gt; | Abs. SB &lt;dbl&gt; |\n",
       "|---|---|---|---|---|---|---|\n",
       "| insured_earn | 4.937040e+03 | 4.724427e+03 | -2.126127e+02 | 31.414136903 |  1.305213e-11 |  9.82636699 |\n",
       "| contr_5y | 3.853628e+01 | 3.008768e+01 | -8.448604e+00 |  0.292102217 | 6.055999e-184 | 42.20783358 |\n",
       "| unempl_r | 2.722903e+00 | 2.757045e+00 |  3.414268e-02 |  0.018186399 |  6.046683e-02 |  2.72936691 |\n",
       "| sex_1 | 4.014125e-01 | 4.741655e-01 |  7.275298e-02 |  0.007193651 |  4.813392e-24 | 14.70335186 |\n",
       "| marits_1 | 4.505611e-01 | 3.515089e-01 | -9.905223e-02 |  0.007071652 |  1.413593e-44 | 20.31319897 |\n",
       "| swiss_1 | 5.705302e-01 | 5.707590e-01 |  2.288449e-04 |  0.007191081 |  9.746129e-01 |  0.04623033 |\n",
       "| agegr_1 | 3.204334e-01 | 3.382487e-01 |  1.781531e-02 |  0.006830437 |  9.101357e-03 |  3.79118133 |\n",
       "| agegr_2 | 2.962461e-01 | 2.910380e-01 | -5.208178e-03 |  0.006614924 |  4.310843e-01 |  1.14353251 |\n",
       "| agegr_3 | 2.379063e-01 | 2.254230e-01 | -1.248339e-02 |  0.006123806 |  4.149973e-02 |  2.95904794 |\n",
       "| agegr_4 | 1.454141e-01 | 1.452904e-01 | -1.237346e-04 |  0.005120379 |  9.807209e-01 |  0.03510459 |\n",
       "| educ_0 | 2.124613e-01 | 2.257659e-01 |  1.330459e-02 |  0.006014103 |  2.695067e-02 |  3.21666684 |\n",
       "| educ_1 | 5.991680e-01 | 5.510974e-01 | -4.807056e-02 |  0.007177419 |  2.120560e-11 |  9.73552900 |\n",
       "| educ_2 | 3.879644e-02 | 4.663923e-02 |  7.842792e-03 |  0.002947993 |  7.805180e-03 |  3.87886523 |\n",
       "| educ_3 | 1.485101e-01 | 1.752401e-01 |  2.672999e-02 |  0.005362463 |  6.207455e-07 |  7.26135267 |\n",
       "| full_time_1 | 7.646091e-01 | 6.880430e-01 | -7.656615e-02 |  0.006476804 |  3.019012e-32 | 17.23606698 |\n",
       "| Observations | 1.033600e+04 | 8.748000e+03 |            NA |           NA |            NA |          NA |\n",
       "\n"
      ],
      "text/plain": [
       "             E(X|D=0)     E(X|D=1)     Difference    s.e.         p-value      \n",
       "insured_earn 4.937040e+03 4.724427e+03 -2.126127e+02 31.414136903  1.305213e-11\n",
       "contr_5y     3.853628e+01 3.008768e+01 -8.448604e+00  0.292102217 6.055999e-184\n",
       "unempl_r     2.722903e+00 2.757045e+00  3.414268e-02  0.018186399  6.046683e-02\n",
       "sex_1        4.014125e-01 4.741655e-01  7.275298e-02  0.007193651  4.813392e-24\n",
       "marits_1     4.505611e-01 3.515089e-01 -9.905223e-02  0.007071652  1.413593e-44\n",
       "swiss_1      5.705302e-01 5.707590e-01  2.288449e-04  0.007191081  9.746129e-01\n",
       "agegr_1      3.204334e-01 3.382487e-01  1.781531e-02  0.006830437  9.101357e-03\n",
       "agegr_2      2.962461e-01 2.910380e-01 -5.208178e-03  0.006614924  4.310843e-01\n",
       "agegr_3      2.379063e-01 2.254230e-01 -1.248339e-02  0.006123806  4.149973e-02\n",
       "agegr_4      1.454141e-01 1.452904e-01 -1.237346e-04  0.005120379  9.807209e-01\n",
       "educ_0       2.124613e-01 2.257659e-01  1.330459e-02  0.006014103  2.695067e-02\n",
       "educ_1       5.991680e-01 5.510974e-01 -4.807056e-02  0.007177419  2.120560e-11\n",
       "educ_2       3.879644e-02 4.663923e-02  7.842792e-03  0.002947993  7.805180e-03\n",
       "educ_3       1.485101e-01 1.752401e-01  2.672999e-02  0.005362463  6.207455e-07\n",
       "full_time_1  7.646091e-01 6.880430e-01 -7.656615e-02  0.006476804  3.019012e-32\n",
       "Observations 1.033600e+04 8.748000e+03            NA           NA            NA\n",
       "             Abs. SB    \n",
       "insured_earn  9.82636699\n",
       "contr_5y     42.20783358\n",
       "unempl_r      2.72936691\n",
       "sex_1        14.70335186\n",
       "marits_1     20.31319897\n",
       "swiss_1       0.04623033\n",
       "agegr_1       3.79118133\n",
       "agegr_2       1.14353251\n",
       "agegr_3       2.95904794\n",
       "agegr_4       0.03510459\n",
       "educ_0        3.21666684\n",
       "educ_1        9.73552900\n",
       "educ_2        3.87886523\n",
       "educ_3        7.26135267\n",
       "full_time_1  17.23606698\n",
       "Observations          NA"
      ]
     },
     "metadata": {},
     "output_type": "display_data"
    }
   ],
   "source": [
    " # a selection of controls\n",
    "  x_desc<- cbind(insured_earn, contr_5y, unempl_r, sex_1,\n",
    "                 marits_1, swiss_1, agegr_1, \n",
    "                 agegr_2, agegr_3, agegr_4, \n",
    "                 educ_0, educ_1, educ_2, educ_3, full_time_1)\n",
    "  x_desc_names<- colnames(x_desc)\n",
    "  \n",
    "  # Define a function estimating the differences in variables across D\n",
    "  balance_check.model <- function(x){\n",
    "    \n",
    "    # Conditional means\n",
    "    mean_d0 <- mean(x[treat==0])\n",
    "    mean_d1 <- mean(x[treat==1])\n",
    "    \n",
    "    # Variances in subsamples\n",
    "    var_d0 <- var(x[treat==0])\n",
    "    var_d1 <- var(x[treat==1])\n",
    "    \n",
    "    # Difference in means\n",
    "    diff_d <- lm(x ~ treat)\n",
    "    cov <- vcovHC(diff_d, type = \"HC\")\n",
    "    robust.se <- sqrt(diag(cov))\n",
    "    \n",
    "    # Absolute standardized bias\n",
    "    sb <- abs((mean_d1-mean_d0)/sqrt((var_d0+var_d1)/2))*100\n",
    "    \n",
    "    # Store output as a list \n",
    "    list(mean_d0 = mean_d0, \n",
    "         mean_d1 = mean_d1,\n",
    "         diff_d = diff_d$coefficients[2], \n",
    "         robust.se = robust.se[2], \n",
    "         pval = 2*pnorm(-abs(diff_d$coefficients[2]/robust.se[2])),\n",
    "         SB = sb)             \n",
    "  }\n",
    "  \n",
    "  # Apply to selection (MARGIN = 2 to loop over columns)\n",
    "  diff_output <- apply(X = x_desc, MARGIN = 2, FUN = balance_check.model)\n",
    "  # Convert output in list format into a data frame \n",
    "  diff_output<-as.data.frame(rbindlist(diff_output))\n",
    "  \n",
    " # Add number of observations (don't forget the comma!)\n",
    "  obs <- c(nrow(data_reg[data_desc$treat==0,]), \n",
    "           nrow(data_desc[data_desc$treat==1,]), \n",
    "           NA, NA, NA, NA)\n",
    "  diff_output <- rbind(diff_output, obs)\n",
    "  \n",
    "  # Display in desired format\n",
    "  rownames(diff_output)<- c(x_desc_names, \"Observations\")\n",
    "  colnames(diff_output)<- c(\"E(X|D=0)\", \"E(X|D=1)\", \"Difference\", \"s.e.\", \n",
    "                            \"p-value\", \"Abs. SB\")\n",
    "  print(\"Difference in means by treatment status and standardized bias\")\n",
    "   \n",
    "  xtable(diff_output, digits=3) # (for latex or Jupyter)\n",
    "  "
   ]
  },
  {
   "cell_type": "markdown",
   "metadata": {},
   "source": [
    "---\n",
    "\n",
    "## 2. Parametric estimation: Linear regression analysis\n",
    "\n",
    "\n",
    "### Effect on unemployment duration\n",
    "\n",
    "We estimate the following specification using OLS \n",
    "\n",
    "$$Y_i=\\alpha+\\delta D_i+\\sum_{k=1}^K\\beta_kX_{i,k}+U_i$$\n",
    "\n",
    "where $Y_i$ is the outcome of interest, here the unemployment duration.\n",
    "\n"
   ]
  },
  {
   "cell_type": "code",
   "execution_count": 37,
   "metadata": {},
   "outputs": [
    {
     "data": {
      "text/plain": [
       "\u001b[4mMODEL INFO:\u001b[24m\n",
       "\u001b[3mObservations:\u001b[23m 19084\n",
       "\u001b[3mDependent Variable:\u001b[23m y1\n",
       "\u001b[3mType:\u001b[23m OLS linear regression \n",
       "\n",
       "\u001b[4mMODEL FIT:\u001b[24m\n",
       "\u001b[3mF\u001b[23m(50,19033) = 80.61, \u001b[3mp\u001b[23m = 0.00\n",
       "\u001b[3mR² = \u001b[23m0.17\n",
       "\u001b[3mAdj. R² = \u001b[23m0.17 \n",
       "\n",
       "\u001b[3mStandard errors:\u001b[23m Robust, \u001b[3mtype = \u001b[23mHC1\n",
       "--------------------------------------------------------\n",
       "                            Est.    S.E.   t val.      p\n",
       "---------------------- --------- ------- -------- ------\n",
       "(Intercept)               121.79    6.14    19.84   0.00\n",
       "treat                    -103.28    1.95   -52.92   0.00\n",
       "x1sex_1                    -2.18    2.58    -0.84   0.40\n",
       "x1marits_1                 14.11    2.51     5.63   0.00\n",
       "x1region_1                -13.76    6.04    -2.28   0.02\n",
       "x1region_2                -13.12    3.39    -3.87   0.00\n",
       "x1region_3                -14.66    4.10    -3.58   0.00\n",
       "x1region_4                -25.49    4.73    -5.39   0.00\n",
       "x1region_5                 -7.92    3.60    -2.20   0.03\n",
       "x1region_7                  5.57   10.01     0.56   0.58\n",
       "x1swiss_0                  16.12    2.50     6.46   0.00\n",
       "x1educ_0                   -0.84    3.28    -0.26   0.80\n",
       "x1educ_2                  -12.84    4.81    -2.67   0.01\n",
       "x1educ_3                   -3.24    3.56    -0.91   0.36\n",
       "x1educ_99                  36.31   28.21     1.29   0.20\n",
       "x1full_time_0               1.23    2.55     0.48   0.63\n",
       "x1lastj_occpt_1            -5.46    6.10    -0.89   0.37\n",
       "x1lastj_occpt_10           13.98    4.16     3.36   0.00\n",
       "x1lastj_occpt_11           24.89    6.88     3.62   0.00\n",
       "x1lastj_occpt_12           23.63    6.41     3.69   0.00\n",
       "x1lastj_occpt_14           26.22    6.70     3.92   0.00\n",
       "x1lastj_occpt_15           14.98    6.04     2.48   0.01\n",
       "x1lastj_occpt_16           26.63    4.79     5.56   0.00\n",
       "x1lastj_occpt_17           10.70    9.21     1.16   0.25\n",
       "x1lastj_occpt_18           32.15    8.81     3.65   0.00\n",
       "x1lastj_occpt_19            6.99    7.48     0.93   0.35\n",
       "x1lastj_occpt_2             1.55   10.65     0.15   0.88\n",
       "x1lastj_occpt_20           41.91   10.24     4.09   0.00\n",
       "x1lastj_occpt_21           32.24    9.67     3.33   0.00\n",
       "x1lastj_occpt_22           -0.95    5.50    -0.17   0.86\n",
       "x1lastj_occpt_23           33.45    5.92     5.65   0.00\n",
       "x1lastj_occpt_3            19.99    4.56     4.39   0.00\n",
       "x1lastj_occpt_4             7.76   11.25     0.69   0.49\n",
       "x1lastj_occpt_5            34.51   19.46     1.77   0.08\n",
       "x1lastj_occpt_6            18.02   16.55     1.09   0.28\n",
       "x1lastj_occpt_7           -15.62   14.95    -1.04   0.30\n",
       "x1lastj_occpt_8             7.90    6.06     1.30   0.19\n",
       "x1lastj_occpt_9            -9.58    4.23    -2.26   0.02\n",
       "x1lastj_fct_0              -7.94   28.80    -0.28   0.78\n",
       "x1lastj_fct_1              -6.57    5.39    -1.22   0.22\n",
       "x1lastj_fct_3               0.63    5.76     0.11   0.91\n",
       "x1lastj_fct_99             11.12    2.89     3.84   0.00\n",
       "x1agegr_2                  21.22    2.78     7.63   0.00\n",
       "x1agegr_3                  34.95    3.22    10.84   0.00\n",
       "x1agegr_4                  48.24    3.89    12.40   0.00\n",
       "x1insured_earn             -0.00    0.00    -2.42   0.02\n",
       "x1contr_5y                  0.85    0.05    17.40   0.00\n",
       "x1unempl_r                  8.42    1.76     4.79   0.00\n",
       "x1quarter_1                 6.62    2.79     2.38   0.02\n",
       "x1quarter_2                10.25    2.99     3.43   0.00\n",
       "x1quarter_3                16.22    2.93     5.53   0.00\n",
       "--------------------------------------------------------"
      ]
     },
     "metadata": {},
     "output_type": "display_data"
    }
   ],
   "source": [
    "# Linear model (OLS)\n",
    "lm.model.dur <- lm(y1 ~ treat + x1)\n",
    "\n",
    "# summ command in the jtools package directly calculates heteroskedasticity robust SEs\n",
    "lm.model.out.dur <-summ(lm.model.dur, robust = \"HC1\")\n",
    "lm.model.out.dur\n",
    "\n",
    "# store robust standard error\n",
    "robust.se.dur <- lm.model.out.dur$coeftable[,2]"
   ]
  },
  {
   "cell_type": "markdown",
   "metadata": {},
   "source": [
    "### Effect on the probability of finding a job within one year after program start"
   ]
  },
  {
   "cell_type": "markdown",
   "metadata": {},
   "source": [
    "Due to the binary nature of the variable, we estimate a probit model:\n",
    "\n",
    "$$Pr(Y = 1|X = x) = \\Phi ( \\alpha + \\delta D_i +\\sum_{k=1}^K\\beta_kX_{i,k})$$\n",
    "\n",
    "and compute the corresponding marginal effects at the mean value of other observable characteristics."
   ]
  },
  {
   "cell_type": "code",
   "execution_count": 38,
   "metadata": {},
   "outputs": [
    {
     "data": {
      "text/plain": [
       "Call:\n",
       "probitmfx(formula = y2 ~ treat + x1, data = data_reg, atmean = TRUE, \n",
       "    robust = TRUE)\n",
       "\n",
       "Marginal Effects:\n",
       "                       dF/dx   Std. Err.        z     P>|z|    \n",
       "treat             1.5107e-01  3.8391e-03  39.3505 < 2.2e-16 ***\n",
       "x1sex_1          -4.3522e-03  3.7286e-03  -1.1672 0.2431102    \n",
       "x1marits_1       -1.6755e-02  3.5651e-03  -4.6997 2.606e-06 ***\n",
       "x1region_1        1.0590e-02  7.1691e-03   1.4772 0.1396138    \n",
       "x1region_2        1.4107e-02  4.2329e-03   3.3326 0.0008604 ***\n",
       "x1region_3        1.0553e-02  4.9224e-03   2.1439 0.0320372 *  \n",
       "x1region_4        2.3955e-02  4.7659e-03   5.0264 4.998e-07 ***\n",
       "x1region_5        7.3112e-03  4.6916e-03   1.5584 0.1191499    \n",
       "x1region_7       -6.2289e-03  1.2619e-02  -0.4936 0.6215931    \n",
       "x1swiss_0        -1.6368e-02  3.6130e-03  -4.5304 5.888e-06 ***\n",
       "x1educ_0          1.1592e-03  4.4164e-03   0.2625 0.7929521    \n",
       "x1educ_2          2.0491e-02  5.5987e-03   3.6599 0.0002523 ***\n",
       "x1educ_3          9.9470e-03  4.5711e-03   2.1761 0.0295512 *  \n",
       "x1educ_99        -6.1449e-02  6.2585e-02  -0.9819 0.3261712    \n",
       "x1full_time_0     2.1574e-03  3.8029e-03   0.5673 0.5705095    \n",
       "x1lastj_occpt_1   1.3155e-03  1.1153e-02   0.1179 0.9061128    \n",
       "x1lastj_occpt_10 -1.2364e-02  7.1701e-03  -1.7244 0.0846314 .  \n",
       "x1lastj_occpt_11 -2.6362e-02  1.1857e-02  -2.2233 0.0261984 *  \n",
       "x1lastj_occpt_12 -2.8977e-02  1.2623e-02  -2.2955 0.0217020 *  \n",
       "x1lastj_occpt_14 -2.3748e-02  1.1283e-02  -2.1047 0.0353198 *  \n",
       "x1lastj_occpt_15 -1.9761e-02  1.0699e-02  -1.8470 0.0647399 .  \n",
       "x1lastj_occpt_16 -3.9965e-02  9.5638e-03  -4.1788 2.931e-05 ***\n",
       "x1lastj_occpt_17 -2.0163e-02  1.8077e-02  -1.1154 0.2646680    \n",
       "x1lastj_occpt_18 -5.4820e-02  2.1326e-02  -2.5705 0.0101543 *  \n",
       "x1lastj_occpt_19 -1.8863e-02  1.5510e-02  -1.2162 0.2239043    \n",
       "x1lastj_occpt_2  -5.4026e-03  1.6916e-02  -0.3194 0.7494453    \n",
       "x1lastj_occpt_20 -5.1128e-02  1.9952e-02  -2.5625 0.0103924 *  \n",
       "x1lastj_occpt_21 -4.1171e-02  2.2268e-02  -1.8489 0.0644770 .  \n",
       "x1lastj_occpt_22  8.5808e-03  8.0775e-03   1.0623 0.2880966    \n",
       "x1lastj_occpt_23 -4.2987e-02  1.1776e-02  -3.6505 0.0002618 ***\n",
       "x1lastj_occpt_3  -2.7682e-02  7.9398e-03  -3.4865 0.0004894 ***\n",
       "x1lastj_occpt_4   3.5608e-03  1.5522e-02   0.2294 0.8185489    \n",
       "x1lastj_occpt_5  -3.9391e-02  3.2753e-02  -1.2027 0.2291056    \n",
       "x1lastj_occpt_6  -1.3663e-02  3.2279e-02  -0.4233 0.6720812    \n",
       "x1lastj_occpt_7   9.1621e-03  2.2607e-02   0.4053 0.6852686    \n",
       "x1lastj_occpt_8  -1.0697e-02  1.0532e-02  -1.0156 0.3098001    \n",
       "x1lastj_occpt_9   9.9753e-03  5.9732e-03   1.6700 0.0949148 .  \n",
       "x1lastj_fct_0    -1.2214e-02  4.2594e-02  -0.2867 0.7743044    \n",
       "x1lastj_fct_1     5.3626e-03  6.7927e-03   0.7895 0.4298407    \n",
       "x1lastj_fct_3     9.7992e-03  9.9432e-03   0.9855 0.3243725    \n",
       "x1lastj_fct_99   -1.1809e-02  4.3077e-03  -2.7413 0.0061204 ** \n",
       "x1agegr_2        -2.5866e-02  5.1625e-03  -5.0103 5.435e-07 ***\n",
       "x1agegr_3        -4.4740e-02  6.5401e-03  -6.8409 7.869e-12 ***\n",
       "x1agegr_4        -6.7878e-02  8.7411e-03  -7.7653 8.144e-15 ***\n",
       "x1insured_earn    8.4616e-07  9.6581e-07   0.8761 0.3809660    \n",
       "x1contr_5y       -1.1598e-03  8.3509e-05 -13.8886 < 2.2e-16 ***\n",
       "x1unempl_r       -8.0405e-03  2.2801e-03  -3.5264 0.0004213 ***\n",
       "x1quarter_1      -1.6010e-02  4.6865e-03  -3.4163 0.0006348 ***\n",
       "x1quarter_2      -2.0090e-02  5.0600e-03  -3.9702 7.180e-05 ***\n",
       "x1quarter_3      -2.5216e-02  4.9637e-03  -5.0802 3.771e-07 ***\n",
       "---\n",
       "Signif. codes:  0 '***' 0.001 '**' 0.01 '*' 0.05 '.' 0.1 ' ' 1\n",
       "\n",
       "dF/dx is for discrete change for the following variables:\n",
       "\n",
       " [1] \"treat\"            \"x1sex_1\"          \"x1marits_1\"       \"x1region_1\"      \n",
       " [5] \"x1region_2\"       \"x1region_3\"       \"x1region_4\"       \"x1region_5\"      \n",
       " [9] \"x1region_7\"       \"x1swiss_0\"        \"x1educ_0\"         \"x1educ_2\"        \n",
       "[13] \"x1educ_3\"         \"x1educ_99\"        \"x1full_time_0\"    \"x1lastj_occpt_1\" \n",
       "[17] \"x1lastj_occpt_10\" \"x1lastj_occpt_11\" \"x1lastj_occpt_12\" \"x1lastj_occpt_14\"\n",
       "[21] \"x1lastj_occpt_15\" \"x1lastj_occpt_16\" \"x1lastj_occpt_17\" \"x1lastj_occpt_18\"\n",
       "[25] \"x1lastj_occpt_19\" \"x1lastj_occpt_2\"  \"x1lastj_occpt_20\" \"x1lastj_occpt_21\"\n",
       "[29] \"x1lastj_occpt_22\" \"x1lastj_occpt_23\" \"x1lastj_occpt_3\"  \"x1lastj_occpt_4\" \n",
       "[33] \"x1lastj_occpt_5\"  \"x1lastj_occpt_6\"  \"x1lastj_occpt_7\"  \"x1lastj_occpt_8\" \n",
       "[37] \"x1lastj_occpt_9\"  \"x1lastj_fct_0\"    \"x1lastj_fct_1\"    \"x1lastj_fct_3\"   \n",
       "[41] \"x1lastj_fct_99\"   \"x1agegr_2\"        \"x1agegr_3\"        \"x1agegr_4\"       \n",
       "[45] \"x1quarter_1\"      \"x1quarter_2\"      \"x1quarter_3\"     "
      ]
     },
     "metadata": {},
     "output_type": "display_data"
    }
   ],
   "source": [
    "# Probit model \n",
    "probit.model <- glm(y2 ~ treat + x1, \n",
    "                    family = binomial(link = \"probit\") )\n",
    "\n",
    "probit.model.out <-summ(probit.model, , robust = \"HC1\")\n",
    "robust.se.probit <- probit.model.out$coeftable[,2]\n",
    "\n",
    "# Marginal effect\n",
    "probit.model.me <- probitmfx(y2 ~ treat + x1, data=data_reg, \n",
    "                            atmean = TRUE, robust = TRUE)\n",
    "\n",
    "probit.model.me"
   ]
  },
  {
   "cell_type": "code",
   "execution_count": 39,
   "metadata": {
    "scrolled": true
   },
   "outputs": [
    {
     "name": "stdout",
     "output_type": "stream",
     "text": [
      "\n",
      "=========================================\n",
      "                 Dependent variable:     \n",
      "             ----------------------------\n",
      "                   OLS          probit   \n",
      "                Duration        Emply1   \n",
      "                   (1)           (2)     \n",
      "-----------------------------------------\n",
      "treat          -103.276***     0.151***  \n",
      "                 (1.951)       (0.004)   \n",
      "                                         \n",
      "-----------------------------------------\n",
      "Observations     19,084         19,084   \n",
      "R2                0.175                  \n",
      "=========================================\n",
      "Note:         *p<0.1; **p<0.05; ***p<0.01\n"
     ]
    }
   ],
   "source": [
    "# Collect effects estimates in a table\n",
    "stargazer(lm.model.dur, probit.model.me$fit, \n",
    "          coef = list(NULL, probit.model.me$mfxest[,1]), \n",
    "          se=list(robust.se.dur, probit.model.me$mfxest[,2]), \n",
    "          keep=c(\"treat\"), \n",
    "          keep.stat = c(\"n\", \"rsq\"), \n",
    "          type =\"text\", \n",
    "          column.labels=c(\"Duration\",\"Emply1\"), \n",
    "          align=TRUE, \n",
    "          dep.var.labels.include = FALSE)"
   ]
  },
  {
   "cell_type": "markdown",
   "metadata": {},
   "source": [
    "Could we relax the assumption of effect homogeneity here?"
   ]
  },
  {
   "cell_type": "markdown",
   "metadata": {},
   "source": [
    "---\n",
    "\n",
    "## 3. Semiparametric estimation: General procedure\n",
    "\n",
    "1. Choose covariates to enter in the p-score model \n",
    "2. Estimate the treatment probability $Pr(D = 1|X = x)$ parametrically using a probit or logit model.\n",
    "3. Predict the treatment probability, i.e. compute the propensity score (p-score), $p(X_i)$.\n",
    "4. Check for overlap (common support) in p-score across treated and control groups, and possibly trim observations with no overlap.\n",
    "5. Choose an effect of interest (e.g. ATET) and a semiparametric estimator (e.g. IPW, nearest-neighbour matching, radius matching, etc.), and compute the corresponding weights using the p-score.\n",
    "6. For inference, bootstrap everything (often directly available as an option in packages).\n",
    "7. Check for changes in considered population and balancedness in covariates.\n",
    "\n",
    "\n",
    "### 1. Choose covariates to enter in the propensity score model \n",
    "\n",
    "* Need to understand the mechanisms that determine selection into treatment (see discussion on identifying assumptions).\n",
    "\n",
    "* Once you have gathered the relevant covariates, can use omitted variable tests or machine learning methods to specify full propensity score model. \n",
    "\n",
    "* Can make it more flexible, e.g. by including interaction terms.\n",
    "\n",
    "* This can be an iterative process.\n",
    "\n",
    "Here, use covariates as they are and go straight to step 2.\n",
    "\n",
    "\n",
    "### 2. Estimate the propensity score model \n",
    "\n",
    "Parametrically, using a probit model\n",
    "\n",
    "$$Pr(D=1|X=x)=\\Phi(\\alpha+\\sum_{k=1} ^K\\beta_kX_{k,i})$$ "
   ]
  },
  {
   "cell_type": "code",
   "execution_count": 40,
   "metadata": {},
   "outputs": [
    {
     "data": {
      "text/plain": [
       "\u001b[4mMODEL INFO:\u001b[24m\n",
       "\u001b[3mObservations:\u001b[23m 19084\n",
       "\u001b[3mDependent Variable:\u001b[23m treat\n",
       "\u001b[3mType:\u001b[23m Generalized linear model\n",
       "  \u001b[3mFamily:\u001b[23m binomial \n",
       "  \u001b[3mLink function:\u001b[23m probit \n",
       "\n",
       "\u001b[4mMODEL FIT:\u001b[24m\n",
       "<U+03C7>²(49) = 1474.53, \u001b[3mp\u001b[23m = 0.00\n",
       "\u001b[3mPseudo-R² (Cragg-Uhler)\u001b[23m = 0.10\n",
       "\u001b[3mPseudo-R² (McFadden)\u001b[23m = 0.06\n",
       "\u001b[3mAIC\u001b[23m = 24949.22, \u001b[3mBIC\u001b[23m = 25342.05 \n",
       "\n",
       "\u001b[3mStandard errors:\u001b[23m Robust, \u001b[3mtype = \u001b[23mHC1\n",
       "-----------------------------------------------------\n",
       "                          Est.   S.E.   z val.      p\n",
       "---------------------- ------- ------ -------- ------\n",
       "(Intercept)               0.27   0.05     4.94   0.00\n",
       "x1sex_1                   0.15   0.02     6.33   0.00\n",
       "x1marits_1               -0.31   0.02   -14.75   0.00\n",
       "x1region_1                0.08   0.05     1.48   0.14\n",
       "x1region_2               -0.04   0.03    -1.10   0.27\n",
       "x1region_3               -0.00   0.04    -0.13   0.89\n",
       "x1region_4                0.02   0.04     0.51   0.61\n",
       "x1region_5               -0.05   0.03    -1.41   0.16\n",
       "x1region_7               -0.14   0.08    -1.78   0.08\n",
       "x1swiss_0                -0.02   0.02    -0.90   0.37\n",
       "x1educ_0                  0.11   0.03     3.87   0.00\n",
       "x1educ_2                  0.26   0.05     5.36   0.00\n",
       "x1educ_3                  0.22   0.03     6.73   0.00\n",
       "x1educ_99                 0.27   0.30     0.90   0.37\n",
       "x1full_time_0             0.27   0.02    11.65   0.00\n",
       "x1lastj_occpt_1           0.10   0.06     1.63   0.10\n",
       "x1lastj_occpt_10         -0.03   0.04    -0.69   0.49\n",
       "x1lastj_occpt_11          0.00   0.06     0.03   0.97\n",
       "x1lastj_occpt_12         -0.05   0.06    -0.86   0.39\n",
       "x1lastj_occpt_14          0.02   0.06     0.36   0.72\n",
       "x1lastj_occpt_15         -0.02   0.05    -0.36   0.72\n",
       "x1lastj_occpt_16         -0.05   0.04    -1.20   0.23\n",
       "x1lastj_occpt_17         -0.04   0.09    -0.46   0.64\n",
       "x1lastj_occpt_18          0.07   0.08     0.88   0.38\n",
       "x1lastj_occpt_19          0.03   0.07     0.45   0.65\n",
       "x1lastj_occpt_2           0.10   0.10     1.00   0.32\n",
       "x1lastj_occpt_20         -0.08   0.08    -1.03   0.30\n",
       "x1lastj_occpt_21          0.04   0.09     0.44   0.66\n",
       "x1lastj_occpt_22          0.02   0.05     0.43   0.67\n",
       "x1lastj_occpt_23         -0.02   0.05    -0.42   0.68\n",
       "x1lastj_occpt_3          -0.09   0.04    -2.23   0.03\n",
       "x1lastj_occpt_4           0.03   0.11     0.23   0.82\n",
       "x1lastj_occpt_5           0.03   0.16     0.22   0.83\n",
       "x1lastj_occpt_6           0.16   0.14     1.11   0.27\n",
       "x1lastj_occpt_7          -0.03   0.15    -0.20   0.84\n",
       "x1lastj_occpt_8           0.01   0.06     0.10   0.92\n",
       "x1lastj_occpt_9          -0.04   0.04    -0.96   0.34\n",
       "x1lastj_fct_0             0.23   0.25     0.92   0.36\n",
       "x1lastj_fct_1            -0.04   0.05    -0.76   0.45\n",
       "x1lastj_fct_3            -0.03   0.06    -0.48   0.63\n",
       "x1lastj_fct_99            0.01   0.03     0.60   0.55\n",
       "x1agegr_2                 0.05   0.03     1.83   0.07\n",
       "x1agegr_3                 0.06   0.03     2.04   0.04\n",
       "x1agegr_4                 0.13   0.03     4.15   0.00\n",
       "x1insured_earn            0.00   0.00     0.75   0.46\n",
       "x1contr_5y               -0.01   0.00   -29.30   0.00\n",
       "x1unempl_r                0.00   0.02     0.24   0.81\n",
       "x1quarter_1              -0.02   0.03    -0.62   0.53\n",
       "x1quarter_2              -0.03   0.03    -1.00   0.32\n",
       "x1quarter_3              -0.03   0.03    -1.15   0.25\n",
       "-----------------------------------------------------"
      ]
     },
     "metadata": {},
     "output_type": "display_data"
    }
   ],
   "source": [
    "# Estimate the p-score model\n",
    "pscore.model <- glm(treat ~ x1, family = binomial(link = \"probit\"))\n",
    "summ(pscore.model, robust = \"HC1\")"
   ]
  },
  {
   "cell_type": "markdown",
   "metadata": {},
   "source": [
    "### 3. Predict the treatment probability, i.e. compute the p-score, $p(X_i)$ "
   ]
  },
  {
   "cell_type": "code",
   "execution_count": 41,
   "metadata": {},
   "outputs": [
    {
     "data": {
      "text/plain": [
       "   Min. 1st Qu.  Median    Mean 3rd Qu.    Max. \n",
       " 0.1593  0.3535  0.4511  0.4585  0.5585  0.8654 "
      ]
     },
     "metadata": {},
     "output_type": "display_data"
    }
   ],
   "source": [
    "data_reg$pscore <- pscore.model$fitted.values \n",
    "summary(data_reg$pscore)"
   ]
  },
  {
   "cell_type": "markdown",
   "metadata": {},
   "source": [
    "### 4. Check for overlap (common support) in p-score across treated and control groups"
   ]
  },
  {
   "cell_type": "code",
   "execution_count": 42,
   "metadata": {},
   "outputs": [
    {
     "data": {
      "image/png": "[encoded data removed]",
      "text/plain": [
       "plot without title"
      ]
     },
     "metadata": {
      "image/png": {
       "height": 420,
       "width": 420
      }
     },
     "output_type": "display_data"
    }
   ],
   "source": [
    "# Create a factor variable for treatment status for the plot\n",
    "data_reg$treat_f <- factor(treat, \n",
    "                           levels = c(0,1), \n",
    "                           label = c(\"D=0\", \"D=1\")) \n",
    "\n",
    "# Density plot for the propensity score by treatment status\n",
    "ggplot(data_reg, aes(x = pscore, fill = treat_f)) + \n",
    "    geom_density(alpha=0.4) + \n",
    "    scale_fill_grey()+ \n",
    "    theme_bw(base_size = 20) +\n",
    "    xlim(0, 1)"
   ]
  },
  {
   "cell_type": "markdown",
   "metadata": {},
   "source": [
    "### Enforce common support: Trim observations with no overlap\n",
    "\n",
    "When estimating the ATET, we want to keep treated observations that have comparable controls. "
   ]
  },
  {
   "cell_type": "code",
   "execution_count": 43,
   "metadata": {},
   "outputs": [
    {
     "name": "stdout",
     "output_type": "stream",
     "text": [
      "[1] \"Sample size before imposing common support \"\n"
     ]
    },
    {
     "data": {
      "text/html": [
       "19084"
      ],
      "text/latex": [
       "19084"
      ],
      "text/markdown": [
       "19084"
      ],
      "text/plain": [
       "[1] 19084"
      ]
     },
     "metadata": {},
     "output_type": "display_data"
    }
   ],
   "source": [
    "print(\"Sample size before imposing common support \")\n",
    "nrow(data_reg)"
   ]
  },
  {
   "cell_type": "code",
   "execution_count": 44,
   "metadata": {},
   "outputs": [
    {
     "name": "stdout",
     "output_type": "stream",
     "text": [
      "[1] \"Maximum p-score in control group\"\n"
     ]
    },
    {
     "data": {
      "text/html": [
       "0.850624044794858"
      ],
      "text/latex": [
       "0.850624044794858"
      ],
      "text/markdown": [
       "0.850624044794858"
      ],
      "text/plain": [
       "[1] 0.850624"
      ]
     },
     "metadata": {},
     "output_type": "display_data"
    }
   ],
   "source": [
    "# Trim treated observations with a pscore above the maximum of the controls\n",
    "pscore_max0 <-max(data_reg$pscore[treat==0])\n",
    "\n",
    "print(\"Maximum p-score in control group\")\n",
    "pscore_max0"
   ]
  },
  {
   "cell_type": "code",
   "execution_count": 45,
   "metadata": {},
   "outputs": [
    {
     "name": "stdout",
     "output_type": "stream",
     "text": [
      "[1] \"Sample size after imposing common support \"\n"
     ]
    },
    {
     "data": {
      "text/html": [
       "19076"
      ],
      "text/latex": [
       "19076"
      ],
      "text/markdown": [
       "19076"
      ],
      "text/plain": [
       "[1] 19076"
      ]
     },
     "metadata": {},
     "output_type": "display_data"
    }
   ],
   "source": [
    "# Dummy for being in estimation sample \n",
    "insample<- ifelse(data_reg$pscore <= pscore_max0 # trimming for ATET\n",
    "                  & data_reg$pscore != 0 # non-treatment not perfectly predicted\n",
    "                  & data_reg$pscore != 1 # treatment not perfectly predicted\n",
    "                  & !is.na(data_reg$pscore) # p-score non-missing \n",
    "                  , 1, 0) # if all conditions true = 1 \n",
    "\n",
    "print(\"Sample size after imposing common support \")\n",
    "sum(insample)"
   ]
  },
  {
   "cell_type": "markdown",
   "metadata": {},
   "source": [
    "Note: If estimate ATE, you should impose additional trimming on the lower end of the p-score distribution."
   ]
  },
  {
   "cell_type": "code",
   "execution_count": 46,
   "metadata": {},
   "outputs": [
    {
     "name": "stdout",
     "output_type": "stream",
     "text": [
      "[1] \"Minimum p-score in treated group\"\n"
     ]
    },
    {
     "data": {
      "text/html": [
       "0.168795495299198"
      ],
      "text/latex": [
       "0.168795495299198"
      ],
      "text/markdown": [
       "0.168795495299198"
      ],
      "text/plain": [
       "[1] 0.1687955"
      ]
     },
     "metadata": {},
     "output_type": "display_data"
    }
   ],
   "source": [
    "# Trim control observations with pscore below the minimum of the treated \n",
    "pscore_min1 <-min(data_reg$pscore[treat==1])\n",
    "\n",
    "print(\"Minimum p-score in treated group\")\n",
    "pscore_min1\n",
    "\n",
    "# Add the following condition for the estimation sample\n",
    "# & ((data_reg$pscore>pscore_min1) | (data_reg$pscore<pscore_max0)) "
   ]
  },
  {
   "cell_type": "code",
   "execution_count": 47,
   "metadata": {},
   "outputs": [],
   "source": [
    "# Store a new data frame with the relevant sample \n",
    "data_ipw <- dplyr::filter(data_reg, insample ==1)"
   ]
  },
  {
   "cell_type": "code",
   "execution_count": 48,
   "metadata": {},
   "outputs": [],
   "source": [
    "# redefine variables for the IPW estimation sample \n",
    "y1_ipw <- y1[insample==1]\n",
    "treat_ipw <- treat[insample==1]\n",
    "x1_ipw <- x1[insample==1,] # need comma here, matrix and not vector"
   ]
  },
  {
   "cell_type": "markdown",
   "metadata": {},
   "source": [
    "The population might change if a lot of observations are dropped, so check again how the characteristics of your estimation sample compare to the initial sample."
   ]
  },
  {
   "cell_type": "markdown",
   "metadata": {},
   "source": [
    "### 5. Choose the effect of interest and a semiparametric estimator, and compute the corresponding weights using the p-score\n",
    "\n",
    "#### Say we want to estimate the average treatment effect on the treated (ATET)\n",
    "\n",
    "$$ \\text{ATET} = \\sum_{i=1}^N\\frac{D_iY_i}{\\sum_{i=1}^N D_i} - \\sum_{i=1}^N\\frac{(1-D_i)w(X_i)Y_i}{\\sum_{i=1}^N(1-D_i)w(X_i)}$$\n",
    "\n",
    "The first term is directly observed, we want to estimate the second one (counterfactual). \n",
    "\n",
    "Reweigh the control group to be like the treated group. \n",
    "\n",
    "#### .... using inverse probability weighting (IPW)\n",
    "\n",
    "Since we have the p-score, we can compute the IPW weights for the ATET\n",
    "\n",
    "$$w(X_i)=\\frac{p(X_i)}{1-p(X_i)}$$\n",
    "\n",
    "First, we compute the IPW estimator manually for illustration."
   ]
  },
  {
   "cell_type": "code",
   "execution_count": 49,
   "metadata": {},
   "outputs": [],
   "source": [
    "# Create the weights\n",
    "data_ipw$weight[treat_ipw==1] <- 1\n",
    "data_ipw$weight[treat_ipw==0] <- data_ipw$pscore[treat_ipw==0]/\n",
    "                                (1-data_ipw$pscore)[treat_ipw==0]\n",
    "weight <- data_ipw$weight"
   ]
  },
  {
   "cell_type": "code",
   "execution_count": 50,
   "metadata": {},
   "outputs": [
    {
     "name": "stdout",
     "output_type": "stream",
     "text": [
      "[1] \"Effect on unemployment duration based on IPW (ATET)\"\n"
     ]
    },
    {
     "data": {
      "text/html": [
       "-97.6351779267115"
      ],
      "text/latex": [
       "-97.6351779267115"
      ],
      "text/markdown": [
       "-97.6351779267115"
      ],
      "text/plain": [
       "[1] -97.63518"
      ]
     },
     "metadata": {},
     "output_type": "display_data"
    }
   ],
   "source": [
    "# Compute the ATET\n",
    "Y1<-sum(y1_ipw*treat_ipw)/sum(treat_ipw)\n",
    "Y0<-sum(y1_ipw*(1-treat_ipw)*weight)/sum((1-treat_ipw)*weight)\n",
    "ipw_atet_manual <- Y1-Y0\n",
    "\n",
    "print(\"Effect on unemployment duration based on IPW (ATET)\")\n",
    "ipw_atet_manual"
   ]
  },
  {
   "cell_type": "markdown",
   "metadata": {},
   "source": [
    "Remarks\n",
    "\n",
    "* Weights can become very large if $1 - p(X_i)$ is very small, which implies that these control observations have a strong impact on the estimate.\n",
    "* Trimming large weights (define maximum acceptable weight) improves the stability of the estimate. \n",
    "* Inference is done using bootstrapping (e.g. manually, using a function as created in Session 1). \n",
    "\n",
    "\n",
    "Fortunately, the `causalweight` package does some of this automatically (but a bit of a black box, e.g. does not show you common support plots). \n",
    "* Can estimate ATE or ATET\n",
    "* P-score trimming can be specified as well depending on the estimated effect\n",
    "    * If estimate ATE (option `ATET = FALSE` is specified), observations with $Pr(D=1|X)<trim$ or $Pr(D=1|X)>(1-trim)$ are dropped (symmetric trimming based on specified `trim` value).\n",
    "    * If estimate ATET (option `ATET = TRUE` is speficied), observations with $Pr(D=1|X)>(1-trim)$ are dropped.\n",
    "    * Can trim manually and implement the command on the trimmed sample. \n",
    "* Bootstrap is done within the package (can be clustered).\n",
    "* For more details, see \n",
    "    https://cran.r-project.org/web/packages/causalweight/causalweight.pdf\n"
   ]
  },
  {
   "cell_type": "code",
   "execution_count": 51,
   "metadata": {},
   "outputs": [
    {
     "data": {
      "text/html": [
       "<dl>\n",
       "\t<dt>$effect</dt>\n",
       "\t\t<dd>-97.6351779267115</dd>\n",
       "\t<dt>$se</dt>\n",
       "\t\t<dd>1.12638109529707</dd>\n",
       "\t<dt>$pval</dt>\n",
       "\t\t<dd>0</dd>\n",
       "\t<dt>$y1</dt>\n",
       "\t\t<dd>103.103775743707</dd>\n",
       "\t<dt>$y0</dt>\n",
       "\t\t<dd>200.738953670419</dd>\n",
       "\t<dt>$ntrimmed</dt>\n",
       "\t\t<dd>8</dd>\n",
       "</dl>\n"
      ],
      "text/latex": [
       "\\begin{description}\n",
       "\\item[\\$effect] -97.6351779267115\n",
       "\\item[\\$se] 1.12638109529707\n",
       "\\item[\\$pval] 0\n",
       "\\item[\\$y1] 103.103775743707\n",
       "\\item[\\$y0] 200.738953670419\n",
       "\\item[\\$ntrimmed] 8\n",
       "\\end{description}\n"
      ],
      "text/markdown": [
       "$effect\n",
       ":   -97.6351779267115\n",
       "$se\n",
       ":   1.12638109529707\n",
       "$pval\n",
       ":   0\n",
       "$y1\n",
       ":   103.103775743707\n",
       "$y0\n",
       ":   200.738953670419\n",
       "$ntrimmed\n",
       ":   8\n",
       "\n",
       "\n"
      ],
      "text/plain": [
       "$effect\n",
       "[1] -97.63518\n",
       "\n",
       "$se\n",
       "[1] 1.126381\n",
       "\n",
       "$pval\n",
       "[1] 0\n",
       "\n",
       "$y1\n",
       "[1] 103.1038\n",
       "\n",
       "$y0\n",
       "[1] 200.739\n",
       "\n",
       "$ntrimmed\n",
       "[1] 8\n"
      ]
     },
     "metadata": {},
     "output_type": "display_data"
    }
   ],
   "source": [
    "# IPW - Estimating the ATET based on the causalweight package\n",
    "ipw_atet <- treatweight(y = y1, # take initial data \n",
    "                        d = treat, \n",
    "                        x = x1, \n",
    "                        ATET = TRUE, # if = FALSE, estimates ATE (default)\n",
    "                        trim = (1-pscore_max0), # depends on estimated effect\n",
    "                        boot = 2) # number of bootstrap replications\n",
    "ipw_atet"
   ]
  },
  {
   "cell_type": "markdown",
   "metadata": {},
   "source": [
    "### 6. For inference, bootstrap everything\n",
    "\n",
    "Just ran it with 2 replication as an example (minimum for the package to work), because it takes a while. \n",
    "\n",
    "Rerun the code above, specifying a higher number of bootstrap replications (e.g. 199) and see for yourself. "
   ]
  },
  {
   "cell_type": "markdown",
   "metadata": {},
   "source": [
    "### 7. Check for changes in estimation sample and balancedness in covariates after reweighting\n",
    "\n",
    "Add the `weight` option in the computation of the difference."
   ]
  },
  {
   "cell_type": "code",
   "execution_count": 52,
   "metadata": {},
   "outputs": [
    {
     "name": "stdout",
     "output_type": "stream",
     "text": [
      "[1] \"Differences in X between control and treatment group after reweighting\"\n"
     ]
    },
    {
     "data": {
      "text/html": [
       "<!-- html table generated in R 4.0.3 by xtable 1.8-4 package --><!-- Thu Oct 14 17:59:26 2021 --><table border=1><tr> <th>  </th> <th> diff </th> <th> robust.se </th> <th> pval </th> <th> SB </th>  </tr>  <tr> <td align=\"right\"> sex_1 </td> <td align=\"right\"> 0.012 </td> <td align=\"right\"> 0.008 </td> <td align=\"right\"> 0.116 </td> <td align=\"right\"> 2.462 </td> </tr>  <tr> <td align=\"right\"> marits_1 </td> <td align=\"right\"> -0.011 </td> <td align=\"right\"> 0.008 </td> <td align=\"right\"> 0.156 </td> <td align=\"right\"> 2.284 </td> </tr>  <tr> <td align=\"right\"> educ_0 </td> <td align=\"right\"> -0.004 </td> <td align=\"right\"> 0.007 </td> <td align=\"right\"> 0.516 </td> <td align=\"right\"> 1.018 </td> </tr>  <tr> <td align=\"right\"> educ_2 </td> <td align=\"right\"> 0.002 </td> <td align=\"right\"> 0.003 </td> <td align=\"right\"> 0.538 </td> <td align=\"right\"> 0.937 </td> </tr>  <tr> <td align=\"right\"> educ_3 </td> <td align=\"right\"> 0.001 </td> <td align=\"right\"> 0.006 </td> <td align=\"right\"> 0.899 </td> <td align=\"right\"> 0.193 </td> </tr>  <tr> <td align=\"right\"> agegr_2 </td> <td align=\"right\"> -0.002 </td> <td align=\"right\"> 0.007 </td> <td align=\"right\"> 0.750 </td> <td align=\"right\"> 0.502 </td> </tr>  <tr> <td align=\"right\"> agegr_3 </td> <td align=\"right\"> -0.004 </td> <td align=\"right\"> 0.007 </td> <td align=\"right\"> 0.541 </td> <td align=\"right\"> 0.974 </td> </tr>  <tr> <td align=\"right\"> agegr_4 </td> <td align=\"right\"> -0.009 </td> <td align=\"right\"> 0.006 </td> <td align=\"right\"> 0.107 </td> <td align=\"right\"> 2.597 </td> </tr>  <tr> <td align=\"right\"> swiss_0 </td> <td align=\"right\"> -0.001 </td> <td align=\"right\"> 0.008 </td> <td align=\"right\"> 0.936 </td> <td align=\"right\"> 0.126 </td> </tr>  <tr> <td align=\"right\"> Observations </td> <td align=\"right\"> 19076.000 </td> <td align=\"right\">  </td> <td align=\"right\">  </td> <td align=\"right\">  </td> </tr>   </table>"
      ],
      "text/latex": [
       "A xtable: 10 × 4\n",
       "\\begin{tabular}{r|llll}\n",
       "  & diff & robust.se & pval & SB\\\\\n",
       "  & <dbl> & <dbl> & <dbl> & <dbl>\\\\\n",
       "\\hline\n",
       "\tsex\\_1 &  1.229389e-02 & 0.007812908 & 0.1155947 & 2.4621032\\\\\n",
       "\tmarits\\_1 & -1.090318e-02 & 0.007691661 & 0.1563273 & 2.2838615\\\\\n",
       "\teduc\\_0 & -4.259124e-03 & 0.006560757 & 0.5162208 & 1.0184585\\\\\n",
       "\teduc\\_2 &  1.964048e-03 & 0.003192816 & 0.5384584 & 0.9372451\\\\\n",
       "\teduc\\_3 &  7.335693e-04 & 0.005785511 & 0.8991033 & 0.1933672\\\\\n",
       "\tagegr\\_2 & -2.277445e-03 & 0.007145069 & 0.7499210 & 0.5016167\\\\\n",
       "\tagegr\\_3 & -4.075560e-03 & 0.006663982 & 0.5408155 & 0.9740195\\\\\n",
       "\tagegr\\_4 & -9.137297e-03 & 0.005670390 & 0.1070914 & 2.5968761\\\\\n",
       "\tswiss\\_0 & -6.250428e-04 & 0.007795406 & 0.9360934 & 0.1262602\\\\\n",
       "\tObservations &  1.907600e+04 &          NA &        NA &        NA\\\\\n",
       "\\end{tabular}\n"
      ],
      "text/markdown": [
       "\n",
       "A xtable: 10 × 4\n",
       "\n",
       "| <!--/--> | diff &lt;dbl&gt; | robust.se &lt;dbl&gt; | pval &lt;dbl&gt; | SB &lt;dbl&gt; |\n",
       "|---|---|---|---|---|\n",
       "| sex_1 |  1.229389e-02 | 0.007812908 | 0.1155947 | 2.4621032 |\n",
       "| marits_1 | -1.090318e-02 | 0.007691661 | 0.1563273 | 2.2838615 |\n",
       "| educ_0 | -4.259124e-03 | 0.006560757 | 0.5162208 | 1.0184585 |\n",
       "| educ_2 |  1.964048e-03 | 0.003192816 | 0.5384584 | 0.9372451 |\n",
       "| educ_3 |  7.335693e-04 | 0.005785511 | 0.8991033 | 0.1933672 |\n",
       "| agegr_2 | -2.277445e-03 | 0.007145069 | 0.7499210 | 0.5016167 |\n",
       "| agegr_3 | -4.075560e-03 | 0.006663982 | 0.5408155 | 0.9740195 |\n",
       "| agegr_4 | -9.137297e-03 | 0.005670390 | 0.1070914 | 2.5968761 |\n",
       "| swiss_0 | -6.250428e-04 | 0.007795406 | 0.9360934 | 0.1262602 |\n",
       "| Observations |  1.907600e+04 |          NA |        NA |        NA |\n",
       "\n"
      ],
      "text/plain": [
       "             diff          robust.se   pval      SB       \n",
       "sex_1         1.229389e-02 0.007812908 0.1155947 2.4621032\n",
       "marits_1     -1.090318e-02 0.007691661 0.1563273 2.2838615\n",
       "educ_0       -4.259124e-03 0.006560757 0.5162208 1.0184585\n",
       "educ_2        1.964048e-03 0.003192816 0.5384584 0.9372451\n",
       "educ_3        7.335693e-04 0.005785511 0.8991033 0.1933672\n",
       "agegr_2      -2.277445e-03 0.007145069 0.7499210 0.5016167\n",
       "agegr_3      -4.075560e-03 0.006663982 0.5408155 0.9740195\n",
       "agegr_4      -9.137297e-03 0.005670390 0.1070914 2.5968761\n",
       "swiss_0      -6.250428e-04 0.007795406 0.9360934 0.1262602\n",
       "Observations  1.907600e+04          NA        NA        NA"
      ]
     },
     "metadata": {},
     "output_type": "display_data"
    }
   ],
   "source": [
    "# Define a vector of covariates (manual IPW sample)\n",
    "x_sel <- as.matrix(dplyr::select(data_ipw, sex_1, marits_1, \n",
    "                                 educ_0, educ_2, educ_3, \n",
    "                                 agegr_2, agegr_3, agegr_4, \n",
    "                                 swiss_0))\n",
    "x_sel_names <- colnames(x_sel)\n",
    "\n",
    "# Define a function estimating the differences \n",
    "balanced.model.weight <- function(x){\n",
    "    \n",
    "    # weighted diff\n",
    "    weighted_diff <- lm(x[insample==1] ~ treat_ipw, # specify correct sample!\n",
    "                        weight=data_ipw$weight) # specify weights!\n",
    "    cov <- vcovHC(weighted_diff, type = \"HC\")\n",
    "    robust.se <- sqrt(diag(cov))\n",
    "    \n",
    "    # weighted SB\n",
    "    var_d1 <-var(x[treat_ipw==1])\n",
    "    w_var_d0 <-wtd.var(x, weights=data_ipw$weight) # weighted variance function from Hmisc package\n",
    "    w_sb<-abs((weighted_diff$coefficients[2])/sqrt((w_var_d0+var_d1)/2))*100\n",
    "    \n",
    "    list(diff = weighted_diff$coefficients[2], \n",
    "        robust.se = robust.se[2], \n",
    "        pval = 2*pnorm(-abs(weighted_diff$coefficients[2]/robust.se[2])),\n",
    "        SB=w_sb)\n",
    "\n",
    "}\n",
    "\n",
    "# Apply to selection (MARGIN = 2 to loop over columns)\n",
    "diff_output <- apply(X = x_sel, MARGIN = 2, FUN = balanced.model.weight)\n",
    "diff_output<-as.data.frame(rbindlist(diff_output))\n",
    "obs <- c(nrow(x_sel), NA, NA, NA)\n",
    "diff_output <- rbind(diff_output, obs)\n",
    "\n",
    "# Table\n",
    "rownames(diff_output)<- c(x_sel_names, \"Observations\")\n",
    "print(\"Differences in X between control and treatment group after reweighting\")\n",
    "xtable(diff_output, digits=3)"
   ]
  },
  {
   "cell_type": "markdown",
   "metadata": {},
   "source": [
    "### Another estimator: Radius matching \n",
    "\n",
    "In this case, the weights for the ATET are defined as \n",
    "\n",
    "$$w(X_i)=\\sum_{j:D_j=1}\\frac{\\underline{1}(|p(X_j)-p(X_i)|<r)}{|p(X_j)-p(X_i)|}\\Big/\\sum_{k:D_k=0}\\frac{\\underline{1}(|p(X_j)-p(X_k)|<r)}{|p(X_j)-p(X_k)|}$$\n",
    "\n",
    "The estimator uses all control observations with a p-score within a chosen radius $r$.\n",
    "\n",
    "The `radiusmatching` package by Huber et al. (2015) additionally applies some bias correction and is doubly robust (see lecture slides). To download the package, go to https://www.alexandria.unisg.ch/218871/\n",
    "\n",
    "Package options:\n",
    "* Specify the number of bootstrap replications (again, takes a while). \n",
    "* The radius is defined as a percentage of the largest NN p-score difference: \n",
    "    * For the default options `radius=3` and `quantile=0.9` this implies a radius of 3 times the 0.9th quantile of the largest NN p-score difference. A quantile of 1 would correspond to the maximum distance.\n",
    "* Biascorrection can be performed - the estimator becomes doubly robust."
   ]
  },
  {
   "cell_type": "code",
   "execution_count": 60,
   "metadata": {},
   "outputs": [],
   "source": [
    "# LOAD FUNCTIONS for radiusmatching (should be stored in the working directory)\n",
    "source(\"radiusmatch/radiusmatch.R\")\n",
    "source(\"radiusmatch/radiusatet.R\")\n",
    "source(\"radiusmatch/inferenceweights.R\")\n",
    "source(\"radiusmatch/inferenceweights2.R\")"
   ]
  },
  {
   "cell_type": "code",
   "execution_count": 53,
   "metadata": {},
   "outputs": [
    {
     "name": "stdout",
     "output_type": "stream",
     "text": [
      "[1] \"Effect on unemployment duration based on radiusmatching (ATET)\"\n"
     ]
    },
    {
     "data": {
      "text/html": [
       "-98.1467736472252"
      ],
      "text/latex": [
       "-98.1467736472252"
      ],
      "text/markdown": [
       "-98.1467736472252"
      ],
      "text/plain": [
       "[1] -98.14677"
      ]
     },
     "metadata": {},
     "output_type": "display_data"
    },
    {
     "name": "stdout",
     "output_type": "stream",
     "text": [
      "[1] \"bootstrapped S.E.\"\n"
     ]
    },
    {
     "data": {
      "text/html": [
       "&lt;NA&gt;"
      ],
      "text/latex": [
       "<NA>"
      ],
      "text/markdown": [
       "&lt;NA&gt;"
      ],
      "text/plain": [
       "[1] NA"
      ]
     },
     "metadata": {},
     "output_type": "display_data"
    }
   ],
   "source": [
    "# Applying the radiusmatching package to the initial sample (data_reg)\n",
    "\n",
    "rmatch_atet <- radiusmatch(y=y1, d=treat, x=x1, \n",
    "                           biascorr=1, # linear bias correction\n",
    "                           ynonbin = 1, # outcome non-binary - relevant for bias correction (OLS, logit)\n",
    "                           commonsup = 1, # impose common support (depends on type of estimator)\n",
    "                           radius = 3, # multiplier for radius\n",
    "                           quantile = 0.9, # quantile of the distances in pair matching\n",
    "                           estimand =\"ATET\", # also ATE, ATENT\n",
    "                           boot=1) # number of bootstrap replications\n",
    "\n",
    "print(\"Effect on unemployment duration based on radiusmatching (ATET)\")\n",
    "rmatch_atet$effect\n",
    "print(\"bootstrapped S.E.\")\n",
    "rmatch_atet$se.boot\n",
    "# NA if only 1 replication"
   ]
  },
  {
   "cell_type": "markdown",
   "metadata": {},
   "source": [
    "***\n",
    "\n",
    "## Extension : monthly effects\n",
    "\n",
    "Going back to parametric estimation, we estimate the effects on the individual's probability of finding a job in a specific month after program start (up to 24 months after).\n",
    "\n",
    "### (1) Define monthly employment outcomes\n"
   ]
  },
  {
   "cell_type": "code",
   "execution_count": 54,
   "metadata": {},
   "outputs": [
    {
     "data": {
      "text/html": [
       "<table class=\"dataframe\">\n",
       "<caption>A data.frame: 6 × 24</caption>\n",
       "<thead>\n",
       "\t<tr><th></th><th scope=col>emp_1</th><th scope=col>emp_2</th><th scope=col>emp_3</th><th scope=col>emp_4</th><th scope=col>emp_5</th><th scope=col>emp_6</th><th scope=col>emp_7</th><th scope=col>emp_8</th><th scope=col>emp_9</th><th scope=col>emp_10</th><th scope=col>...</th><th scope=col>emp_15</th><th scope=col>emp_16</th><th scope=col>emp_17</th><th scope=col>emp_18</th><th scope=col>emp_19</th><th scope=col>emp_20</th><th scope=col>emp_21</th><th scope=col>emp_22</th><th scope=col>emp_23</th><th scope=col>emp_24</th></tr>\n",
       "\t<tr><th></th><th scope=col>&lt;dbl&gt;</th><th scope=col>&lt;dbl&gt;</th><th scope=col>&lt;dbl&gt;</th><th scope=col>&lt;dbl&gt;</th><th scope=col>&lt;dbl&gt;</th><th scope=col>&lt;dbl&gt;</th><th scope=col>&lt;dbl&gt;</th><th scope=col>&lt;dbl&gt;</th><th scope=col>&lt;dbl&gt;</th><th scope=col>&lt;dbl&gt;</th><th scope=col>...</th><th scope=col>&lt;dbl&gt;</th><th scope=col>&lt;dbl&gt;</th><th scope=col>&lt;dbl&gt;</th><th scope=col>&lt;dbl&gt;</th><th scope=col>&lt;dbl&gt;</th><th scope=col>&lt;dbl&gt;</th><th scope=col>&lt;dbl&gt;</th><th scope=col>&lt;dbl&gt;</th><th scope=col>&lt;dbl&gt;</th><th scope=col>&lt;dbl&gt;</th></tr>\n",
       "</thead>\n",
       "<tbody>\n",
       "\t<tr><th scope=row>X0</th><td>0</td><td>0</td><td>0</td><td>0</td><td>0</td><td>0</td><td>0</td><td>1</td><td>0</td><td>0</td><td>...</td><td>0</td><td>0</td><td>0</td><td>0</td><td>0</td><td>0</td><td>0</td><td>0</td><td>0</td><td>0</td></tr>\n",
       "\t<tr><th scope=row>X0.1</th><td>0</td><td>0</td><td>0</td><td>0</td><td>0</td><td>0</td><td>0</td><td>0</td><td>1</td><td>0</td><td>...</td><td>0</td><td>0</td><td>0</td><td>0</td><td>0</td><td>0</td><td>0</td><td>0</td><td>0</td><td>0</td></tr>\n",
       "\t<tr><th scope=row>X1</th><td>0</td><td>1</td><td>0</td><td>0</td><td>0</td><td>0</td><td>0</td><td>0</td><td>0</td><td>0</td><td>...</td><td>0</td><td>0</td><td>0</td><td>0</td><td>0</td><td>0</td><td>0</td><td>0</td><td>0</td><td>0</td></tr>\n",
       "\t<tr><th scope=row>X1.1</th><td>0</td><td>0</td><td>0</td><td>1</td><td>0</td><td>0</td><td>0</td><td>0</td><td>0</td><td>0</td><td>...</td><td>0</td><td>0</td><td>0</td><td>0</td><td>0</td><td>0</td><td>0</td><td>0</td><td>0</td><td>0</td></tr>\n",
       "\t<tr><th scope=row>X1.2</th><td>0</td><td>0</td><td>1</td><td>0</td><td>0</td><td>0</td><td>0</td><td>0</td><td>0</td><td>0</td><td>...</td><td>0</td><td>0</td><td>0</td><td>0</td><td>0</td><td>0</td><td>0</td><td>0</td><td>0</td><td>0</td></tr>\n",
       "\t<tr><th scope=row>X1.3</th><td>0</td><td>0</td><td>1</td><td>0</td><td>0</td><td>0</td><td>0</td><td>0</td><td>0</td><td>0</td><td>...</td><td>0</td><td>0</td><td>0</td><td>0</td><td>0</td><td>0</td><td>0</td><td>0</td><td>0</td><td>0</td></tr>\n",
       "</tbody>\n",
       "</table>\n"
      ],
      "text/latex": [
       "A data.frame: 6 × 24\n",
       "\\begin{tabular}{r|lllllllllllllllllllll}\n",
       "  & emp\\_1 & emp\\_2 & emp\\_3 & emp\\_4 & emp\\_5 & emp\\_6 & emp\\_7 & emp\\_8 & emp\\_9 & emp\\_10 & ... & emp\\_15 & emp\\_16 & emp\\_17 & emp\\_18 & emp\\_19 & emp\\_20 & emp\\_21 & emp\\_22 & emp\\_23 & emp\\_24\\\\\n",
       "  & <dbl> & <dbl> & <dbl> & <dbl> & <dbl> & <dbl> & <dbl> & <dbl> & <dbl> & <dbl> & ... & <dbl> & <dbl> & <dbl> & <dbl> & <dbl> & <dbl> & <dbl> & <dbl> & <dbl> & <dbl>\\\\\n",
       "\\hline\n",
       "\tX0 & 0 & 0 & 0 & 0 & 0 & 0 & 0 & 1 & 0 & 0 & ... & 0 & 0 & 0 & 0 & 0 & 0 & 0 & 0 & 0 & 0\\\\\n",
       "\tX0.1 & 0 & 0 & 0 & 0 & 0 & 0 & 0 & 0 & 1 & 0 & ... & 0 & 0 & 0 & 0 & 0 & 0 & 0 & 0 & 0 & 0\\\\\n",
       "\tX1 & 0 & 1 & 0 & 0 & 0 & 0 & 0 & 0 & 0 & 0 & ... & 0 & 0 & 0 & 0 & 0 & 0 & 0 & 0 & 0 & 0\\\\\n",
       "\tX1.1 & 0 & 0 & 0 & 1 & 0 & 0 & 0 & 0 & 0 & 0 & ... & 0 & 0 & 0 & 0 & 0 & 0 & 0 & 0 & 0 & 0\\\\\n",
       "\tX1.2 & 0 & 0 & 1 & 0 & 0 & 0 & 0 & 0 & 0 & 0 & ... & 0 & 0 & 0 & 0 & 0 & 0 & 0 & 0 & 0 & 0\\\\\n",
       "\tX1.3 & 0 & 0 & 1 & 0 & 0 & 0 & 0 & 0 & 0 & 0 & ... & 0 & 0 & 0 & 0 & 0 & 0 & 0 & 0 & 0 & 0\\\\\n",
       "\\end{tabular}\n"
      ],
      "text/markdown": [
       "\n",
       "A data.frame: 6 × 24\n",
       "\n",
       "| <!--/--> | emp_1 &lt;dbl&gt; | emp_2 &lt;dbl&gt; | emp_3 &lt;dbl&gt; | emp_4 &lt;dbl&gt; | emp_5 &lt;dbl&gt; | emp_6 &lt;dbl&gt; | emp_7 &lt;dbl&gt; | emp_8 &lt;dbl&gt; | emp_9 &lt;dbl&gt; | emp_10 &lt;dbl&gt; | ... ... | emp_15 &lt;dbl&gt; | emp_16 &lt;dbl&gt; | emp_17 &lt;dbl&gt; | emp_18 &lt;dbl&gt; | emp_19 &lt;dbl&gt; | emp_20 &lt;dbl&gt; | emp_21 &lt;dbl&gt; | emp_22 &lt;dbl&gt; | emp_23 &lt;dbl&gt; | emp_24 &lt;dbl&gt; |\n",
       "|---|---|---|---|---|---|---|---|---|---|---|---|---|---|---|---|---|---|---|---|---|---|\n",
       "| X0 | 0 | 0 | 0 | 0 | 0 | 0 | 0 | 1 | 0 | 0 | ... | 0 | 0 | 0 | 0 | 0 | 0 | 0 | 0 | 0 | 0 |\n",
       "| X0.1 | 0 | 0 | 0 | 0 | 0 | 0 | 0 | 0 | 1 | 0 | ... | 0 | 0 | 0 | 0 | 0 | 0 | 0 | 0 | 0 | 0 |\n",
       "| X1 | 0 | 1 | 0 | 0 | 0 | 0 | 0 | 0 | 0 | 0 | ... | 0 | 0 | 0 | 0 | 0 | 0 | 0 | 0 | 0 | 0 |\n",
       "| X1.1 | 0 | 0 | 0 | 1 | 0 | 0 | 0 | 0 | 0 | 0 | ... | 0 | 0 | 0 | 0 | 0 | 0 | 0 | 0 | 0 | 0 |\n",
       "| X1.2 | 0 | 0 | 1 | 0 | 0 | 0 | 0 | 0 | 0 | 0 | ... | 0 | 0 | 0 | 0 | 0 | 0 | 0 | 0 | 0 | 0 |\n",
       "| X1.3 | 0 | 0 | 1 | 0 | 0 | 0 | 0 | 0 | 0 | 0 | ... | 0 | 0 | 0 | 0 | 0 | 0 | 0 | 0 | 0 | 0 |\n",
       "\n"
      ],
      "text/plain": [
       "     emp_1 emp_2 emp_3 emp_4 emp_5 emp_6 emp_7 emp_8 emp_9 emp_10 ... emp_15\n",
       "X0   0     0     0     0     0     0     0     1     0     0      ... 0     \n",
       "X0.1 0     0     0     0     0     0     0     0     1     0      ... 0     \n",
       "X1   0     1     0     0     0     0     0     0     0     0      ... 0     \n",
       "X1.1 0     0     0     1     0     0     0     0     0     0      ... 0     \n",
       "X1.2 0     0     1     0     0     0     0     0     0     0      ... 0     \n",
       "X1.3 0     0     1     0     0     0     0     0     0     0      ... 0     \n",
       "     emp_16 emp_17 emp_18 emp_19 emp_20 emp_21 emp_22 emp_23 emp_24\n",
       "X0   0      0      0      0      0      0      0      0      0     \n",
       "X0.1 0      0      0      0      0      0      0      0      0     \n",
       "X1   0      0      0      0      0      0      0      0      0     \n",
       "X1.1 0      0      0      0      0      0      0      0      0     \n",
       "X1.2 0      0      0      0      0      0      0      0      0     \n",
       "X1.3 0      0      0      0      0      0      0      0      0     "
      ]
     },
     "metadata": {},
     "output_type": "display_data"
    }
   ],
   "source": [
    "# Set maximum horizon to look at after start of unemployment, 24 months\n",
    "maxdur <- 24\n",
    "\n",
    "# Matrix with as many rows as observations, and as many columns as months in horizon \n",
    "emp <- matrix(0, nrow=nrow(data_reg), ncol=(maxdur))\n",
    "\n",
    "# Name the columns for each month\n",
    "emp_list <- paste(\"emp\", 1:maxdur, sep=\"_\")\n",
    "colnames(emp) <- emp_list\n",
    "\n",
    "# Replace i^th column = 1 if exited unemployment in month i\n",
    "for (i in 1:maxdur) {\n",
    "  emp[,i] = ifelse(data_reg$date_end < data_reg$date_start + 30*i & \n",
    "                   data_reg$date_end >= data_reg$date_start + 30*(i-1), 1, 0)\n",
    "}\n",
    "\n",
    "# Bind as data frame\n",
    "emp <- as.data.frame(emp, treat)\n",
    "data_reg <- cbind(data_reg, emp)\n",
    "\n",
    "head(emp)"
   ]
  },
  {
   "cell_type": "markdown",
   "metadata": {},
   "source": [
    "### (2) Plot monthly exit rates by treatment status"
   ]
  },
  {
   "cell_type": "code",
   "execution_count": 55,
   "metadata": {},
   "outputs": [
    {
     "data": {
      "text/html": [
       "<table class=\"dataframe\">\n",
       "<caption>A data.frame: 48 × 3</caption>\n",
       "<thead>\n",
       "\t<tr><th></th><th scope=col>emp_rate</th><th scope=col>month</th><th scope=col>treat</th></tr>\n",
       "\t<tr><th></th><th scope=col>&lt;dbl&gt;</th><th scope=col>&lt;dbl&gt;</th><th scope=col>&lt;dbl&gt;</th></tr>\n",
       "</thead>\n",
       "<tbody>\n",
       "\t<tr><th scope=row>emp_1</th><td>0.0531153251</td><td> 1</td><td>0</td></tr>\n",
       "\t<tr><th scope=row>emp_2</th><td>0.1210332817</td><td> 2</td><td>0</td></tr>\n",
       "\t<tr><th scope=row>emp_3</th><td>0.1309984520</td><td> 3</td><td>0</td></tr>\n",
       "\t<tr><th scope=row>emp_4</th><td>0.1106811146</td><td> 4</td><td>0</td></tr>\n",
       "\t<tr><th scope=row>emp_5</th><td>0.0860100619</td><td> 5</td><td>0</td></tr>\n",
       "\t<tr><th scope=row>emp_6</th><td>0.0720781734</td><td> 6</td><td>0</td></tr>\n",
       "\t<tr><th scope=row>emp_7</th><td>0.0571787926</td><td> 7</td><td>0</td></tr>\n",
       "\t<tr><th scope=row>emp_8</th><td>0.0460526316</td><td> 8</td><td>0</td></tr>\n",
       "\t<tr><th scope=row>emp_9</th><td>0.0397639319</td><td> 9</td><td>0</td></tr>\n",
       "\t<tr><th scope=row>emp_10</th><td>0.0375386997</td><td>10</td><td>0</td></tr>\n",
       "\t<tr><th scope=row>emp_11</th><td>0.0268962848</td><td>11</td><td>0</td></tr>\n",
       "\t<tr><th scope=row>emp_12</th><td>0.0228328173</td><td>12</td><td>0</td></tr>\n",
       "\t<tr><th scope=row>emp_13</th><td>0.0210913313</td><td>13</td><td>0</td></tr>\n",
       "\t<tr><th scope=row>emp_14</th><td>0.0201238390</td><td>14</td><td>0</td></tr>\n",
       "\t<tr><th scope=row>emp_15</th><td>0.0175116099</td><td>15</td><td>0</td></tr>\n",
       "\t<tr><th scope=row>emp_16</th><td>0.0148993808</td><td>16</td><td>0</td></tr>\n",
       "\t<tr><th scope=row>emp_17</th><td>0.0148993808</td><td>17</td><td>0</td></tr>\n",
       "\t<tr><th scope=row>emp_18</th><td>0.0128676471</td><td>18</td><td>0</td></tr>\n",
       "\t<tr><th scope=row>emp_19</th><td>0.0141253870</td><td>19</td><td>0</td></tr>\n",
       "\t<tr><th scope=row>emp_20</th><td>0.0130611455</td><td>20</td><td>0</td></tr>\n",
       "\t<tr><th scope=row>emp_21</th><td>0.0094814241</td><td>21</td><td>0</td></tr>\n",
       "\t<tr><th scope=row>emp_22</th><td>0.0071594427</td><td>22</td><td>0</td></tr>\n",
       "\t<tr><th scope=row>emp_23</th><td>0.0060952012</td><td>23</td><td>0</td></tr>\n",
       "\t<tr><th scope=row>emp_24</th><td>0.0059984520</td><td>24</td><td>0</td></tr>\n",
       "\t<tr><th scope=row>emp_1.1</th><td>0.0218335620</td><td> 1</td><td>1</td></tr>\n",
       "\t<tr><th scope=row>emp_2.1</th><td>0.1636945588</td><td> 2</td><td>1</td></tr>\n",
       "\t<tr><th scope=row>emp_3.1</th><td>0.2098765432</td><td> 3</td><td>1</td></tr>\n",
       "\t<tr><th scope=row>emp_4.1</th><td>0.4031778692</td><td> 4</td><td>1</td></tr>\n",
       "\t<tr><th scope=row>emp_5.1</th><td>0.1025377229</td><td> 5</td><td>1</td></tr>\n",
       "\t<tr><th scope=row>emp_6.1</th><td>0.0395518976</td><td> 6</td><td>1</td></tr>\n",
       "\t<tr><th scope=row>emp_7.1</th><td>0.0294924554</td><td> 7</td><td>1</td></tr>\n",
       "\t<tr><th scope=row>emp_8.1</th><td>0.0131458619</td><td> 8</td><td>1</td></tr>\n",
       "\t<tr><th scope=row>emp_9.1</th><td>0.0020576132</td><td> 9</td><td>1</td></tr>\n",
       "\t<tr><th scope=row>emp_10.1</th><td>0.0017146776</td><td>10</td><td>1</td></tr>\n",
       "\t<tr><th scope=row>emp_11.1</th><td>0.0012574303</td><td>11</td><td>1</td></tr>\n",
       "\t<tr><th scope=row>emp_12.1</th><td>0.0006858711</td><td>12</td><td>1</td></tr>\n",
       "\t<tr><th scope=row>emp_13.1</th><td>0.0011431184</td><td>13</td><td>1</td></tr>\n",
       "\t<tr><th scope=row>emp_14.1</th><td>0.0003429355</td><td>14</td><td>1</td></tr>\n",
       "\t<tr><th scope=row>emp_15.1</th><td>0.0005715592</td><td>15</td><td>1</td></tr>\n",
       "\t<tr><th scope=row>emp_16.1</th><td>0.0003429355</td><td>16</td><td>1</td></tr>\n",
       "\t<tr><th scope=row>emp_17.1</th><td>0.0002286237</td><td>17</td><td>1</td></tr>\n",
       "\t<tr><th scope=row>emp_18.1</th><td>0.0008001829</td><td>18</td><td>1</td></tr>\n",
       "\t<tr><th scope=row>emp_19.1</th><td>0.0001143118</td><td>19</td><td>1</td></tr>\n",
       "\t<tr><th scope=row>emp_20.1</th><td>0.0002286237</td><td>20</td><td>1</td></tr>\n",
       "\t<tr><th scope=row>emp_21.1</th><td>0.0006858711</td><td>21</td><td>1</td></tr>\n",
       "\t<tr><th scope=row>emp_22.1</th><td>0.0002286237</td><td>22</td><td>1</td></tr>\n",
       "\t<tr><th scope=row>emp_23.1</th><td>0.0003429355</td><td>23</td><td>1</td></tr>\n",
       "\t<tr><th scope=row>emp_24.1</th><td>0.0002286237</td><td>24</td><td>1</td></tr>\n",
       "</tbody>\n",
       "</table>\n"
      ],
      "text/latex": [
       "A data.frame: 48 × 3\n",
       "\\begin{tabular}{r|lll}\n",
       "  & emp\\_rate & month & treat\\\\\n",
       "  & <dbl> & <dbl> & <dbl>\\\\\n",
       "\\hline\n",
       "\temp\\_1 & 0.0531153251 &  1 & 0\\\\\n",
       "\temp\\_2 & 0.1210332817 &  2 & 0\\\\\n",
       "\temp\\_3 & 0.1309984520 &  3 & 0\\\\\n",
       "\temp\\_4 & 0.1106811146 &  4 & 0\\\\\n",
       "\temp\\_5 & 0.0860100619 &  5 & 0\\\\\n",
       "\temp\\_6 & 0.0720781734 &  6 & 0\\\\\n",
       "\temp\\_7 & 0.0571787926 &  7 & 0\\\\\n",
       "\temp\\_8 & 0.0460526316 &  8 & 0\\\\\n",
       "\temp\\_9 & 0.0397639319 &  9 & 0\\\\\n",
       "\temp\\_10 & 0.0375386997 & 10 & 0\\\\\n",
       "\temp\\_11 & 0.0268962848 & 11 & 0\\\\\n",
       "\temp\\_12 & 0.0228328173 & 12 & 0\\\\\n",
       "\temp\\_13 & 0.0210913313 & 13 & 0\\\\\n",
       "\temp\\_14 & 0.0201238390 & 14 & 0\\\\\n",
       "\temp\\_15 & 0.0175116099 & 15 & 0\\\\\n",
       "\temp\\_16 & 0.0148993808 & 16 & 0\\\\\n",
       "\temp\\_17 & 0.0148993808 & 17 & 0\\\\\n",
       "\temp\\_18 & 0.0128676471 & 18 & 0\\\\\n",
       "\temp\\_19 & 0.0141253870 & 19 & 0\\\\\n",
       "\temp\\_20 & 0.0130611455 & 20 & 0\\\\\n",
       "\temp\\_21 & 0.0094814241 & 21 & 0\\\\\n",
       "\temp\\_22 & 0.0071594427 & 22 & 0\\\\\n",
       "\temp\\_23 & 0.0060952012 & 23 & 0\\\\\n",
       "\temp\\_24 & 0.0059984520 & 24 & 0\\\\\n",
       "\temp\\_1.1 & 0.0218335620 &  1 & 1\\\\\n",
       "\temp\\_2.1 & 0.1636945588 &  2 & 1\\\\\n",
       "\temp\\_3.1 & 0.2098765432 &  3 & 1\\\\\n",
       "\temp\\_4.1 & 0.4031778692 &  4 & 1\\\\\n",
       "\temp\\_5.1 & 0.1025377229 &  5 & 1\\\\\n",
       "\temp\\_6.1 & 0.0395518976 &  6 & 1\\\\\n",
       "\temp\\_7.1 & 0.0294924554 &  7 & 1\\\\\n",
       "\temp\\_8.1 & 0.0131458619 &  8 & 1\\\\\n",
       "\temp\\_9.1 & 0.0020576132 &  9 & 1\\\\\n",
       "\temp\\_10.1 & 0.0017146776 & 10 & 1\\\\\n",
       "\temp\\_11.1 & 0.0012574303 & 11 & 1\\\\\n",
       "\temp\\_12.1 & 0.0006858711 & 12 & 1\\\\\n",
       "\temp\\_13.1 & 0.0011431184 & 13 & 1\\\\\n",
       "\temp\\_14.1 & 0.0003429355 & 14 & 1\\\\\n",
       "\temp\\_15.1 & 0.0005715592 & 15 & 1\\\\\n",
       "\temp\\_16.1 & 0.0003429355 & 16 & 1\\\\\n",
       "\temp\\_17.1 & 0.0002286237 & 17 & 1\\\\\n",
       "\temp\\_18.1 & 0.0008001829 & 18 & 1\\\\\n",
       "\temp\\_19.1 & 0.0001143118 & 19 & 1\\\\\n",
       "\temp\\_20.1 & 0.0002286237 & 20 & 1\\\\\n",
       "\temp\\_21.1 & 0.0006858711 & 21 & 1\\\\\n",
       "\temp\\_22.1 & 0.0002286237 & 22 & 1\\\\\n",
       "\temp\\_23.1 & 0.0003429355 & 23 & 1\\\\\n",
       "\temp\\_24.1 & 0.0002286237 & 24 & 1\\\\\n",
       "\\end{tabular}\n"
      ],
      "text/markdown": [
       "\n",
       "A data.frame: 48 × 3\n",
       "\n",
       "| <!--/--> | emp_rate &lt;dbl&gt; | month &lt;dbl&gt; | treat &lt;dbl&gt; |\n",
       "|---|---|---|---|\n",
       "| emp_1 | 0.0531153251 |  1 | 0 |\n",
       "| emp_2 | 0.1210332817 |  2 | 0 |\n",
       "| emp_3 | 0.1309984520 |  3 | 0 |\n",
       "| emp_4 | 0.1106811146 |  4 | 0 |\n",
       "| emp_5 | 0.0860100619 |  5 | 0 |\n",
       "| emp_6 | 0.0720781734 |  6 | 0 |\n",
       "| emp_7 | 0.0571787926 |  7 | 0 |\n",
       "| emp_8 | 0.0460526316 |  8 | 0 |\n",
       "| emp_9 | 0.0397639319 |  9 | 0 |\n",
       "| emp_10 | 0.0375386997 | 10 | 0 |\n",
       "| emp_11 | 0.0268962848 | 11 | 0 |\n",
       "| emp_12 | 0.0228328173 | 12 | 0 |\n",
       "| emp_13 | 0.0210913313 | 13 | 0 |\n",
       "| emp_14 | 0.0201238390 | 14 | 0 |\n",
       "| emp_15 | 0.0175116099 | 15 | 0 |\n",
       "| emp_16 | 0.0148993808 | 16 | 0 |\n",
       "| emp_17 | 0.0148993808 | 17 | 0 |\n",
       "| emp_18 | 0.0128676471 | 18 | 0 |\n",
       "| emp_19 | 0.0141253870 | 19 | 0 |\n",
       "| emp_20 | 0.0130611455 | 20 | 0 |\n",
       "| emp_21 | 0.0094814241 | 21 | 0 |\n",
       "| emp_22 | 0.0071594427 | 22 | 0 |\n",
       "| emp_23 | 0.0060952012 | 23 | 0 |\n",
       "| emp_24 | 0.0059984520 | 24 | 0 |\n",
       "| emp_1.1 | 0.0218335620 |  1 | 1 |\n",
       "| emp_2.1 | 0.1636945588 |  2 | 1 |\n",
       "| emp_3.1 | 0.2098765432 |  3 | 1 |\n",
       "| emp_4.1 | 0.4031778692 |  4 | 1 |\n",
       "| emp_5.1 | 0.1025377229 |  5 | 1 |\n",
       "| emp_6.1 | 0.0395518976 |  6 | 1 |\n",
       "| emp_7.1 | 0.0294924554 |  7 | 1 |\n",
       "| emp_8.1 | 0.0131458619 |  8 | 1 |\n",
       "| emp_9.1 | 0.0020576132 |  9 | 1 |\n",
       "| emp_10.1 | 0.0017146776 | 10 | 1 |\n",
       "| emp_11.1 | 0.0012574303 | 11 | 1 |\n",
       "| emp_12.1 | 0.0006858711 | 12 | 1 |\n",
       "| emp_13.1 | 0.0011431184 | 13 | 1 |\n",
       "| emp_14.1 | 0.0003429355 | 14 | 1 |\n",
       "| emp_15.1 | 0.0005715592 | 15 | 1 |\n",
       "| emp_16.1 | 0.0003429355 | 16 | 1 |\n",
       "| emp_17.1 | 0.0002286237 | 17 | 1 |\n",
       "| emp_18.1 | 0.0008001829 | 18 | 1 |\n",
       "| emp_19.1 | 0.0001143118 | 19 | 1 |\n",
       "| emp_20.1 | 0.0002286237 | 20 | 1 |\n",
       "| emp_21.1 | 0.0006858711 | 21 | 1 |\n",
       "| emp_22.1 | 0.0002286237 | 22 | 1 |\n",
       "| emp_23.1 | 0.0003429355 | 23 | 1 |\n",
       "| emp_24.1 | 0.0002286237 | 24 | 1 |\n",
       "\n"
      ],
      "text/plain": [
       "         emp_rate     month treat\n",
       "emp_1    0.0531153251  1    0    \n",
       "emp_2    0.1210332817  2    0    \n",
       "emp_3    0.1309984520  3    0    \n",
       "emp_4    0.1106811146  4    0    \n",
       "emp_5    0.0860100619  5    0    \n",
       "emp_6    0.0720781734  6    0    \n",
       "emp_7    0.0571787926  7    0    \n",
       "emp_8    0.0460526316  8    0    \n",
       "emp_9    0.0397639319  9    0    \n",
       "emp_10   0.0375386997 10    0    \n",
       "emp_11   0.0268962848 11    0    \n",
       "emp_12   0.0228328173 12    0    \n",
       "emp_13   0.0210913313 13    0    \n",
       "emp_14   0.0201238390 14    0    \n",
       "emp_15   0.0175116099 15    0    \n",
       "emp_16   0.0148993808 16    0    \n",
       "emp_17   0.0148993808 17    0    \n",
       "emp_18   0.0128676471 18    0    \n",
       "emp_19   0.0141253870 19    0    \n",
       "emp_20   0.0130611455 20    0    \n",
       "emp_21   0.0094814241 21    0    \n",
       "emp_22   0.0071594427 22    0    \n",
       "emp_23   0.0060952012 23    0    \n",
       "emp_24   0.0059984520 24    0    \n",
       "emp_1.1  0.0218335620  1    1    \n",
       "emp_2.1  0.1636945588  2    1    \n",
       "emp_3.1  0.2098765432  3    1    \n",
       "emp_4.1  0.4031778692  4    1    \n",
       "emp_5.1  0.1025377229  5    1    \n",
       "emp_6.1  0.0395518976  6    1    \n",
       "emp_7.1  0.0294924554  7    1    \n",
       "emp_8.1  0.0131458619  8    1    \n",
       "emp_9.1  0.0020576132  9    1    \n",
       "emp_10.1 0.0017146776 10    1    \n",
       "emp_11.1 0.0012574303 11    1    \n",
       "emp_12.1 0.0006858711 12    1    \n",
       "emp_13.1 0.0011431184 13    1    \n",
       "emp_14.1 0.0003429355 14    1    \n",
       "emp_15.1 0.0005715592 15    1    \n",
       "emp_16.1 0.0003429355 16    1    \n",
       "emp_17.1 0.0002286237 17    1    \n",
       "emp_18.1 0.0008001829 18    1    \n",
       "emp_19.1 0.0001143118 19    1    \n",
       "emp_20.1 0.0002286237 20    1    \n",
       "emp_21.1 0.0006858711 21    1    \n",
       "emp_22.1 0.0002286237 22    1    \n",
       "emp_23.1 0.0003429355 23    1    \n",
       "emp_24.1 0.0002286237 24    1    "
      ]
     },
     "metadata": {},
     "output_type": "display_data"
    }
   ],
   "source": [
    "# Create frame with relevant elements for plot\n",
    "\n",
    "# Month of exit\n",
    "month <- rep(1:maxdur)\n",
    "\n",
    "# Average exit rate by treatment status\n",
    "emp_monthly_treat <- apply(t(emp[treat==1,]),1,mean)\n",
    "emp_monthly_contr <- apply(t(emp[treat==0,]),1,mean)\n",
    "\n",
    "# Bind together, along with treatment status dummy\n",
    "emp_monthly_treat <- cbind(emp_monthly_treat, month, rep(1, times=maxdur))\n",
    "emp_monthly_contr <- cbind(emp_monthly_contr, month, rep(0, times=maxdur))\n",
    "emp_monthly <- rbind(emp_monthly_contr, emp_monthly_treat)\n",
    "\n",
    "# Name columns and display\n",
    "colnames(emp_monthly) <- c(\"emp_rate\", \"month\", \"treat\")\n",
    "emp_monthly <- as.data.frame(emp_monthly)\n",
    "emp_monthly"
   ]
  },
  {
   "cell_type": "code",
   "execution_count": 56,
   "metadata": {},
   "outputs": [
    {
     "data": {
      "image/png": "[encoded data removed]",
      "text/plain": [
       "plot without title"
      ]
     },
     "metadata": {
      "image/png": {
       "height": 420,
       "width": 420
      }
     },
     "output_type": "display_data"
    }
   ],
   "source": [
    "# Create a factor variable for treatment status for the plot\n",
    "emp_monthly$treat_f <- factor(emp_monthly$treat, \n",
    "                                  levels = c(0,1), \n",
    "                                  label = c(\"D = 0\", \n",
    "                                            \"D = 1\")) \n",
    "ggplot() +\n",
    "  geom_line(data = emp_monthly, aes(x = month, y = emp_rate, \n",
    "                                    group=treat_f, color=treat_f)) +\n",
    "  theme_bw(base_size = 20) +\n",
    "  ylab(\"Exit rate\") +\n",
    "  xlab(\"Months after program start\") +\n",
    "  geom_hline(yintercept = 0, linetype=\"dashed\") "
   ]
  },
  {
   "cell_type": "markdown",
   "metadata": {},
   "source": [
    "### (3) Estimate monthly effects (OLS)"
   ]
  },
  {
   "cell_type": "code",
   "execution_count": 57,
   "metadata": {},
   "outputs": [],
   "source": [
    "# Define a function to regress exit rates in a given month y \n",
    "reg_monthly <- function(y) {\n",
    "  out <- lm(y ~ treat + x1)\n",
    "  out2 <- coeftest(out, vcov = vcovHC(out))\n",
    "  list(effect=out2[2,1], se=out2[2,2])\n",
    "}"
   ]
  },
  {
   "cell_type": "code",
   "execution_count": 58,
   "metadata": {},
   "outputs": [],
   "source": [
    "# Loop regression over months \n",
    "reg_monthly_out <- apply(emp, 2, reg_monthly)\n",
    "\n",
    "# Create a frame for the plot \n",
    "reg_monthly_out2 <- rbindlist(reg_monthly_out)\n",
    "\n",
    "# Add month to plot frame \n",
    "reg_monthly_out2$month <- rep(1:maxdur)\n",
    "\n",
    "# Compute confidence intervals and dots marking significant effects\n",
    "reg_monthly_out2$cil <- reg_monthly_out2$effect - 1.96*reg_monthly_out2$se\n",
    "reg_monthly_out2$cih <- reg_monthly_out2$effect + 1.96*reg_monthly_out2$se\n",
    "reg_monthly_out2$sig <- ifelse(abs(reg_monthly_out2$effect)\n",
    "                          /reg_monthly_out2$se>1.64, \n",
    "                          reg_monthly_out2$effect, NA)\n"
   ]
  },
  {
   "cell_type": "code",
   "execution_count": 59,
   "metadata": {},
   "outputs": [
    {
     "data": {
      "image/png": "[encoded data removed]",
      "text/plain": [
       "plot without title"
      ]
     },
     "metadata": {
      "image/png": {
       "height": 420,
       "width": 420
      }
     },
     "output_type": "display_data"
    }
   ],
   "source": [
    "ggplot(reg_monthly_out2, aes(x = month, y = effect)) +\n",
    "  geom_point(aes(x = month, y = sig), shape = 18, size  = 3) +\n",
    "  geom_ribbon(aes(ymin  = cil, ymax  = cih), alpha=0.3) +\n",
    "  geom_line() +\n",
    "  theme_bw(base_size = 20) +\n",
    "  xlab(\"Months after program start\") +\n",
    "  ylab(\"Effect on exit rate (OLS)\") +\n",
    "  geom_hline(yintercept = 0, linetype=\"dashed\") "
   ]
  },
  {
   "cell_type": "markdown",
   "metadata": {},
   "source": [
    "What does this pattern suggest?"
   ]
  },
  {
   "cell_type": "markdown",
   "metadata": {},
   "source": [
    "***\n",
    "\n",
    "## References\n",
    "\n",
    "Ferracci, M., Jolivet, G., & van den Berg, G. J. (2014). Evidence of treatment spillovers within markets. *Review of Economics and Statistics*, 96(5), 812-823."
   ]
  }
 ],
 "metadata": {
  "kernelspec": {
   "display_name": "R.4.0.3",
   "language": "R",
   "name": "ir40"
  },
  "language_info": {
   "codemirror_mode": "r",
   "file_extension": ".r",
   "mimetype": "text/x-r-source",
   "name": "R",
   "pygments_lexer": "r",
   "version": "4.0.3"
  }
 },
 "nbformat": 4,
 "nbformat_minor": 2
}
