{
 "cells": [
  {
   "cell_type": "markdown",
   "metadata": {},
   "source": [
    "**Causal Inference for Policy Evaluation (HS 2021)**\n",
    "\n",
    "**Conny Wunsch, Ulrike Unterhofer and Véra Zabrodina** -- University of Basel\n",
    "\n",
    "***\n",
    "\n",
    "# Lab Session 3 - Instrumental Variables (IV)\n",
    "\n",
    "***\n"
   ]
  },
  {
   "cell_type": "markdown",
   "metadata": {},
   "source": [
    "![](./IV.JPG)\n",
    "\n",
    "Key ingredients for an IV design:\n",
    "\n",
    "* An endogenous treatment.\n",
    "* A variable that is correlated with this treatment but which does not directly affect the outcome (instrument)."
   ]
  },
  {
   "cell_type": "markdown",
   "metadata": {},
   "source": [
    "## Application: Children and Their Parents' Labor Supply: Evidence from Exogenous Variation in Family Size\n",
    "**Angrist, J., and W. Evans, American Economic Review 1998**\n",
    "\n",
    "![](./Angrist2.JPG)\n"
   ]
  },
  {
   "cell_type": "markdown",
   "metadata": {},
   "source": [
    "***\n",
    "## 1. Introduction"
   ]
  },
  {
   "cell_type": "markdown",
   "metadata": {},
   "source": [
    "\n",
    "* What is the research question?\n",
    "\n",
    "\n",
    "* Why is this question of interest?\n",
    "\n",
    "\n",
    "* How is the treatment defined, and what are the outcome variables of interest?\n",
    "\n",
    "\n",
    "* Why would comparing the average labour supply outcomes of women with different numbers of children result in a biased estimate of the effect of fertility on labour supply? What is the endogeneity problem?\n",
    "\n",
    "\n",
    "* Which instrumental variables do the authors use? \n",
    "\n"
   ]
  },
  {
   "cell_type": "markdown",
   "metadata": {},
   "source": [
    "### Notation"
   ]
  },
  {
   "cell_type": "markdown",
   "metadata": {},
   "source": [
    "* $Z_i\\in\\{0,1\\}$ ... binary instrument:  having  a second child of the same gender as the first child (*samesex*)\n",
    "* $D_i\\in\\{0,1\\}$ ... binary treatment status: having more than 2 children yes/no (*morekids*)\n",
    "* $D_{0,i}^*\\in\\{0,1\\}$ ... potential treatment status when $Z_i=0$\n",
    "* $D_{1,i} ^*\\in\\{0,1\\}$ ... potential treatment status when $Z_i=1$\n",
    "* $Y_{dz} ^*$ ... potential outcome under treatment $D=d$ and instrument $Z=z$\n",
    "* $Y_i$ ... observed outcome "
   ]
  },
  {
   "cell_type": "markdown",
   "metadata": {},
   "source": [
    "### What kind of effect do we identify?\n",
    "\n",
    "We are going to identify a **Local Average Treatment Effect (LATE)**, meaning an effect for those who react to the instrument being *samesex* by having more children."
   ]
  },
  {
   "cell_type": "markdown",
   "metadata": {},
   "source": [
    "***\n",
    "\n",
    "## 2. Identification strategy and assumptions\n",
    "\n",
    "### Discussion of assumptions\n",
    "\n",
    "What do these assumptions mean in words?\n",
    "\n",
    "*\tWhat could invalidate them? Think of concrete examples or mechanisms.\n",
    "*\tWhich arguments or evidence can you provide to support that they hold?\n",
    "\n",
    "**A1 Stable unit treatment value assumption (SUTVA):**\n",
    "\n",
    " $Y_{i}=D_{i}Z_i Y^*_{11,i} + D_i (1-Z_i)Y^*_{10,i} +(1-D_i)Z_iY^*_{01,i} + (1-D_i)(1-Z_i) Y^*_{00,i}$\n",
    " \n",
    " $D_{i}=Z_{i}D^*_{1,i}+(1-Z_{i})D^*_{0,i}$\n",
    " \n",
    " No spillovers from treated on non-treated and instrumented on non-instrumented:\n",
    "\n",
    " * having more than 2 children is unlikely to affect the labour supply of women with 2 children.\n",
    " \n",
    " * having two children of the same sex has no effect on the likelihood of having another child for those who have 2 children of mixed sex.\n",
    " \n",
    "**A2 Exclusion restriction and exogeneity:** \n",
    "\n",
    "$ Y^*_{d0,i} = Y^*_{d1,i} \\equiv  Y^*_{d,i}$ for all $i$ and $d \\in \\{0,1\\}$\n",
    "\n",
    "* No direct effect of the instrument on the outcome\n",
    "\n",
    "$Y^*_{0,i},Y^*_{1,i},D^*_{0,i},D^*_{1,i}\\perp Z_i|X_i$\n",
    "\n",
    "*  The instrument is randomly assigned (possibly conditional on $X$). \n",
    "*  No counfounders that determine both $Z$ and $Y$ or $D$.\n",
    "\n",
    "**A3 Monotonicity:**\n",
    "\n",
    "$D^*_{1,i}\\geq D^*_{0,i}$ for all $i$ and $D^*_{1,i}>D^*_{0,i}$ for some $i$\n",
    "\n",
    " * The instrument moves the endogenous variable in one direction. \n",
    " * There exist compliers but no defiers. \n",
    " * Partially testable. How?\n",
    " * Do you expect this to hold in our setting?\n",
    "\n",
    "**A4 Common support:**\n",
    "\n",
    "$Supp(X|Z_i=0)=Supp(X|Z_i=1)$\n",
    "\n",
    "* There are always both individuals with $Z_i=1$ and $Z_i=0$ with the same $X$.\n",
    "* Needed if exogeneity only holds conditional on $X$.\n",
    "* Testable."
   ]
  },
  {
   "cell_type": "markdown",
   "metadata": {},
   "source": [
    "***\n",
    "\n",
    "## 3. Data\n",
    "\n",
    "* Census Public Use Micro Samples (PUMS) 1980\n",
    "\n",
    "    \n",
    "* We use a random sample covering one third of the observations.\n",
    "\n",
    "\n",
    "* What is the unit of observation? -- 1 line = 1 household, separate variables for mothers and fathers.\n",
    "\n",
    "\n",
    "* What is the time dimension? -- One cross-section.\n",
    "\n",
    "\n",
    "* Preliminary data prep done by the authors: \n",
    "\n",
    "    * Children are matched to female household head or the spouse of a male household head. \n",
    "    * Mothers for whom the number of children did not match the reported number were deleted from the data. \n",
    "\n",
    "\n",
    "\n",
    "* Here, focus on women with two and more children. The paper also analyses the married sample. \n",
    "\n",
    "\n",
    "* List of  variables: \n",
    "\n",
    "\n",
    "|Variable name| Description|\n",
    "|:----|:----|\n",
    "|**Treatment variables** ||\n",
    "|*morekids*|        had more than 2 kids |\n",
    "|*kidcount*|        count of kids in household |\n",
    "|**Instruments** ||\n",
    "|*samesex*|        first two kids are of same sex |\n",
    "|*multi2nd*|        second birth twins |\n",
    "|**Outcome variables** ||\n",
    "|*weeksm*|        weeks worked per year, mom |\n",
    "|*hourswm*|        hours worked per week, mom |\n",
    "|*weeksd*|        weeks worked per year, dad |\n",
    "|*hourswd*|        hours worked per week, dad |\n",
    "|*workedm*|        worked for pay, mom |\n",
    "|*workedd*|        worked for pay, dad |\n",
    "|*incomem*|        moms labour income (adjusted) |\n",
    "|*incomed*|        dads labour income (adjusted) |\n",
    "|*faminc*|        family income (adjusted) |\n",
    "|*lfaminc*|        log family income (adjusted) |\n",
    "|*nonmomi*|        income not generated by mom (adjusted) |\n",
    "|*lnonmomi*|        log income not generated by mom (adjusted) |\n",
    "|**Characteristics of the children** ||\n",
    "|*ageqk*|        age in quarters, first born  |\n",
    "|*ageq2nd*|        age in qtrs second kid |\n",
    "|*ageq3rd*|        age in qtrs of 3rd kid |\n",
    "|*boy1st*|        first birth boy |\n",
    "|*boy2nd*|        2nd birth boy |\n",
    "|*boys2*|        first two births boys |\n",
    "|*girls2*|        first two births girls |\n",
    "|**Characteristics of the mother** ||\n",
    "|*agem*|        age in years of mom |\n",
    "|*agefstm*|        age of mom when kid first born |\n",
    "|*blackm*|        =1 if mom black |\n",
    "|*hispm*|        =1 if mom hispanic |\n",
    "|*othracem*|        =1 if mom other race (white is ref) |\n",
    "|*educm*|        moms education |\n",
    "|**Characteristics of the father (married sample)** ||\n",
    "|*msample*|        married sample |\n",
    "|*agefstd*|        age of dad when kid first born |\n",
    "|*aged*|        age of dad |\n",
    "|*blackd*|        =1 if dad black |\n",
    "|*hispd*|        =1 if dad hispanic |\n",
    "|*othraced*|        =1 if dad other race (white is ref) |\n",
    "\n"
   ]
  },
  {
   "cell_type": "markdown",
   "metadata": {},
   "source": [
    "***\n",
    "## 4. Empirical Analysis"
   ]
  },
  {
   "cell_type": "markdown",
   "metadata": {},
   "source": [
    "### Load Packages"
   ]
  },
  {
   "cell_type": "code",
   "execution_count": 1,
   "metadata": {},
   "outputs": [
    {
     "name": "stderr",
     "output_type": "stream",
     "text": [
      "Loading required package: haven\n",
      "\n",
      "Warning message:\n",
      "\"package 'haven' was built under R version 4.0.5\"\n",
      "Loading required package: dplyr\n",
      "\n",
      "Warning message:\n",
      "\"package 'dplyr' was built under R version 4.0.5\"\n",
      "\n",
      "Attaching package: 'dplyr'\n",
      "\n",
      "\n",
      "The following objects are masked from 'package:stats':\n",
      "\n",
      "    filter, lag\n",
      "\n",
      "\n",
      "The following objects are masked from 'package:base':\n",
      "\n",
      "    intersect, setdiff, setequal, union\n",
      "\n",
      "\n",
      "Loading required package: sandwich\n",
      "\n",
      "Warning message:\n",
      "\"package 'sandwich' was built under R version 4.0.5\"\n",
      "Loading required package: jtools\n",
      "\n",
      "Warning message:\n",
      "\"package 'jtools' was built under R version 4.0.5\"\n",
      "Loading required package: fBasics\n",
      "\n",
      "Warning message:\n",
      "\"package 'fBasics' was built under R version 4.0.5\"\n",
      "Loading required package: timeDate\n",
      "\n",
      "Loading required package: timeSeries\n",
      "\n",
      "Loading required package: xtable\n",
      "\n",
      "Warning message:\n",
      "\"package 'xtable' was built under R version 4.0.5\"\n",
      "\n",
      "Attaching package: 'xtable'\n",
      "\n",
      "\n",
      "The following object is masked from 'package:timeSeries':\n",
      "\n",
      "    align\n",
      "\n",
      "\n",
      "The following object is masked from 'package:timeDate':\n",
      "\n",
      "    align\n",
      "\n",
      "\n",
      "Loading required package: stargazer\n",
      "\n",
      "\n",
      "Please cite as: \n",
      "\n",
      "\n",
      " Hlavac, Marek (2018). stargazer: Well-Formatted Regression and Summary Statistics Tables.\n",
      "\n",
      " R package version 5.2.2. https://CRAN.R-project.org/package=stargazer \n",
      "\n",
      "\n",
      "Loading required package: data.table\n",
      "\n",
      "Warning message:\n",
      "\"package 'data.table' was built under R version 4.0.5\"\n",
      "\n",
      "Attaching package: 'data.table'\n",
      "\n",
      "\n",
      "The following objects are masked from 'package:dplyr':\n",
      "\n",
      "    between, first, last\n",
      "\n",
      "\n",
      "Loading required package: tidyverse\n",
      "\n",
      "Warning message:\n",
      "\"package 'tidyverse' was built under R version 4.0.5\"\n",
      "Registered S3 methods overwritten by 'broom':\n",
      "  method            from  \n",
      "  tidy.glht         jtools\n",
      "  tidy.summary.glht jtools\n",
      "\n",
      "-- \u001b[1mAttaching packages\u001b[22m ------------------------------------------------------------------------------- tidyverse 1.3.1 --\n",
      "\n",
      "\u001b[32mv\u001b[39m \u001b[34mggplot2\u001b[39m 3.3.5     \u001b[32mv\u001b[39m \u001b[34mpurrr  \u001b[39m 0.3.4\n",
      "\u001b[32mv\u001b[39m \u001b[34mtibble \u001b[39m 3.1.4     \u001b[32mv\u001b[39m \u001b[34mstringr\u001b[39m 1.4.0\n",
      "\u001b[32mv\u001b[39m \u001b[34mtidyr  \u001b[39m 1.1.3     \u001b[32mv\u001b[39m \u001b[34mforcats\u001b[39m 0.5.1\n",
      "\u001b[32mv\u001b[39m \u001b[34mreadr  \u001b[39m 1.4.0     \n",
      "\n",
      "Warning message:\n",
      "\"package 'ggplot2' was built under R version 4.0.5\"\n",
      "Warning message:\n",
      "\"package 'tibble' was built under R version 4.0.5\"\n",
      "Warning message:\n",
      "\"package 'tidyr' was built under R version 4.0.5\"\n",
      "Warning message:\n",
      "\"package 'stringr' was built under R version 4.0.5\"\n",
      "Warning message:\n",
      "\"package 'forcats' was built under R version 4.0.5\"\n",
      "-- \u001b[1mConflicts\u001b[22m ---------------------------------------------------------------------------------- tidyverse_conflicts() --\n",
      "\u001b[31mx\u001b[39m \u001b[34mdata.table\u001b[39m::\u001b[32mbetween()\u001b[39m masks \u001b[34mdplyr\u001b[39m::between()\n",
      "\u001b[31mx\u001b[39m \u001b[34mtimeSeries\u001b[39m::\u001b[32mfilter()\u001b[39m  masks \u001b[34mdplyr\u001b[39m::filter(), \u001b[34mstats\u001b[39m::filter()\n",
      "\u001b[31mx\u001b[39m \u001b[34mdata.table\u001b[39m::\u001b[32mfirst()\u001b[39m   masks \u001b[34mdplyr\u001b[39m::first()\n",
      "\u001b[31mx\u001b[39m \u001b[34mtimeSeries\u001b[39m::\u001b[32mlag()\u001b[39m     masks \u001b[34mdplyr\u001b[39m::lag(), \u001b[34mstats\u001b[39m::lag()\n",
      "\u001b[31mx\u001b[39m \u001b[34mdata.table\u001b[39m::\u001b[32mlast()\u001b[39m    masks \u001b[34mdplyr\u001b[39m::last()\n",
      "\u001b[31mx\u001b[39m \u001b[34mpurrr\u001b[39m::\u001b[32mtranspose()\u001b[39m    masks \u001b[34mdata.table\u001b[39m::transpose()\n",
      "\n",
      "Loading required package: AER\n",
      "\n",
      "Warning message:\n",
      "\"package 'AER' was built under R version 4.0.5\"\n",
      "Loading required package: car\n",
      "\n",
      "Loading required package: carData\n",
      "\n",
      "\n",
      "Attaching package: 'car'\n",
      "\n",
      "\n",
      "The following object is masked from 'package:purrr':\n",
      "\n",
      "    some\n",
      "\n",
      "\n",
      "The following object is masked from 'package:fBasics':\n",
      "\n",
      "    densityPlot\n",
      "\n",
      "\n",
      "The following object is masked from 'package:dplyr':\n",
      "\n",
      "    recode\n",
      "\n",
      "\n",
      "Loading required package: lmtest\n",
      "\n",
      "Warning message:\n",
      "\"package 'lmtest' was built under R version 4.0.5\"\n",
      "Loading required package: zoo\n",
      "\n",
      "\n",
      "Attaching package: 'zoo'\n",
      "\n",
      "\n",
      "The following object is masked from 'package:timeSeries':\n",
      "\n",
      "    time<-\n",
      "\n",
      "\n",
      "The following objects are masked from 'package:base':\n",
      "\n",
      "    as.Date, as.Date.numeric\n",
      "\n",
      "\n",
      "Loading required package: survival\n",
      "\n",
      "Loading required package: causalweight\n",
      "\n",
      "Warning message:\n",
      "\"package 'causalweight' was built under R version 4.0.5\"\n",
      "Loading required package: ranger\n",
      "\n",
      "Warning message:\n",
      "\"package 'ranger' was built under R version 4.0.5\"\n"
     ]
    },
    {
     "data": {
      "text/html": [
       "<ol>\n",
       "\t<li>TRUE</li>\n",
       "\t<li>TRUE</li>\n",
       "\t<li>TRUE</li>\n",
       "\t<li>TRUE</li>\n",
       "\t<li>TRUE</li>\n",
       "\t<li>TRUE</li>\n",
       "\t<li>TRUE</li>\n",
       "\t<li>TRUE</li>\n",
       "\t<li>TRUE</li>\n",
       "\t<li>TRUE</li>\n",
       "\t<li>TRUE</li>\n",
       "\t<li>TRUE</li>\n",
       "</ol>\n"
      ],
      "text/latex": [
       "\\begin{enumerate}\n",
       "\\item TRUE\n",
       "\\item TRUE\n",
       "\\item TRUE\n",
       "\\item TRUE\n",
       "\\item TRUE\n",
       "\\item TRUE\n",
       "\\item TRUE\n",
       "\\item TRUE\n",
       "\\item TRUE\n",
       "\\item TRUE\n",
       "\\item TRUE\n",
       "\\item TRUE\n",
       "\\end{enumerate}\n"
      ],
      "text/markdown": [
       "1. TRUE\n",
       "2. TRUE\n",
       "3. TRUE\n",
       "4. TRUE\n",
       "5. TRUE\n",
       "6. TRUE\n",
       "7. TRUE\n",
       "8. TRUE\n",
       "9. TRUE\n",
       "10. TRUE\n",
       "11. TRUE\n",
       "12. TRUE\n",
       "\n",
       "\n"
      ],
      "text/plain": [
       "[[1]]\n",
       "[1] TRUE\n",
       "\n",
       "[[2]]\n",
       "[1] TRUE\n",
       "\n",
       "[[3]]\n",
       "[1] TRUE\n",
       "\n",
       "[[4]]\n",
       "[1] TRUE\n",
       "\n",
       "[[5]]\n",
       "[1] TRUE\n",
       "\n",
       "[[6]]\n",
       "[1] TRUE\n",
       "\n",
       "[[7]]\n",
       "[1] TRUE\n",
       "\n",
       "[[8]]\n",
       "[1] TRUE\n",
       "\n",
       "[[9]]\n",
       "[1] TRUE\n",
       "\n",
       "[[10]]\n",
       "[1] TRUE\n",
       "\n",
       "[[11]]\n",
       "[1] TRUE\n",
       "\n",
       "[[12]]\n",
       "[1] TRUE\n"
      ]
     },
     "metadata": {},
     "output_type": "display_data"
    }
   ],
   "source": [
    "# Empty working space\n",
    "rm(list=ls())\n",
    "\n",
    "#Load Packages\n",
    "# Define packages that you need, \n",
    "packages_vector <- c( \"haven\", \"dplyr\",  \"sandwich\",  \"jtools\", \"fBasics\",  \n",
    "                     \"xtable\",  \"stargazer\", \"data.table\", \"tidyverse\", \"ggplot2\", \n",
    "                     \"AER\", # AER package for ivreg command \n",
    "                     \"causalweight\") # for semiparametric LATE\n",
    "lapply(packages_vector, require, character.only = TRUE) \n",
    "\n",
    "\n",
    "# Function for table display\n",
    "repr_html.xtable <- function(obj, ...){\n",
    "    paste(capture.output(print(obj, type = 'html')), collapse=\"\", sep=\"\")\n",
    "}\n"
   ]
  },
  {
   "cell_type": "markdown",
   "metadata": {},
   "source": [
    "### Read in the data"
   ]
  },
  {
   "cell_type": "code",
   "execution_count": 2,
   "metadata": {},
   "outputs": [
    {
     "data": {
      "text/html": [
       "<table class=\"dataframe\">\n",
       "<caption>A tibble: 6 × 35</caption>\n",
       "<thead>\n",
       "\t<tr><th scope=col>morekids</th><th scope=col>kidcount</th><th scope=col>samesex</th><th scope=col>multi2nd</th><th scope=col>ageqk</th><th scope=col>ageq2nd</th><th scope=col>ageq3rd</th><th scope=col>boy1st</th><th scope=col>boy2nd</th><th scope=col>boys2</th><th scope=col>...</th><th scope=col>weeksd</th><th scope=col>hourswd</th><th scope=col>workedm</th><th scope=col>workedd</th><th scope=col>incomem</th><th scope=col>incomed</th><th scope=col>lfaminc</th><th scope=col>nonmomi</th><th scope=col>lnonmomi</th><th scope=col>msample</th></tr>\n",
       "\t<tr><th scope=col>&lt;dbl&gt;</th><th scope=col>&lt;dbl&gt;</th><th scope=col>&lt;dbl&gt;</th><th scope=col>&lt;dbl&gt;</th><th scope=col>&lt;dbl&gt;</th><th scope=col>&lt;dbl&gt;</th><th scope=col>&lt;dbl&gt;</th><th scope=col>&lt;dbl&gt;</th><th scope=col>&lt;dbl&gt;</th><th scope=col>&lt;dbl&gt;</th><th scope=col>...</th><th scope=col>&lt;dbl&gt;</th><th scope=col>&lt;dbl&gt;</th><th scope=col>&lt;dbl&gt;</th><th scope=col>&lt;dbl&gt;</th><th scope=col>&lt;dbl&gt;</th><th scope=col>&lt;dbl&gt;</th><th scope=col>&lt;dbl&gt;</th><th scope=col>&lt;dbl&gt;</th><th scope=col>&lt;dbl&gt;</th><th scope=col>&lt;dbl&gt;</th></tr>\n",
       "</thead>\n",
       "<tbody>\n",
       "\t<tr><td>1</td><td>5</td><td>1</td><td>0</td><td>57</td><td>51</td><td>47</td><td>1</td><td>1</td><td>1</td><td>...</td><td>52</td><td>50</td><td>1</td><td>1</td><td> 6790.827</td><td> 33345.371</td><td>10.60003</td><td> 33345.371</td><td>10.41467</td><td>1</td></tr>\n",
       "\t<tr><td>0</td><td>1</td><td>0</td><td>1</td><td> 5</td><td>NA</td><td> 0</td><td>0</td><td>0</td><td>0</td><td>...</td><td>52</td><td>40</td><td>0</td><td>1</td><td>    0.000</td><td> 46192.312</td><td>10.76348</td><td> 47262.891</td><td>10.76348</td><td>1</td></tr>\n",
       "\t<tr><td>0</td><td>2</td><td>1</td><td>0</td><td>38</td><td>13</td><td> 0</td><td>0</td><td>0</td><td>0</td><td>...</td><td>45</td><td>40</td><td>1</td><td>1</td><td>10506.363</td><td> 50390.660</td><td>11.02295</td><td> 50758.016</td><td>10.83482</td><td>0</td></tr>\n",
       "\t<tr><td>0</td><td>2</td><td>0</td><td>0</td><td>51</td><td>38</td><td> 0</td><td>0</td><td>1</td><td>0</td><td>...</td><td>52</td><td>46</td><td>0</td><td>1</td><td>    0.000</td><td>115465.039</td><td>11.65672</td><td>115465.039</td><td>11.65672</td><td>1</td></tr>\n",
       "\t<tr><td>1</td><td>3</td><td>1</td><td>0</td><td>41</td><td>37</td><td> 8</td><td>1</td><td>1</td><td>1</td><td>...</td><td>48</td><td>40</td><td>0</td><td>1</td><td>    0.000</td><td>  5048.512</td><td> 8.54946</td><td>  5163.967</td><td> 8.54946</td><td>1</td></tr>\n",
       "\t<tr><td>0</td><td>2</td><td>0</td><td>0</td><td>18</td><td> 6</td><td> 0</td><td>1</td><td>0</td><td>0</td><td>...</td><td>50</td><td>52</td><td>1</td><td>1</td><td>20750.330</td><td> 32547.686</td><td>10.88365</td><td> 32547.686</td><td>10.39046</td><td>1</td></tr>\n",
       "</tbody>\n",
       "</table>\n"
      ],
      "text/latex": [
       "A tibble: 6 × 35\n",
       "\\begin{tabular}{lllllllllllllllllllll}\n",
       " morekids & kidcount & samesex & multi2nd & ageqk & ageq2nd & ageq3rd & boy1st & boy2nd & boys2 & ... & weeksd & hourswd & workedm & workedd & incomem & incomed & lfaminc & nonmomi & lnonmomi & msample\\\\\n",
       " <dbl> & <dbl> & <dbl> & <dbl> & <dbl> & <dbl> & <dbl> & <dbl> & <dbl> & <dbl> & ... & <dbl> & <dbl> & <dbl> & <dbl> & <dbl> & <dbl> & <dbl> & <dbl> & <dbl> & <dbl>\\\\\n",
       "\\hline\n",
       "\t 1 & 5 & 1 & 0 & 57 & 51 & 47 & 1 & 1 & 1 & ... & 52 & 50 & 1 & 1 &  6790.827 &  33345.371 & 10.60003 &  33345.371 & 10.41467 & 1\\\\\n",
       "\t 0 & 1 & 0 & 1 &  5 & NA &  0 & 0 & 0 & 0 & ... & 52 & 40 & 0 & 1 &     0.000 &  46192.312 & 10.76348 &  47262.891 & 10.76348 & 1\\\\\n",
       "\t 0 & 2 & 1 & 0 & 38 & 13 &  0 & 0 & 0 & 0 & ... & 45 & 40 & 1 & 1 & 10506.363 &  50390.660 & 11.02295 &  50758.016 & 10.83482 & 0\\\\\n",
       "\t 0 & 2 & 0 & 0 & 51 & 38 &  0 & 0 & 1 & 0 & ... & 52 & 46 & 0 & 1 &     0.000 & 115465.039 & 11.65672 & 115465.039 & 11.65672 & 1\\\\\n",
       "\t 1 & 3 & 1 & 0 & 41 & 37 &  8 & 1 & 1 & 1 & ... & 48 & 40 & 0 & 1 &     0.000 &   5048.512 &  8.54946 &   5163.967 &  8.54946 & 1\\\\\n",
       "\t 0 & 2 & 0 & 0 & 18 &  6 &  0 & 1 & 0 & 0 & ... & 50 & 52 & 1 & 1 & 20750.330 &  32547.686 & 10.88365 &  32547.686 & 10.39046 & 1\\\\\n",
       "\\end{tabular}\n"
      ],
      "text/markdown": [
       "\n",
       "A tibble: 6 × 35\n",
       "\n",
       "| morekids &lt;dbl&gt; | kidcount &lt;dbl&gt; | samesex &lt;dbl&gt; | multi2nd &lt;dbl&gt; | ageqk &lt;dbl&gt; | ageq2nd &lt;dbl&gt; | ageq3rd &lt;dbl&gt; | boy1st &lt;dbl&gt; | boy2nd &lt;dbl&gt; | boys2 &lt;dbl&gt; | ... ... | weeksd &lt;dbl&gt; | hourswd &lt;dbl&gt; | workedm &lt;dbl&gt; | workedd &lt;dbl&gt; | incomem &lt;dbl&gt; | incomed &lt;dbl&gt; | lfaminc &lt;dbl&gt; | nonmomi &lt;dbl&gt; | lnonmomi &lt;dbl&gt; | msample &lt;dbl&gt; |\n",
       "|---|---|---|---|---|---|---|---|---|---|---|---|---|---|---|---|---|---|---|---|---|\n",
       "| 1 | 5 | 1 | 0 | 57 | 51 | 47 | 1 | 1 | 1 | ... | 52 | 50 | 1 | 1 |  6790.827 |  33345.371 | 10.60003 |  33345.371 | 10.41467 | 1 |\n",
       "| 0 | 1 | 0 | 1 |  5 | NA |  0 | 0 | 0 | 0 | ... | 52 | 40 | 0 | 1 |     0.000 |  46192.312 | 10.76348 |  47262.891 | 10.76348 | 1 |\n",
       "| 0 | 2 | 1 | 0 | 38 | 13 |  0 | 0 | 0 | 0 | ... | 45 | 40 | 1 | 1 | 10506.363 |  50390.660 | 11.02295 |  50758.016 | 10.83482 | 0 |\n",
       "| 0 | 2 | 0 | 0 | 51 | 38 |  0 | 0 | 1 | 0 | ... | 52 | 46 | 0 | 1 |     0.000 | 115465.039 | 11.65672 | 115465.039 | 11.65672 | 1 |\n",
       "| 1 | 3 | 1 | 0 | 41 | 37 |  8 | 1 | 1 | 1 | ... | 48 | 40 | 0 | 1 |     0.000 |   5048.512 |  8.54946 |   5163.967 |  8.54946 | 1 |\n",
       "| 0 | 2 | 0 | 0 | 18 |  6 |  0 | 1 | 0 | 0 | ... | 50 | 52 | 1 | 1 | 20750.330 |  32547.686 | 10.88365 |  32547.686 | 10.39046 | 1 |\n",
       "\n"
      ],
      "text/plain": [
       "  morekids kidcount samesex multi2nd ageqk ageq2nd ageq3rd boy1st boy2nd boys2\n",
       "1 1        5        1       0        57    51      47      1      1      1    \n",
       "2 0        1        0       1         5    NA       0      0      0      0    \n",
       "3 0        2        1       0        38    13       0      0      0      0    \n",
       "4 0        2        0       0        51    38       0      0      1      0    \n",
       "5 1        3        1       0        41    37       8      1      1      1    \n",
       "6 0        2        0       0        18     6       0      1      0      0    \n",
       "  ... weeksd hourswd workedm workedd incomem   incomed    lfaminc  nonmomi   \n",
       "1 ... 52     50      1       1        6790.827  33345.371 10.60003  33345.371\n",
       "2 ... 52     40      0       1           0.000  46192.312 10.76348  47262.891\n",
       "3 ... 45     40      1       1       10506.363  50390.660 11.02295  50758.016\n",
       "4 ... 52     46      0       1           0.000 115465.039 11.65672 115465.039\n",
       "5 ... 48     40      0       1           0.000   5048.512  8.54946   5163.967\n",
       "6 ... 50     52      1       1       20750.330  32547.686 10.88365  32547.686\n",
       "  lnonmomi msample\n",
       "1 10.41467 1      \n",
       "2 10.76348 1      \n",
       "3 10.83482 0      \n",
       "4 11.65672 1      \n",
       "5  8.54946 1      \n",
       "6 10.39046 1      "
      ]
     },
     "metadata": {},
     "output_type": "display_data"
    }
   ],
   "source": [
    "# Random sample of 1980 PUMS data (1/3 of observations)\n",
    "data <-read_dta(\"AngristEvans1980_sample.dta\")\n",
    "\n",
    "# Inspect\n",
    "head(data)"
   ]
  },
  {
   "cell_type": "markdown",
   "metadata": {},
   "source": [
    "### Sample selection criteria for the main analysis"
   ]
  },
  {
   "cell_type": "code",
   "execution_count": 3,
   "metadata": {},
   "outputs": [
    {
     "name": "stdout",
     "output_type": "stream",
     "text": [
      "[1] \"Sample size before sample restrictions:\"\n"
     ]
    },
    {
     "data": {
      "text/html": [
       "440623"
      ],
      "text/latex": [
       "440623"
      ],
      "text/markdown": [
       "440623"
      ],
      "text/plain": [
       "[1] 440623"
      ]
     },
     "metadata": {},
     "output_type": "display_data"
    },
    {
     "name": "stdout",
     "output_type": "stream",
     "text": [
      "[1] \"Sample size after sample restrictions:\"\n"
     ]
    },
    {
     "data": {
      "text/html": [
       "197071"
      ],
      "text/latex": [
       "197071"
      ],
      "text/markdown": [
       "197071"
      ],
      "text/plain": [
       "[1] 197071"
      ]
     },
     "metadata": {},
     "output_type": "display_data"
    }
   ],
   "source": [
    "# Number of observations before sample selection\n",
    "print(\"Sample size before sample restrictions:\")\n",
    "nrow(data)\n",
    "\n",
    "# only keep women aged 21-35\n",
    "data <- dplyr::filter(data, agem >= 21 & agem <= 35)\n",
    "\n",
    "# who were older than 15 at first birth\n",
    "data <- dplyr::filter(data, agefstm >= 15)\n",
    "\n",
    "# who have 2 or more children\n",
    "data <- dplyr::filter(data, kidcount >= 2)\n",
    "\n",
    "# second child older than 4 quarters (1 year)\n",
    "data <- dplyr::filter(data, ageq2nd > 4) \n",
    "\n",
    "# Number of observations after sample selection\n",
    "print(\"Sample size after sample restrictions:\")\n",
    "nrow(data)\n"
   ]
  },
  {
   "cell_type": "markdown",
   "metadata": {},
   "source": [
    "Note: The census does not allow to track children across households.\n",
    "\n",
    "\n",
    "* What do the sample selection criteria ensure?\n",
    "\n",
    "\n",
    "* What do they imply for the representativeness of the estimates? I.e., is this a selective sample?\n",
    "\n",
    "\n",
    "* Is the age < 35 restriction problematic?"
   ]
  },
  {
   "cell_type": "markdown",
   "metadata": {},
   "source": [
    "### Define Variables of Interest"
   ]
  },
  {
   "cell_type": "code",
   "execution_count": 4,
   "metadata": {},
   "outputs": [],
   "source": [
    "# Endogenous Variable\n",
    "data$d <- data$morekids # has more than 2 kids\n",
    "\n",
    "# Instrument\n",
    "data$z <- data$samesex # first two kids are of same sex\n",
    "\n",
    "# Store each variable in own R object \n",
    "attach(data) \n",
    "\n",
    "# Labour market outcomes (mother)\n",
    "y_mat <- cbind(workedm, weeksm, hourswm, incomem, lfaminc)\n",
    "y_names<- c(\"workedm\", \"weeksm\", \"hourswm\", \"incomem\", \"lfaminc\")\n",
    "\n",
    "# Variables to describe (name vector)\n",
    "x_desc_names<-c(\"kidcount\", \"morekids\", \"boy1st\", \"boy2nd\", \"boys2\", \n",
    "                \"girls2\", \"samesex\", \"multi2nd\", \"agem\" ,\"aged\", \n",
    "                \"agefstm\", \"agefstd\", \"workedm\", \"workedd\", \"weeksm\", \n",
    "                \"weeksd\", \"hourswm\", \"hourswd\", \"incomem\", \"incomed\", \n",
    "                \"faminc\", \"nonmomi\") \n"
   ]
  },
  {
   "cell_type": "markdown",
   "metadata": {},
   "source": [
    "### Descriptive Statistics\n",
    "\n",
    "We replicate Table 2 (page 445) for the 1980 data using the whole sample"
   ]
  },
  {
   "cell_type": "code",
   "execution_count": 5,
   "metadata": {},
   "outputs": [
    {
     "name": "stdout",
     "output_type": "stream",
     "text": [
      "[1] \"Descriptive statistics\"\n",
      "              Mean     Stdev   nobs\n",
      "kidcount     2.552     0.807 197071\n",
      "morekids     0.402     0.490 197071\n",
      "boy1st       0.511     0.500 197071\n",
      "boy2nd       0.510     0.500 197071\n",
      "boys2        0.263     0.440 197071\n",
      "girls2       0.242     0.428 197071\n",
      "samesex      0.505     0.500 197071\n",
      "multi2nd     0.009     0.093 197071\n",
      "agem        30.129     3.507 197071\n",
      "aged        32.954     4.976 197071\n",
      "agefstm     20.142     2.953 197071\n",
      "agefstd     23.580     4.475 197071\n",
      "workedm      0.566     0.496 197071\n",
      "workedd      0.978     0.148 197071\n",
      "weeksm      20.811    22.271 197071\n",
      "weeksd      47.439    11.173 197071\n",
      "hourswm     18.804    18.917 197071\n",
      "hourswd     43.169    12.560 197071\n",
      "incomem   7162.109 10829.388 197071\n",
      "incomed  37428.423 24661.649 197071\n",
      "faminc   42368.075 26635.494 197071\n",
      "nonmomi  35443.030 25857.905 197071\n",
      "[1] \"Number of observations\"\n"
     ]
    },
    {
     "data": {
      "text/html": [
       "197071"
      ],
      "text/latex": [
       "197071"
      ],
      "text/markdown": [
       "197071"
      ],
      "text/plain": [
       "[1] 197071"
      ]
     },
     "metadata": {},
     "output_type": "display_data"
    }
   ],
   "source": [
    "# Descriptives based on x_desc_names\n",
    "desc <- fBasics::basicStats(data[x_desc_names]) %>% \n",
    "                t() %>% \n",
    "                as.data.frame() %>% \n",
    "                dplyr::select(Mean, Stdev, nobs)\n",
    "\n",
    "print(\"Descriptive statistics\")\n",
    "print(round(desc, digits=3))\n",
    "print(\"Number of observations\") \n",
    "nrow(data)"
   ]
  },
  {
   "cell_type": "markdown",
   "metadata": {},
   "source": [
    "### Check balancedness of covariates\n",
    "\n",
    "We compare the average characteristics of individuals with and without children of the same gender to provide supporting evidence for the randomness of our instrument. \n",
    "\n",
    "See Table 4, page 459."
   ]
  },
  {
   "cell_type": "code",
   "execution_count": 6,
   "metadata": {
    "scrolled": true
   },
   "outputs": [
    {
     "name": "stdout",
     "output_type": "stream",
     "text": [
      "[1] \"Difference in means for demographic variables by same sex\"\n"
     ]
    },
    {
     "data": {
      "text/html": [
       "<!-- html table generated in R 4.0.3 by xtable 1.8-4 package --><!-- Wed Oct 27 10:56:06 2021 --><table border=1><tr> <th>  </th> <th> E(X|Z=0) </th> <th> E(X|Z=1) </th> <th> Difference </th> <th> s.e. </th> <th> p-value </th>  </tr>  <tr> <td align=\"right\"> agem </td> <td align=\"right\"> 30.136 </td> <td align=\"right\"> 30.122 </td> <td align=\"right\"> -0.013 </td> <td align=\"right\"> 0.016 </td> <td align=\"right\"> 0.405 </td> </tr>  <tr> <td align=\"right\"> agefstm </td> <td align=\"right\"> 20.135 </td> <td align=\"right\"> 20.150 </td> <td align=\"right\"> 0.015 </td> <td align=\"right\"> 0.013 </td> <td align=\"right\"> 0.253 </td> </tr>  <tr> <td align=\"right\"> blackm </td> <td align=\"right\"> 0.119 </td> <td align=\"right\"> 0.120 </td> <td align=\"right\"> 0.001 </td> <td align=\"right\"> 0.001 </td> <td align=\"right\"> 0.558 </td> </tr>  <tr> <td align=\"right\"> hispm </td> <td align=\"right\"> 0.030 </td> <td align=\"right\"> 0.030 </td> <td align=\"right\"> 0.001 </td> <td align=\"right\"> 0.001 </td> <td align=\"right\"> 0.469 </td> </tr>  <tr> <td align=\"right\"> othracem </td> <td align=\"right\"> 0.029 </td> <td align=\"right\"> 0.028 </td> <td align=\"right\"> -0.001 </td> <td align=\"right\"> 0.001 </td> <td align=\"right\"> 0.167 </td> </tr>  <tr> <td align=\"right\"> educm </td> <td align=\"right\"> 12.135 </td> <td align=\"right\"> 12.127 </td> <td align=\"right\"> -0.008 </td> <td align=\"right\"> 0.011 </td> <td align=\"right\"> 0.449 </td> </tr>  <tr> <td align=\"right\"> Observations </td> <td align=\"right\"> 97516.000 </td> <td align=\"right\"> 99555.000 </td> <td align=\"right\">  </td> <td align=\"right\">  </td> <td align=\"right\">  </td> </tr>   </table>"
      ],
      "text/latex": [
       "A xtable: 7 × 5\n",
       "\\begin{tabular}{r|lllll}\n",
       "  & E(X\\textbar{}Z=0) & E(X\\textbar{}Z=1) & Difference & s.e. & p-value\\\\\n",
       "  & <dbl> & <dbl> & <dbl> & <dbl> & <dbl>\\\\\n",
       "\\hline\n",
       "\tagem & 3.013566e+01 & 3.012250e+01 & -0.0131646860 & 0.0157990939 & 0.4047005\\\\\n",
       "\tagefstm & 2.013458e+01 & 2.014979e+01 &  0.0152035074 & 0.0133051375 & 0.2531717\\\\\n",
       "\tblackm & 1.190369e-01 & 1.198935e-01 &  0.0008566502 & 0.0014612634 & 0.5577146\\\\\n",
       "\thispm & 2.971820e-02 & 3.027472e-02 &  0.0005565224 & 0.0007684981 & 0.4689620\\\\\n",
       "\tothracem & 2.865171e-02 & 2.762292e-02 & -0.0010287864 & 0.0007451152 & 0.1673688\\\\\n",
       "\teducm & 1.213522e+01 & 1.212704e+01 & -0.0081835288 & 0.0108087026 & 0.4489755\\\\\n",
       "\tObservations & 9.751600e+04 & 9.955500e+04 &            NA &           NA &        NA\\\\\n",
       "\\end{tabular}\n"
      ],
      "text/markdown": [
       "\n",
       "A xtable: 7 × 5\n",
       "\n",
       "| <!--/--> | E(X|Z=0) &lt;dbl&gt; | E(X|Z=1) &lt;dbl&gt; | Difference &lt;dbl&gt; | s.e. &lt;dbl&gt; | p-value &lt;dbl&gt; |\n",
       "|---|---|---|---|---|---|\n",
       "| agem | 3.013566e+01 | 3.012250e+01 | -0.0131646860 | 0.0157990939 | 0.4047005 |\n",
       "| agefstm | 2.013458e+01 | 2.014979e+01 |  0.0152035074 | 0.0133051375 | 0.2531717 |\n",
       "| blackm | 1.190369e-01 | 1.198935e-01 |  0.0008566502 | 0.0014612634 | 0.5577146 |\n",
       "| hispm | 2.971820e-02 | 3.027472e-02 |  0.0005565224 | 0.0007684981 | 0.4689620 |\n",
       "| othracem | 2.865171e-02 | 2.762292e-02 | -0.0010287864 | 0.0007451152 | 0.1673688 |\n",
       "| educm | 1.213522e+01 | 1.212704e+01 | -0.0081835288 | 0.0108087026 | 0.4489755 |\n",
       "| Observations | 9.751600e+04 | 9.955500e+04 |            NA |           NA |        NA |\n",
       "\n"
      ],
      "text/plain": [
       "             E(X|Z=0)     E(X|Z=1)     Difference    s.e.         p-value  \n",
       "agem         3.013566e+01 3.012250e+01 -0.0131646860 0.0157990939 0.4047005\n",
       "agefstm      2.013458e+01 2.014979e+01  0.0152035074 0.0133051375 0.2531717\n",
       "blackm       1.190369e-01 1.198935e-01  0.0008566502 0.0014612634 0.5577146\n",
       "hispm        2.971820e-02 3.027472e-02  0.0005565224 0.0007684981 0.4689620\n",
       "othracem     2.865171e-02 2.762292e-02 -0.0010287864 0.0007451152 0.1673688\n",
       "educm        1.213522e+01 1.212704e+01 -0.0081835288 0.0108087026 0.4489755\n",
       "Observations 9.751600e+04 9.955500e+04            NA           NA        NA"
      ]
     },
     "metadata": {},
     "output_type": "display_data"
    }
   ],
   "source": [
    "# Define a vector of covariates\n",
    "x_diff <- cbind(agem, agefstm, blackm, hispm, othracem, educm)\n",
    "x_names <- colnames(x_diff)\n",
    "\n",
    "# Define a function estimating the differences across samesex\n",
    "balance_check.model <- function(x){\n",
    "    \n",
    "    # Conditional means\n",
    "    mean_z0 <- mean(x[z==0])\n",
    "    mean_z1 <- mean(x[z==1])\n",
    "    \n",
    "    # Difference in means\n",
    "    diff_z <- lm(x ~ z)\n",
    "    cov <- vcovHC(diff_z, type = \"HC\")\n",
    "    robust.se <- sqrt(diag(cov))\n",
    "    \n",
    "    list(mean_z0 = mean_z0, \n",
    "         mean_z1 = mean_z1,\n",
    "        diff = diff_z$coefficients[2], \n",
    "        robust.se = robust.se[2], \n",
    "        pval = 2*pnorm(-abs(diff_z$coefficients[2]/robust.se[2])) )             \n",
    "}\n",
    "\n",
    "# Run function and bind to number of observations \n",
    "diff_output <- apply(x_diff, 2, balance_check.model)\n",
    "diff_output <- as.data.frame(rbindlist(diff_output))\n",
    "\n",
    "obs <- c(nrow(data[z==0,]), \n",
    "           nrow(data[z==1,]), \n",
    "           NA, NA, NA)\n",
    "diff_output <- rbind(diff_output, obs)\n",
    "\n",
    "# Format # Display in desired format\n",
    "rownames(diff_output)<- c(x_names, \"Observations\")\n",
    "colnames(diff_output)<- c(\"E(X|Z=0)\", \"E(X|Z=1)\", \"Difference\", \"s.e.\", \"p-value\")\n",
    "print(\"Difference in means for demographic variables by same sex\")\n",
    "xtable(diff_output, digits=3)"
   ]
  },
  {
   "cell_type": "markdown",
   "metadata": {},
   "source": [
    "Covariates are essentially randomly distributed across $Z=0$ and $Z=1$, we have a fully randomized instrument."
   ]
  },
  {
   "cell_type": "markdown",
   "metadata": {},
   "source": [
    "### First stage\n",
    "\n",
    "We estimate the first stage parametrically. First, without adding controls\n",
    "\n",
    "(1) $D_i=\\alpha_1+\\pi_1Z_i+\\varepsilon_{1,i}$\n",
    "\n",
    "\n",
    "Second, controlling for the gender of the first two children and some demographic variables:\n",
    "\n",
    "(2) $D_i=\\alpha_1+\\pi_1Z_i+X_i'\\beta_1+\\varepsilon_{1,i}$\n",
    "\n",
    "See Table 6, page 462 in the paper.\n"
   ]
  },
  {
   "cell_type": "code",
   "execution_count": 7,
   "metadata": {},
   "outputs": [
    {
     "name": "stdout",
     "output_type": "stream",
     "text": [
      "\n",
      "======================================================================\n",
      "                                Dependent variable:                   \n",
      "             ---------------------------------------------------------\n",
      "                              More than two children                  \n",
      "                         (1)                          (2)             \n",
      "----------------------------------------------------------------------\n",
      "samesex               0.057***                     0.059***           \n",
      "                       (0.002)                      (0.002)           \n",
      "                                                                      \n",
      "xboy1st                                            -0.010***          \n",
      "                                                    (0.002)           \n",
      "                                                                      \n",
      "xboy2nd                                            -0.009***          \n",
      "                                                    (0.002)           \n",
      "                                                                      \n",
      "----------------------------------------------------------------------\n",
      "Observations           197,071                      197,071           \n",
      "R2                      0.003                        0.084            \n",
      "F Statistic  677.951*** (df = 1; 197069) 2,254.119*** (df = 8; 197062)\n",
      "======================================================================\n",
      "Note:                                      *p<0.1; **p<0.05; ***p<0.01\n"
     ]
    }
   ],
   "source": [
    "# First stage regression w/o controls\n",
    "ols.m.morekids.1 <- lm(d ~ samesex )\n",
    "cov <- vcovHC(ols.m.morekids.1, type = \"HC\")\n",
    "robust.se.morekids.1 <- sqrt(diag(cov))\n",
    "\n",
    "# define vector of controls\n",
    "x <- cbind(boy1st, boy2nd, agem, agefstm, blackm, hispm, othracem)\n",
    "\n",
    "# First stage regression w/ controls\n",
    "ols.m.morekids.2 <- lm(d ~ samesex + x)\n",
    "cov <- vcovHC(ols.m.morekids.2, type = \"HC\")\n",
    "robust.se.morekids.2 <- sqrt(diag(cov))\n",
    "\n",
    "# Output Coefficients\n",
    "stargazer(ols.m.morekids.1,ols.m.morekids.2, \n",
    "          se=list(robust.se.morekids.1, robust.se.morekids.2), \n",
    "          type=\"text\",\n",
    "          keep=c(\"boy1st\", \"boy2nd\", \"samesex\"), \n",
    "          keep.stat = c(\"n\", \"rsq\", \"f\"), \n",
    "          align=TRUE, dep.var.labels = c(\"More than two children\"), \n",
    "          dep.var.labels.include = TRUE)"
   ]
  },
  {
   "cell_type": "markdown",
   "metadata": {},
   "source": [
    "* How do we interpret this first stage?\n",
    "\n",
    "\n",
    "* Why do we control for the gender of the first two children?\n",
    "\n",
    "\n",
    "* Why do we include additional control variables?\n"
   ]
  },
  {
   "cell_type": "markdown",
   "metadata": {},
   "source": [
    "### Wald estimate - Nonparametric LATE\n",
    "\n",
    "We estimate the following\n",
    "\n",
    "$$ \\text{LATE}=\\frac{E[Y|Z=1]-E[Y|Z=0]}{E[D|Z=1]-E[D|Z=0]}$$\n",
    "\n",
    "\n",
    "We compute the Wald estimate exemplarily for *workedm*, based on the full sample. \n",
    "\n",
    "See Table 5 (first 2 columns)."
   ]
  },
  {
   "cell_type": "code",
   "execution_count": 8,
   "metadata": {},
   "outputs": [
    {
     "name": "stdout",
     "output_type": "stream",
     "text": [
      "[1] \"Wald estimate for the effect of children on the labour force participation of women\"\n"
     ]
    },
    {
     "data": {
      "text/html": [
       "<!-- html table generated in R 4.0.3 by xtable 1.8-4 package --><!-- Wed Oct 27 10:56:07 2021 --><table border=1><tr> <th>  </th> <th> Z=1 </th> <th> Z=0 </th> <th> Difference </th>  </tr>  <tr> <td align=\"right\"> E(Y|Z) </td> <td align=\"right\"> 0.562 </td> <td align=\"right\"> 0.570 </td> <td align=\"right\"> -0.007 </td> </tr>  <tr> <td align=\"right\"> E(D|Z) </td> <td align=\"right\"> 0.431 </td> <td align=\"right\"> 0.373 </td> <td align=\"right\"> 0.057 </td> </tr>  <tr> <td align=\"right\"> Wald estimator </td> <td align=\"right\">  </td> <td align=\"right\">  </td> <td align=\"right\"> -0.128 </td> </tr>   </table>"
      ],
      "text/latex": [
       "A xtable: 3 × 3\n",
       "\\begin{tabular}{r|lll}\n",
       "  & Z=1 & Z=0 & Difference\\\\\n",
       "  & <dbl> & <dbl> & <dbl>\\\\\n",
       "\\hline\n",
       "\tE(Y\\textbar{}Z) & 0.5623926 & 0.5697629 & -0.007370263\\\\\n",
       "\tE(D\\textbar{}Z) & 0.4306564 & 0.3732311 &  0.057425362\\\\\n",
       "\tWald estimator &        NA &        NA & -0.128345094\\\\\n",
       "\\end{tabular}\n"
      ],
      "text/markdown": [
       "\n",
       "A xtable: 3 × 3\n",
       "\n",
       "| <!--/--> | Z=1 &lt;dbl&gt; | Z=0 &lt;dbl&gt; | Difference &lt;dbl&gt; |\n",
       "|---|---|---|---|\n",
       "| E(Y|Z) | 0.5623926 | 0.5697629 | -0.007370263 |\n",
       "| E(D|Z) | 0.4306564 | 0.3732311 |  0.057425362 |\n",
       "| Wald estimator |        NA |        NA | -0.128345094 |\n",
       "\n"
      ],
      "text/plain": [
       "               Z=1       Z=0       Difference  \n",
       "E(Y|Z)         0.5623926 0.5697629 -0.007370263\n",
       "E(D|Z)         0.4306564 0.3732311  0.057425362\n",
       "Wald estimator        NA        NA -0.128345094"
      ]
     },
     "metadata": {},
     "output_type": "display_data"
    }
   ],
   "source": [
    "# Conditional outcomes (for participation decision)\n",
    "E_workedm_1 = mean(workedm[z==1])\n",
    "E_workedm_0 = mean(workedm[z==0])\n",
    "\n",
    "# Conditional treatment\n",
    "E_d_1 = mean(d[z==1])\n",
    "E_d_0 = mean(d[z==0])\n",
    "\n",
    "# Difference in conditional outcomes\n",
    "diff_workedm = E_workedm_1 - E_workedm_0\n",
    "\n",
    "# Difference in conditional treatment = FIRST STAGE\n",
    "diff_d = E_d_1 - E_d_0 \n",
    "\n",
    "#########################\n",
    "#  Wald Estimate / LATE #\n",
    "#########################\n",
    "wald_workedm = diff_workedm/diff_d \n",
    "\n",
    "# Present results in simple table\n",
    "tab_wald <- rbind(cbind(E_workedm_1, E_workedm_0, diff_workedm), \n",
    "                  cbind(E_d_1, E_d_0, diff_d), \n",
    "                  cbind(NA, NA, wald_workedm))\n",
    "colnames(tab_wald) <- c(\"Z=1\", \"Z=0\", \"Difference\")\n",
    "rownames(tab_wald) <- c(\"E(Y|Z)\", \"E(D|Z)\", \"Wald estimator\")\n",
    "\n",
    "print(\"Wald estimate for the effect of children on the labour force participation of women\")\n",
    "xtable(tab_wald, digits =3)"
   ]
  },
  {
   "cell_type": "markdown",
   "metadata": {},
   "source": [
    "How do we interpret this effect?\n",
    "\n",
    "What about inference?"
   ]
  },
  {
   "cell_type": "markdown",
   "metadata": {},
   "source": [
    "### Reduced-Form\n",
    "\n",
    "Reduced-form regression of $Y$ on $Z$:\n",
    "\n",
    "$Y_i=\\alpha_0+\\pi_0Z_i+X_i'\\beta_0+\\varepsilon_{0,i}$"
   ]
  },
  {
   "cell_type": "code",
   "execution_count": 9,
   "metadata": {},
   "outputs": [
    {
     "name": "stdout",
     "output_type": "stream",
     "text": [
      "[1] \"Reduced form estimates of labour supply models\"\n"
     ]
    },
    {
     "data": {
      "text/html": [
       "<!-- html table generated in R 4.0.3 by xtable 1.8-4 package --><!-- Wed Oct 27 10:56:10 2021 --><table border=1><tr> <th>  </th> <th> itt.coeff </th> <th> robust.se </th> <th> pval </th>  </tr>  <tr> <td align=\"right\"> workedm </td> <td align=\"right\"> -0.007 </td> <td align=\"right\"> 0.002 </td> <td align=\"right\"> 0.002 </td> </tr>  <tr> <td align=\"right\"> weeksm </td> <td align=\"right\"> -0.241 </td> <td align=\"right\"> 0.098 </td> <td align=\"right\"> 0.014 </td> </tr>  <tr> <td align=\"right\"> hourswm </td> <td align=\"right\"> -0.226 </td> <td align=\"right\"> 0.084 </td> <td align=\"right\"> 0.007 </td> </tr>  <tr> <td align=\"right\"> incomem </td> <td align=\"right\"> -91.480 </td> <td align=\"right\"> 47.897 </td> <td align=\"right\"> 0.056 </td> </tr>  <tr> <td align=\"right\"> lfaminc </td> <td align=\"right\"> 0.003 </td> <td align=\"right\"> 0.006 </td> <td align=\"right\"> 0.575 </td> </tr>   </table>"
      ],
      "text/latex": [
       "A xtable: 5 × 3\n",
       "\\begin{tabular}{r|lll}\n",
       "  & itt.coeff & robust.se & pval\\\\\n",
       "  & <dbl> & <dbl> & <dbl>\\\\\n",
       "\\hline\n",
       "\tworkedm &  -0.006769872 &  0.002204946 & 0.00213835\\\\\n",
       "\tweeksm &  -0.241221732 &  0.098247447 & 0.01407879\\\\\n",
       "\thourswm &  -0.226285948 &  0.083591551 & 0.00678854\\\\\n",
       "\tincomem & -91.480294765 & 47.896877022 & 0.05614058\\\\\n",
       "\tlfaminc &   0.003288056 &  0.005870235 & 0.57539533\\\\\n",
       "\\end{tabular}\n"
      ],
      "text/markdown": [
       "\n",
       "A xtable: 5 × 3\n",
       "\n",
       "| <!--/--> | itt.coeff &lt;dbl&gt; | robust.se &lt;dbl&gt; | pval &lt;dbl&gt; |\n",
       "|---|---|---|---|\n",
       "| workedm |  -0.006769872 |  0.002204946 | 0.00213835 |\n",
       "| weeksm |  -0.241221732 |  0.098247447 | 0.01407879 |\n",
       "| hourswm |  -0.226285948 |  0.083591551 | 0.00678854 |\n",
       "| incomem | -91.480294765 | 47.896877022 | 0.05614058 |\n",
       "| lfaminc |   0.003288056 |  0.005870235 | 0.57539533 |\n",
       "\n"
      ],
      "text/plain": [
       "        itt.coeff     robust.se    pval      \n",
       "workedm  -0.006769872  0.002204946 0.00213835\n",
       "weeksm   -0.241221732  0.098247447 0.01407879\n",
       "hourswm  -0.226285948  0.083591551 0.00678854\n",
       "incomem -91.480294765 47.896877022 0.05614058\n",
       "lfaminc   0.003288056  0.005870235 0.57539533"
      ]
     },
     "metadata": {},
     "output_type": "display_data"
    }
   ],
   "source": [
    "# Define function for several outcomes\n",
    "itt.model <- function(y){\n",
    "        itt.m <- lm(y ~ z + x)\n",
    "        cov <- vcovHC(itt.m, type = \"HC\")\n",
    "        robust.se <- sqrt(diag(cov))\n",
    "        \n",
    "    list(itt.coeff = itt.m$coefficients[2], \n",
    "         robust.se = robust.se[2], \n",
    "         pval = 2*pnorm(-abs(itt.m$coefficients[2]/robust.se[2])) )\n",
    "}\n",
    "\n",
    "itt_output <- apply(y_mat, 2, itt.model)\n",
    "\n",
    "# convert list to table\n",
    "itt_output<-rbindlist(itt_output)\n",
    "rownames(itt_output)<- y_names\n",
    "\n",
    "# plot table\n",
    "print(\"Reduced form estimates of labour supply models\")\n",
    "xtable(itt_output, digits=3)"
   ]
  },
  {
   "cell_type": "markdown",
   "metadata": {},
   "source": [
    "The reduced form gives an unbiased estimate of the effect of the instrument on the outcomes. \n",
    "\n",
    "It is not very informative in this context but can be, e.g. if the instrument is a policy variable. Then it would measure the intended effect of an intervention or policy. It is also referred to as intention to treat effect (ITT)."
   ]
  },
  {
   "cell_type": "markdown",
   "metadata": {},
   "source": [
    "### OLS\n",
    "\n",
    "We estimate the *naive* regression of having more children on labour supply which is also shown by the authors in  (Table 7, column 1, page 465):\n",
    "\n",
    "$Y_i=\\alpha_0+\\zeta_0D_i+X_i'\\beta_0+\\varepsilon_{0,i}$"
   ]
  },
  {
   "cell_type": "code",
   "execution_count": 10,
   "metadata": {},
   "outputs": [
    {
     "name": "stdout",
     "output_type": "stream",
     "text": [
      "[1] \"OLS estimates of labour supply models\"\n"
     ]
    },
    {
     "data": {
      "text/html": [
       "<!-- html table generated in R 4.0.3 by xtable 1.8-4 package --><!-- Wed Oct 27 10:56:13 2021 --><table border=1><tr> <th>  </th> <th> ols.coeff </th> <th> robust.se </th> <th> pval </th>  </tr>  <tr> <td align=\"right\"> workedm </td> <td align=\"right\"> -0.173 </td> <td align=\"right\"> 0.002 </td> <td align=\"right\"> 0.000 </td> </tr>  <tr> <td align=\"right\"> weeksm </td> <td align=\"right\"> -8.861 </td> <td align=\"right\"> 0.100 </td> <td align=\"right\"> 0.000 </td> </tr>  <tr> <td align=\"right\"> hourswm </td> <td align=\"right\"> -6.520 </td> <td align=\"right\"> 0.087 </td> <td align=\"right\"> 0.000 </td> </tr>  <tr> <td align=\"right\"> incomem </td> <td align=\"right\"> -3718.223 </td> <td align=\"right\"> 48.955 </td> <td align=\"right\"> 0.000 </td> </tr>  <tr> <td align=\"right\"> lfaminc </td> <td align=\"right\"> -0.134 </td> <td align=\"right\"> 0.006 </td> <td align=\"right\"> 0.000 </td> </tr>   </table>"
      ],
      "text/latex": [
       "A xtable: 5 × 3\n",
       "\\begin{tabular}{r|lll}\n",
       "  & ols.coeff & robust.se & pval\\\\\n",
       "  & <dbl> & <dbl> & <dbl>\\\\\n",
       "\\hline\n",
       "\tworkedm &    -0.1730844 &  0.002291250 & 0.000000e+00\\\\\n",
       "\tweeksm &    -8.8614001 &  0.099992435 & 0.000000e+00\\\\\n",
       "\thourswm &    -6.5201711 &  0.086503673 & 0.000000e+00\\\\\n",
       "\tincomem & -3718.2227639 & 48.955364178 & 0.000000e+00\\\\\n",
       "\tlfaminc &    -0.1340334 &  0.006373327 & 3.459826e-98\\\\\n",
       "\\end{tabular}\n"
      ],
      "text/markdown": [
       "\n",
       "A xtable: 5 × 3\n",
       "\n",
       "| <!--/--> | ols.coeff &lt;dbl&gt; | robust.se &lt;dbl&gt; | pval &lt;dbl&gt; |\n",
       "|---|---|---|---|\n",
       "| workedm |    -0.1730844 |  0.002291250 | 0.000000e+00 |\n",
       "| weeksm |    -8.8614001 |  0.099992435 | 0.000000e+00 |\n",
       "| hourswm |    -6.5201711 |  0.086503673 | 0.000000e+00 |\n",
       "| incomem | -3718.2227639 | 48.955364178 | 0.000000e+00 |\n",
       "| lfaminc |    -0.1340334 |  0.006373327 | 3.459826e-98 |\n",
       "\n"
      ],
      "text/plain": [
       "        ols.coeff     robust.se    pval        \n",
       "workedm    -0.1730844  0.002291250 0.000000e+00\n",
       "weeksm     -8.8614001  0.099992435 0.000000e+00\n",
       "hourswm    -6.5201711  0.086503673 0.000000e+00\n",
       "incomem -3718.2227639 48.955364178 0.000000e+00\n",
       "lfaminc    -0.1340334  0.006373327 3.459826e-98"
      ]
     },
     "metadata": {},
     "output_type": "display_data"
    }
   ],
   "source": [
    "# Define function for several outcomes\n",
    "\n",
    "ols.model <- function(y){\n",
    "    \n",
    "    ols.m <- lm(y ~ d + x)\n",
    "    cov <- vcovHC(ols.m, type = \"HC\")\n",
    "    robust.se <- sqrt(diag(cov))\n",
    "    \n",
    "    list(ols.coeff = ols.m$coefficients[2], \n",
    "         robust.se = robust.se[2], \n",
    "         pval = 2*pnorm(-abs(ols.m$coefficients[2]/robust.se[2])))\n",
    "}\n",
    "\n",
    "ols_output <- apply(y_mat, 2, ols.model)\n",
    "\n",
    "# convert list to table\n",
    "ols_output<-rbindlist(ols_output)\n",
    "rownames(ols_output)<- y_names\n",
    "\n",
    "# plot table\n",
    "print(\"OLS estimates of labour supply models\")\n",
    "xtable(ols_output, digits=3)"
   ]
  },
  {
   "cell_type": "markdown",
   "metadata": {},
   "source": [
    "### Two-stage least squares (2SLS)\n",
    "\n",
    "The 2SLS estimation is the parametric version of the IV estimation. It imposes a specific functional form on the outcome and treatment equations.\n",
    "\n",
    "2SLS first extracts the exogenous variation from $D$ (first stage from before):\n",
    "\n",
    "$D_i=\\alpha_1+\\pi_1Z_i+X_i'\\beta_1+\\varepsilon_{1,i}$\n",
    "\n",
    "Then, replace endogenous treatment $D$ in the outcome equation by the predicted $\\hat{D}_i$ obtained from this first stage: \n",
    "\n",
    "$Y_i=\\alpha_2+\\pi_2\\hat{D}_i+X_i'\\beta_2+\\varepsilon_{2,i}$\n",
    "\n",
    "\n",
    "The command `ivreg` from the `AER`-package  directly integrates these two steps and gives you standard errors corrected for the first stage estimation. \n",
    "\n",
    "* Note that it does not allow you to show the results of the first stage estimation. \n",
    "* Shows some model diagnostics: F-test of the first stage, Wu-Hausmann test and overidentication test.\n",
    "\n",
    "\n",
    "(1) We first estimate the effect on the labour supply decision of the women to demonstrate the application of the package:"
   ]
  },
  {
   "cell_type": "code",
   "execution_count": 11,
   "metadata": {},
   "outputs": [
    {
     "data": {
      "text/plain": [
       "\n",
       "Call:\n",
       "ivreg(formula = workedm ~ d + x | z + x)\n",
       "\n",
       "Residuals:\n",
       "    Min      1Q  Median      3Q     Max \n",
       "-0.9272 -0.5178  0.3002  0.4313  0.7288 \n",
       "\n",
       "Coefficients:\n",
       "              Estimate Std. Error t value Pr(>|t|)    \n",
       "(Intercept)  0.4612828  0.0180108  25.612  < 2e-16 ***\n",
       "d           -0.1150971  0.0370254  -3.109  0.00188 ** \n",
       "xboy1st     -0.0001912  0.0022003  -0.087  0.93076    \n",
       "xboy2nd     -0.0042123  0.0021967  -1.918  0.05517 .  \n",
       "xagem        0.0222252  0.0011698  19.000  < 2e-16 ***\n",
       "xagefstm    -0.0262497  0.0017176 -15.283  < 2e-16 ***\n",
       "xblackm      0.1041820  0.0042507  24.509  < 2e-16 ***\n",
       "xhispm      -0.0391096  0.0086700  -4.511 6.46e-06 ***\n",
       "xothracem    0.0401819  0.0070451   5.704 1.18e-08 ***\n",
       "\n",
       "Diagnostic tests:\n",
       "                    df1    df2 statistic p-value    \n",
       "Weak instruments      1 197062   773.301  <2e-16 ***\n",
       "Wu-Hausman            1 197061     2.471   0.116    \n",
       "Sargan                0     NA        NA      NA    \n",
       "---\n",
       "Signif. codes:  0 '***' 0.001 '**' 0.01 '*' 0.05 '.' 0.1 ' ' 1\n",
       "\n",
       "Residual standard error: 0.4832 on 197062 degrees of freedom\n",
       "Multiple R-Squared: 0.04961,\tAdjusted R-squared: 0.04957 \n",
       "Wald test: 687.1 on 8 and 197062 DF,  p-value: < 2.2e-16 \n"
      ]
     },
     "metadata": {},
     "output_type": "display_data"
    }
   ],
   "source": [
    "# ivreg package exemplarily for workedm\n",
    "iv.m <- ivreg(workedm ~ d + x  | z + x)\n",
    "summary(iv.m, vcov = sandwich, diagnostics = TRUE)\n",
    "\n",
    "# Important for coding: Endogenous variables (d) can only appear before the vertical line; \n",
    "# instruments (z) can only appear after the vertical line; \n",
    "# exogenous regressors that are not instruments (x) must appear both before and after the vertical line."
   ]
  },
  {
   "cell_type": "markdown",
   "metadata": {},
   "source": [
    "(2) We then define a function for several outcomes and combine the 2SLS results with the OLS estimates:"
   ]
  },
  {
   "cell_type": "code",
   "execution_count": 12,
   "metadata": {},
   "outputs": [
    {
     "name": "stdout",
     "output_type": "stream",
     "text": [
      "[1] \"OLS and 2SLS estimates of labour supply models\"\n"
     ]
    },
    {
     "data": {
      "text/html": [
       "<!-- html table generated in R 4.0.3 by xtable 1.8-4 package --><!-- Wed Oct 27 10:56:20 2021 --><table border=1><tr> <th>  </th> <th> ols.coeff </th> <th> robust.se </th> <th> pval </th> <th> iv.coeff </th> <th> robust.se </th> <th> pval </th>  </tr>  <tr> <td align=\"right\"> workedm </td> <td align=\"right\"> -0.173 </td> <td align=\"right\"> 0.002 </td> <td align=\"right\"> 0.000 </td> <td align=\"right\"> -0.115 </td> <td align=\"right\"> 0.037 </td> <td align=\"right\"> 0.002 </td> </tr>  <tr> <td align=\"right\"> weeksm </td> <td align=\"right\"> -8.861 </td> <td align=\"right\"> 0.100 </td> <td align=\"right\"> 0.000 </td> <td align=\"right\"> -4.101 </td> <td align=\"right\"> 1.649 </td> <td align=\"right\"> 0.013 </td> </tr>  <tr> <td align=\"right\"> hourswm </td> <td align=\"right\"> -6.520 </td> <td align=\"right\"> 0.087 </td> <td align=\"right\"> 0.000 </td> <td align=\"right\"> -3.847 </td> <td align=\"right\"> 1.405 </td> <td align=\"right\"> 0.006 </td> </tr>  <tr> <td align=\"right\"> incomem </td> <td align=\"right\"> -3718.223 </td> <td align=\"right\"> 48.955 </td> <td align=\"right\"> 0.000 </td> <td align=\"right\"> -1555.290 </td> <td align=\"right\"> 807.002 </td> <td align=\"right\"> 0.054 </td> </tr>  <tr> <td align=\"right\"> lfaminc </td> <td align=\"right\"> -0.134 </td> <td align=\"right\"> 0.006 </td> <td align=\"right\"> 0.000 </td> <td align=\"right\"> 0.056 </td> <td align=\"right\"> 0.100 </td> <td align=\"right\"> 0.576 </td> </tr>   </table>"
      ],
      "text/latex": [
       "A xtable: 5 × 6\n",
       "\\begin{tabular}{r|llllll}\n",
       "  & ols.coeff & robust.se & pval & iv.coeff & robust.se & pval\\\\\n",
       "  & <dbl> & <dbl> & <dbl> & <dbl> & <dbl> & <dbl>\\\\\n",
       "\\hline\n",
       "\tworkedm &    -0.1730844 &  0.002291250 & 0.000000e+00 & -1.150971e-01 &   0.03702544 & 0.001879798\\\\\n",
       "\tweeksm &    -8.8614001 &  0.099992435 & 0.000000e+00 & -4.101099e+00 &   1.64852558 & 0.012855863\\\\\n",
       "\thourswm &    -6.5201711 &  0.086503673 & 0.000000e+00 & -3.847170e+00 &   1.40497868 & 0.006176883\\\\\n",
       "\tincomem & -3718.2227639 & 48.955364178 & 0.000000e+00 & -1.555290e+03 & 807.00228783 & 0.053949297\\\\\n",
       "\tlfaminc &    -0.1340334 &  0.006373327 & 3.459826e-98 &  5.590143e-02 &   0.09991971 & 0.575845405\\\\\n",
       "\\end{tabular}\n"
      ],
      "text/markdown": [
       "\n",
       "A xtable: 5 × 6\n",
       "\n",
       "| <!--/--> | ols.coeff &lt;dbl&gt; | robust.se &lt;dbl&gt; | pval &lt;dbl&gt; | iv.coeff &lt;dbl&gt; | robust.se &lt;dbl&gt; | pval &lt;dbl&gt; |\n",
       "|---|---|---|---|---|---|---|\n",
       "| workedm |    -0.1730844 |  0.002291250 | 0.000000e+00 | -1.150971e-01 |   0.03702544 | 0.001879798 |\n",
       "| weeksm |    -8.8614001 |  0.099992435 | 0.000000e+00 | -4.101099e+00 |   1.64852558 | 0.012855863 |\n",
       "| hourswm |    -6.5201711 |  0.086503673 | 0.000000e+00 | -3.847170e+00 |   1.40497868 | 0.006176883 |\n",
       "| incomem | -3718.2227639 | 48.955364178 | 0.000000e+00 | -1.555290e+03 | 807.00228783 | 0.053949297 |\n",
       "| lfaminc |    -0.1340334 |  0.006373327 | 3.459826e-98 |  5.590143e-02 |   0.09991971 | 0.575845405 |\n",
       "\n"
      ],
      "text/plain": [
       "        ols.coeff     robust.se    pval         iv.coeff      robust.se   \n",
       "workedm    -0.1730844  0.002291250 0.000000e+00 -1.150971e-01   0.03702544\n",
       "weeksm     -8.8614001  0.099992435 0.000000e+00 -4.101099e+00   1.64852558\n",
       "hourswm    -6.5201711  0.086503673 0.000000e+00 -3.847170e+00   1.40497868\n",
       "incomem -3718.2227639 48.955364178 0.000000e+00 -1.555290e+03 807.00228783\n",
       "lfaminc    -0.1340334  0.006373327 3.459826e-98  5.590143e-02   0.09991971\n",
       "        pval       \n",
       "workedm 0.001879798\n",
       "weeksm  0.012855863\n",
       "hourswm 0.006176883\n",
       "incomem 0.053949297\n",
       "lfaminc 0.575845405"
      ]
     },
     "metadata": {},
     "output_type": "display_data"
    }
   ],
   "source": [
    "# Define 2sls function for several outcomes\n",
    "tsls.model <- function(y){\n",
    "        iv.m <- ivreg(y ~ d + x  | z + x)\n",
    "        iv_sum <-summary(iv.m, vcov = sandwich)\n",
    "    \n",
    "        list( iv.coeff = iv_sum$coefficients[2,1], \n",
    "             robust.se = iv_sum$coefficients[2,2], \n",
    "             pval = 2*pnorm(-abs(iv_sum$coefficients[2,1]/iv_sum$coefficients[2,2])))\n",
    " }\n",
    "\n",
    "iv_output <- apply(y_mat, 2, tsls.model)\n",
    "\n",
    "# convert list to table\n",
    "iv_output<-rbindlist(iv_output)\n",
    "\n",
    "# join OLS and IV output\n",
    "output<-cbind(ols_output,iv_output)\n",
    "rownames(output)<- y_names\n",
    "\n",
    "# plot table\n",
    "print(\"OLS and 2SLS estimates of labour supply models\")\n",
    "xtable(output, digits=3)"
   ]
  },
  {
   "cell_type": "markdown",
   "metadata": {},
   "source": [
    "The corresponding results in the paper can be found in Table 7, column 1-2, page 465.\n",
    "\n",
    "What do we learn from comparing OLS to IV estimates?"
   ]
  },
  {
   "cell_type": "markdown",
   "metadata": {},
   "source": [
    "***\n",
    "\n",
    "## Extensions"
   ]
  },
  {
   "cell_type": "markdown",
   "metadata": {},
   "source": [
    "### Characterizing the compliers"
   ]
  },
  {
   "cell_type": "markdown",
   "metadata": {},
   "source": [
    "* We cannot individually identify compliers.\n",
    "* But we can quantify the size of the complier group.\n",
    "* And we can describe the distribution of complier characteristics.\n",
    "\n",
    "Estimate the effect of $Z$ on $D$ (first stage) in subsamples defined by characteristics $X$ to assess who is under or over-represented among the compliers:\n",
    "\n",
    "$$D_i = \\alpha_1 + \\pi_1 Zi + X'_i \\beta_1 + \\epsilon_{1,i}$$\n",
    "\n",
    "* Perform this excercise for mothers which have years of schooling above the median and who are married."
   ]
  },
  {
   "cell_type": "code",
   "execution_count": 13,
   "metadata": {
    "scrolled": true
   },
   "outputs": [
    {
     "name": "stdout",
     "output_type": "stream",
     "text": [
      "\n",
      "==========================================================================================================\n",
      "                                                      Dependent variable:                                 \n",
      "                      ------------------------------------------------------------------------------------\n",
      "                           More than one child         More than one child         More than one child    \n",
      "                                   (1)                         (2)                         (3)            \n",
      "----------------------------------------------------------------------------------------------------------\n",
      "samesex                         0.058***                                                                  \n",
      "                                 (0.002)                                                                  \n",
      "                                                                                                          \n",
      "samesex[educm_h == 1]                                        0.051***                                     \n",
      "                                                             (0.004)                                      \n",
      "                                                                                                          \n",
      "samesex[msample == 1]                                                                   0.064***          \n",
      "                                                                                         (0.003)          \n",
      "                                                                                                          \n",
      "----------------------------------------------------------------------------------------------------------\n",
      "Observations                     197,071                      58,245                     125,725          \n",
      "R2                                0.045                       0.029                       0.040           \n",
      "F Statistic           1,323.553*** (df = 7; 197063) 247.736*** (df = 7; 58237) 742.044*** (df = 7; 125717)\n",
      "==========================================================================================================\n",
      "Note:                                                                          *p<0.1; **p<0.05; ***p<0.01\n"
     ]
    }
   ],
   "source": [
    "# define a variable being one if education is above the median\n",
    "educm_h <- ifelse(educm > median(educm), 1, 0)\n",
    "\n",
    "# redefine vector of controls (w/o age)\n",
    "x <- cbind(boy1st, boy2nd, agefstm, blackm, hispm, othracem)\n",
    "\n",
    "# Estimate first stages (controlling for other characteristics)\n",
    "\n",
    "# full sample\n",
    "ols.m.morekids.full <- lm(d ~ samesex + x)\n",
    "cov <- vcovHC(ols.m.morekids.full, type = \"HC\")\n",
    "robust.se.morekids.full <- sqrt(diag(cov))\n",
    "\n",
    "# highly educated\n",
    "ols.m.morekids.educh <- lm(d[educm_h == 1] ~ samesex[educm_h == 1] + x[educm_h == 1,])\n",
    "cov <- vcovHC(ols.m.morekids.educh, type = \"HC\")\n",
    "robust.se.morekids.educh <- sqrt(diag(cov))\n",
    "\n",
    "# married\n",
    "ols.m.morekids.married <- lm(d[msample == 1] ~ samesex[msample == 1] + x[msample == 1,])\n",
    "cov <- vcovHC(ols.m.morekids.married, type = \"HC\")\n",
    "robust.se.morekids.married <- sqrt(diag(cov))\n",
    "\n",
    "\n",
    "# Output Coefficients\n",
    "stargazer(ols.m.morekids.full, ols.m.morekids.educh, ols.m.morekids.married,\n",
    "          se=list(robust.se.morekids.full, robust.se.morekids.educh,robust.se.morekids.married), \n",
    "          type=\"text\",\n",
    "          keep=c(\"samesex\"), \n",
    "          keep.stat = c(\"n\", \"rsq\", \"f\"), \n",
    "          align=TRUE, dep.var.labels = c(\"More than one child\", \"More than one child\", \"More than one child\"), \n",
    "          dep.var.labels.include = TRUE)\n"
   ]
  },
  {
   "cell_type": "markdown",
   "metadata": {},
   "source": [
    "* Are highly educated and married women under or overrepresented among the compliers?\n",
    "---"
   ]
  },
  {
   "cell_type": "markdown",
   "metadata": {},
   "source": [
    "### Semiparametric LATE \n",
    "\n",
    "Used when\n",
    "\n",
    "* We observe the confounders $X$ that determine both $Z$ and $Y$ conditional on $D$ (i.e. under the conditional exogeneity assumption A3' and common support A5).\n",
    "* $X$ is multidimensional (i.e. many cells defined by $X$), complicates nonparametric estimation. \n",
    "* Remember: If instrument is (known to be) randomly assigned, do not need any control variables. \n",
    "\n",
    "**Roadmap based on Frölich (2007) using inverse probability weighting as an estimator**\n",
    "1. Estimate the model for $p(X_i) \\equiv Pr(Z_i = 1| X_i = x)$ using probit, and calculate predicted probabilities $\\hat{p}(X_i)$.\n",
    "\n",
    "\n",
    "2. Calculate the LATE by reweighting observations by the inverse of their conditional instrument probabilities. \n",
    "\n",
    "$$\\text{LATE}=\\frac{E\\left[\\frac{Y_i Z_i}{\\hat{p}(X_i)}-\\frac{Y_i(1-Z_i)}{(1-\\hat{p}(X_i))}\\right]}{E\\left[\\frac{D_i Z_i}{\\hat{p}(X_i)}-\\frac{D_i (1-Z_i)}{(1-\\hat{p}(X_i))}\\right]}$$\n",
    "\n",
    "3. Bootstrap everything for inference.\n",
    "\n",
    "\n",
    "**First, manually estimate the p-scores**"
   ]
  },
  {
   "cell_type": "code",
   "execution_count": 14,
   "metadata": {
    "scrolled": false
   },
   "outputs": [
    {
     "data": {
      "text/plain": [
       "\u001b[4mMODEL INFO:\u001b[24m\n",
       "\u001b[3mObservations:\u001b[23m 197071\n",
       "\u001b[3mDependent Variable:\u001b[23m z\n",
       "\u001b[3mType:\u001b[23m Generalized linear model\n",
       "  \u001b[3mFamily:\u001b[23m binomial \n",
       "  \u001b[3mLink function:\u001b[23m probit \n",
       "\n",
       "\u001b[4mMODEL FIT:\u001b[24m\n",
       "<U+03C7>²(6) = 175.99, \u001b[3mp\u001b[23m = 0.00\n",
       "\u001b[3mPseudo-R² (Cragg-Uhler)\u001b[23m = 0.00\n",
       "\u001b[3mPseudo-R² (McFadden)\u001b[23m = 0.00\n",
       "\u001b[3mAIC\u001b[23m = 273015.33, \u001b[3mBIC\u001b[23m = 273086.67 \n",
       "\n",
       "\u001b[3mStandard errors:\u001b[23m Robust, \u001b[3mtype = \u001b[23mHC1\n",
       "------------------------------------------------\n",
       "                     Est.   S.E.   z val.      p\n",
       "----------------- ------- ------ -------- ------\n",
       "(Intercept)         -0.07   0.02    -3.24   0.00\n",
       "xboy1st              0.05   0.01     8.86   0.00\n",
       "xboy2nd              0.05   0.01     9.57   0.00\n",
       "xagefstm             0.00   0.00     1.31   0.19\n",
       "xblackm              0.01   0.01     0.87   0.39\n",
       "xhispm               0.01   0.02     0.79   0.43\n",
       "xothracem           -0.02   0.02    -1.37   0.17\n",
       "------------------------------------------------"
      ]
     },
     "metadata": {},
     "output_type": "display_data"
    }
   ],
   "source": [
    "# estimate pscores manually\n",
    "pscore.model <- glm(z ~ x, family = binomial(link = \"probit\"))\n",
    "summ(pscore.model, , robust = \"HC1\")"
   ]
  },
  {
   "cell_type": "markdown",
   "metadata": {},
   "source": [
    "* Indicates if you should be worried about any confounders. \n",
    "* Coefficients on gender of first child are significant because slightly higher probability of having boys. \n",
    "* Other covariates non-significant."
   ]
  },
  {
   "cell_type": "markdown",
   "metadata": {},
   "source": [
    "**Check common support**"
   ]
  },
  {
   "cell_type": "code",
   "execution_count": 15,
   "metadata": {},
   "outputs": [
    {
     "data": {
      "image/png": "[encoded data removed]",
      "text/plain": [
       "plot without title"
      ]
     },
     "metadata": {
      "image/png": {
       "height": 420,
       "width": 420
      }
     },
     "output_type": "display_data"
    }
   ],
   "source": [
    "# add pscore to data frame \n",
    "data$pscore <- pscore.model$fitted.values \n",
    "\n",
    "# generate a labelled factor IV\n",
    "data$z_labelled <- factor(z, \n",
    "                          levels = c(0,1), \n",
    "                          label = c(\"Z=0\", \"Z=1\")) \n",
    "\n",
    "# Check for common support in propensity score \n",
    "ggplot(data, aes(x = pscore, fill = z_labelled)) + \n",
    "                        geom_density(alpha=0.4)  + \n",
    "                        theme_bw(base_size = 20) +\n",
    "                                         xlim(0, 1)"
   ]
  },
  {
   "cell_type": "markdown",
   "metadata": {},
   "source": [
    "* Here $X$'s are orthogonal to $Z$, as IV truly random.\n",
    "* Poor common support.\n",
    "\n",
    "\n",
    "**Estimate the semiparametric LATE using the `lateweight` command from the** `causalweight` **package which implements all of the above mentionned steps**\n",
    "\n",
    "* But as we have seen in Session 2, a bit of a black box, so check common support manually. \n",
    "* Only works with binary treatment and instrument. \n",
    "* Can specify trimming. \n",
    "\n",
    "For more details, see https://cran.r-project.org/web/packages/causalweight/causalweight.pdf"
   ]
  },
  {
   "cell_type": "code",
   "execution_count": 16,
   "metadata": {},
   "outputs": [
    {
     "name": "stdout",
     "output_type": "stream",
     "text": [
      "[1] \"LATE: \"\n"
     ]
    },
    {
     "data": {
      "text/html": [
       "-0.123"
      ],
      "text/latex": [
       "-0.123"
      ],
      "text/markdown": [
       "-0.123"
      ],
      "text/plain": [
       "[1] -0.123"
      ]
     },
     "metadata": {},
     "output_type": "display_data"
    },
    {
     "name": "stdout",
     "output_type": "stream",
     "text": [
      "[1] \"standard error: \"\n"
     ]
    },
    {
     "data": {
      "text/html": [
       "0.013"
      ],
      "text/latex": [
       "0.013"
      ],
      "text/markdown": [
       "0.013"
      ],
      "text/plain": [
       "[1] 0.013"
      ]
     },
     "metadata": {},
     "output_type": "display_data"
    },
    {
     "name": "stdout",
     "output_type": "stream",
     "text": [
      "[1] \"p-value: \"\n"
     ]
    },
    {
     "data": {
      "text/html": [
       "2.41439812173915e-22"
      ],
      "text/latex": [
       "2.41439812173915e-22"
      ],
      "text/markdown": [
       "2.41439812173915e-22"
      ],
      "text/plain": [
       "[1] 2.414398e-22"
      ]
     },
     "metadata": {},
     "output_type": "display_data"
    }
   ],
   "source": [
    "# Exemplarily for the labour supply decision of mothers\n",
    "late_workedm <- lateweight(y=workedm, # outcome\n",
    "                           d=d, # binary endogenous treatment\n",
    "                           z=z, # binary instrument \n",
    "                           x=x, # observed confounders\n",
    "                           LATT=FALSE, # for LATE\n",
    "                           logit=FALSE, # probit p-score model \n",
    "                           boot=2) # number of bootstrap replications \n",
    "# increase boot to 199 or higher and go for a walk \n",
    "\n",
    "# Display results\n",
    "print(\"LATE: \")\n",
    "round(c(late_workedm$effect),3)\n",
    "print(\"standard error: \")\n",
    "round(c(late_workedm$se.effect),3)\n",
    "print(\"p-value: \")\n",
    "late_workedm$pval.effect"
   ]
  },
  {
   "cell_type": "code",
   "execution_count": 17,
   "metadata": {},
   "outputs": [
    {
     "name": "stdout",
     "output_type": "stream",
     "text": [
      "[1] \"OLS, 2SLS and semiparametric LATE estimates of labour supply models\"\n"
     ]
    },
    {
     "data": {
      "text/html": [
       "<!-- html table generated in R 4.0.3 by xtable 1.8-4 package --><!-- Wed Oct 27 10:56:50 2021 --><table border=1><tr> <th>  </th> <th> ols.coeff </th> <th> robust.se </th> <th> pval </th> <th> iv.coeff </th> <th> robust.se </th> <th> pval </th> <th> sp.iv.coeff </th> <th> boot.se </th> <th> pval </th>  </tr>  <tr> <td align=\"right\"> workedm </td> <td align=\"right\"> -0.173 </td> <td align=\"right\"> 0.002 </td> <td align=\"right\"> 0.000 </td> <td align=\"right\"> -0.115 </td> <td align=\"right\"> 0.037 </td> <td align=\"right\"> 0.002 </td> <td align=\"right\"> -0.123 </td> <td align=\"right\"> 0.037 </td> <td align=\"right\"> 0.001 </td> </tr>  <tr> <td align=\"right\"> weeksm </td> <td align=\"right\"> -8.861 </td> <td align=\"right\"> 0.100 </td> <td align=\"right\"> 0.000 </td> <td align=\"right\"> -4.101 </td> <td align=\"right\"> 1.649 </td> <td align=\"right\"> 0.013 </td> <td align=\"right\"> -4.560 </td> <td align=\"right\"> 2.321 </td> <td align=\"right\"> 0.049 </td> </tr>  <tr> <td align=\"right\"> hourswm </td> <td align=\"right\"> -6.520 </td> <td align=\"right\"> 0.087 </td> <td align=\"right\"> 0.000 </td> <td align=\"right\"> -3.847 </td> <td align=\"right\"> 1.405 </td> <td align=\"right\"> 0.006 </td> <td align=\"right\"> -4.131 </td> <td align=\"right\"> 1.361 </td> <td align=\"right\"> 0.002 </td> </tr>  <tr> <td align=\"right\"> incomem </td> <td align=\"right\"> -3718.223 </td> <td align=\"right\"> 48.955 </td> <td align=\"right\"> 0.000 </td> <td align=\"right\"> -1555.290 </td> <td align=\"right\"> 807.002 </td> <td align=\"right\"> 0.054 </td> <td align=\"right\"> -1756.564 </td> <td align=\"right\"> 454.429 </td> <td align=\"right\"> 0.000 </td> </tr>  <tr> <td align=\"right\"> lfaminc </td> <td align=\"right\"> -0.134 </td> <td align=\"right\"> 0.006 </td> <td align=\"right\"> 0.000 </td> <td align=\"right\"> 0.056 </td> <td align=\"right\"> 0.100 </td> <td align=\"right\"> 0.576 </td> <td align=\"right\"> 0.042 </td> <td align=\"right\"> 0.098 </td> <td align=\"right\"> 0.665 </td> </tr>   </table>"
      ],
      "text/latex": [
       "A xtable: 5 × 9\n",
       "\\begin{tabular}{r|lllllllll}\n",
       "  & ols.coeff & robust.se & pval & iv.coeff & robust.se & pval & sp.iv.coeff & boot.se & pval\\\\\n",
       "  & <dbl> & <dbl> & <dbl> & <dbl> & <dbl> & <dbl> & <dbl> & <dbl> & <dbl>\\\\\n",
       "\\hline\n",
       "\tworkedm &    -0.1730844 &  0.002291250 & 0.000000e+00 & -1.150971e-01 &   0.03702544 & 0.001879798 & -1.228474e-01 &   0.03728864 & 0.0009859700\\\\\n",
       "\tweeksm &    -8.8614001 &  0.099992435 & 0.000000e+00 & -4.101099e+00 &   1.64852558 & 0.012855863 & -4.559601e+00 &   2.32126570 & 0.0494983542\\\\\n",
       "\thourswm &    -6.5201711 &  0.086503673 & 0.000000e+00 & -3.847170e+00 &   1.40497868 & 0.006176883 & -4.130870e+00 &   1.36117910 & 0.0024071678\\\\\n",
       "\tincomem & -3718.2227639 & 48.955364178 & 0.000000e+00 & -1.555290e+03 & 807.00228783 & 0.053949297 & -1.756564e+03 & 454.42874021 & 0.0001108922\\\\\n",
       "\tlfaminc &    -0.1340334 &  0.006373327 & 3.459826e-98 &  5.590143e-02 &   0.09991971 & 0.575845405 &  4.225913e-02 &   0.09770673 & 0.6653708295\\\\\n",
       "\\end{tabular}\n"
      ],
      "text/markdown": [
       "\n",
       "A xtable: 5 × 9\n",
       "\n",
       "| <!--/--> | ols.coeff &lt;dbl&gt; | robust.se &lt;dbl&gt; | pval &lt;dbl&gt; | iv.coeff &lt;dbl&gt; | robust.se &lt;dbl&gt; | pval &lt;dbl&gt; | sp.iv.coeff &lt;dbl&gt; | boot.se &lt;dbl&gt; | pval &lt;dbl&gt; |\n",
       "|---|---|---|---|---|---|---|---|---|---|\n",
       "| workedm |    -0.1730844 |  0.002291250 | 0.000000e+00 | -1.150971e-01 |   0.03702544 | 0.001879798 | -1.228474e-01 |   0.03728864 | 0.0009859700 |\n",
       "| weeksm |    -8.8614001 |  0.099992435 | 0.000000e+00 | -4.101099e+00 |   1.64852558 | 0.012855863 | -4.559601e+00 |   2.32126570 | 0.0494983542 |\n",
       "| hourswm |    -6.5201711 |  0.086503673 | 0.000000e+00 | -3.847170e+00 |   1.40497868 | 0.006176883 | -4.130870e+00 |   1.36117910 | 0.0024071678 |\n",
       "| incomem | -3718.2227639 | 48.955364178 | 0.000000e+00 | -1.555290e+03 | 807.00228783 | 0.053949297 | -1.756564e+03 | 454.42874021 | 0.0001108922 |\n",
       "| lfaminc |    -0.1340334 |  0.006373327 | 3.459826e-98 |  5.590143e-02 |   0.09991971 | 0.575845405 |  4.225913e-02 |   0.09770673 | 0.6653708295 |\n",
       "\n"
      ],
      "text/plain": [
       "        ols.coeff     robust.se    pval         iv.coeff      robust.se   \n",
       "workedm    -0.1730844  0.002291250 0.000000e+00 -1.150971e-01   0.03702544\n",
       "weeksm     -8.8614001  0.099992435 0.000000e+00 -4.101099e+00   1.64852558\n",
       "hourswm    -6.5201711  0.086503673 0.000000e+00 -3.847170e+00   1.40497868\n",
       "incomem -3718.2227639 48.955364178 0.000000e+00 -1.555290e+03 807.00228783\n",
       "lfaminc    -0.1340334  0.006373327 3.459826e-98  5.590143e-02   0.09991971\n",
       "        pval        sp.iv.coeff   boot.se      pval        \n",
       "workedm 0.001879798 -1.228474e-01   0.03728864 0.0009859700\n",
       "weeksm  0.012855863 -4.559601e+00   2.32126570 0.0494983542\n",
       "hourswm 0.006176883 -4.130870e+00   1.36117910 0.0024071678\n",
       "incomem 0.053949297 -1.756564e+03 454.42874021 0.0001108922\n",
       "lfaminc 0.575845405  4.225913e-02   0.09770673 0.6653708295"
      ]
     },
     "metadata": {},
     "output_type": "display_data"
    }
   ],
   "source": [
    "# For all outcomes\n",
    "sp.model <- function(y){\n",
    "      sp.m <- lateweight(y=y, # outcome\n",
    "                         d=d, # binary endogenous treatment\n",
    "                         z=z, # binary instrument \n",
    "                         x=x, # observed confounders\n",
    "                         LATT=FALSE, # for LATE\n",
    "                         logit=FALSE, # probit p-score model \n",
    "                         boot=9) # number of bootstrap replications \n",
    "      list( sp.iv.coeff = sp.m$effect, \n",
    "            boot.se = sp.m$se.effect, \n",
    "            pval = sp.m$pval.effect)\n",
    "}\n",
    "\n",
    "# Apply to all outcomes of interest\n",
    "sp.iv_output <- apply(y_mat, 2, sp.model)\n",
    "sp.iv_output<-rbindlist(sp.iv_output)\n",
    "\n",
    "# Bind OLS and IV results\n",
    "output_all<-cbind(output, sp.iv_output)\n",
    "rownames(output_all)<- y_names\n",
    "\n",
    "# Display table\n",
    "print(\"OLS, 2SLS and semiparametric LATE estimates of labour supply models\")\n",
    "xtable(output_all, digits=3)"
   ]
  },
  {
   "cell_type": "markdown",
   "metadata": {},
   "source": [
    "Is it surprising that the semiparametric IV estimates do so closely match the parametric ones?\n",
    "\n",
    "***\n",
    "\n",
    "## References\n",
    "\n",
    "Frölich M (2007). Nonparametric IV Estimation of Local Average Treatment Effects with\n",
    "Covariates. *Economics Letters*, 139, 35-75.\n"
   ]
  }
 ],
 "metadata": {
  "kernelspec": {
   "display_name": "R.4.0.3",
   "language": "R",
   "name": "ir40"
  },
  "language_info": {
   "codemirror_mode": "r",
   "file_extension": ".r",
   "mimetype": "text/x-r-source",
   "name": "R",
   "pygments_lexer": "r",
   "version": "4.0.3"
  }
 },
 "nbformat": 4,
 "nbformat_minor": 2
}
