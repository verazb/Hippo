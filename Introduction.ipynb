{
 "cells": [
  {
   "cell_type": "markdown",
   "metadata": {},
   "source": [
    "**Causal Inference for Policy Evaluation (HS 2021)**\n",
    "\n",
    "**Conny Wunsch, Ulrike Unterhofer and Véra Zabrodina** -- University of Basel\n",
    "\n",
    "***\n",
    "\n",
    "# Lab sessions - Introduction\n",
    "\n",
    "***\n",
    "\n",
    "![](./Corona.JPG)"
   ]
  },
  {
   "cell_type": "markdown",
   "metadata": {},
   "source": [
    "***\n",
    "\n",
    "## Objectives\n",
    "\n",
    "* Go from theory to practice in implementing causal empirical research methods (1 session/method).\n",
    "\n",
    "* Understand the key steps and practical challenges of a thorough empirical analysis. \n",
    "\n",
    "Specifically, you will learn how to \n",
    "\n",
    "1. Set up a research design to study a key effect of interest, with a solid identification strategy \n",
    "\n",
    "2. Discuss the identifying assumptions in context\n",
    "\n",
    "3. Prepare the data for analysis (session 1)\n",
    "\n",
    "4. Produce and interpret relevant descriptive statistics, as well as to provide supportive evidence for the validity of identifying assumptions\n",
    "\n",
    "5. Estimate causal effects of interest \n",
    "\n",
    "6. Present and interpret the results meaningfully \n",
    "\n",
    "\n",
    "***\n",
    "\n",
    "## Content and organisation\n",
    "\n",
    "* In every lab session, we will replicate and discuss step-by-step the main findings of a (good) published paper that uses a method taught in the lectures.\n",
    "\n",
    "* Students are required to read the paper beforehand.\n",
    "\n",
    "* Ask questions, and try to answer ours.\n",
    "\n",
    "* Here, in the assignments, and in real-life empirical research, “justify and discuss” is always implied. \n",
    "\n",
    "* New lab materials will be uploaded shortly before each session. \n",
    "\n",
    "\n",
    "*** \n",
    "\n",
    "## Lab assignments \n",
    "\n",
    "* Bi-weekly assignments with coding, discussion and reading questions. \n",
    "\n",
    "* Posted shortly after every lab session on ADAM. \n",
    "\n",
    "* To be submitted in groups (assigned based on the questionnaire).\n",
    "\n",
    "* The written answers including outputs such as tables and graphs should be saved as a PDF file, and are limited to a maximum of 2 pages, so focus on the essentials. \n",
    "\n",
    "* Solutions are discussed in the next lab session, but not provided directly. \n",
    "\n",
    "* These will serve as preparation for the bigger final assignment and further research (e.g. empirical Master’s or PhD thesis). \n",
    "\n",
    "* Please follow common scientific citation practices: Write the answers in your own words and signal it clearly whenever you refer to or cite any external sources. \n",
    "\n",
    "\n",
    "See the lab session syllabus for further details about submitting the assignments.\n",
    "\n",
    "\n",
    "\n",
    "***\n",
    "\n",
    "# Technical setup\n",
    "\n",
    "\n",
    "* Implementation in `R` -- basic knowledge of programming and `R` syntax is assumed (or to be learned autonomously). \n",
    "\n",
    "* `R` is free, open source, and a useful asset on the market.\n",
    "\n",
    "* See the syllabus for some useful links on how to get started with `R`. \n",
    "\n",
    "* `R` offers a lot of flexibility, and there are many ways of coding the same thing.\n",
    "\n",
    "\n",
    "![](./R_machine.jpg)\n"
   ]
  },
  {
   "cell_type": "markdown",
   "metadata": {},
   "source": [
    "\n",
    "* First lab session on data preparation taught in RStudio to familiarize you with the interface. \n",
    "* The rest is taught in Jupyter notebooks. \n",
    "\n",
    "\n",
    "## Jupyter notebooks as a teaching tool \n",
    "\n",
    "* This page is a so-called *Jupyter notebook*. \n",
    "* Some *cells* contain text notes and formulas.\n",
    "* Others cells contain `R` code that you can run one after the other, with any *output* appearing underneath (see example below). \n",
    "* Everything is integrated in one webpage, no window switching.\n",
    "* All Jupyter notebooks are saved as PDFs and posted on ADAM, along with any relevant material (`R` code, output, etc.). \n",
    "* **You will still need a computer with `R` to do the assignments.** \n",
    "\n",
    "\n",
    "\n",
    "## Basic steps to run R code in Jupyter\n",
    "\n",
    "1. Open the Jupyter notebook.\n",
    "2. In the menu above, go to `Cell > All Output > Clear` to erase all code output on the page.\n",
    "3. Run each cell by clicking into it, and pressing `Run` (or `Ctrl + Enter`).\n",
    "4. To run all cells at once, go to `Cell > Run All`.\n",
    "5. If there is an error, you can re-run everything up to a given point by going to `Cell > Run All Above`. \n",
    "\n",
    "\n",
    "Here is a simple example."
   ]
  },
  {
   "cell_type": "code",
   "execution_count": 1,
   "metadata": {},
   "outputs": [],
   "source": [
    "x <- c(1:10)"
   ]
  },
  {
   "cell_type": "markdown",
   "metadata": {},
   "source": [
    "As usual in `R`, this will not show any output. \n",
    "\n",
    "If you actually want to see the vector as an output, you have to call it (as in RStudio). "
   ]
  },
  {
   "cell_type": "code",
   "execution_count": 2,
   "metadata": {},
   "outputs": [
    {
     "data": {
      "text/html": [
       "<style>\n",
       ".list-inline {list-style: none; margin:0; padding: 0}\n",
       ".list-inline>li {display: inline-block}\n",
       ".list-inline>li:not(:last-child)::after {content: \"\\00b7\"; padding: 0 .5ex}\n",
       "</style>\n",
       "<ol class=list-inline><li>1</li><li>2</li><li>3</li><li>4</li><li>5</li><li>6</li><li>7</li><li>8</li><li>9</li><li>10</li></ol>\n"
      ],
      "text/latex": [
       "\\begin{enumerate*}\n",
       "\\item 1\n",
       "\\item 2\n",
       "\\item 3\n",
       "\\item 4\n",
       "\\item 5\n",
       "\\item 6\n",
       "\\item 7\n",
       "\\item 8\n",
       "\\item 9\n",
       "\\item 10\n",
       "\\end{enumerate*}\n"
      ],
      "text/markdown": [
       "1. 1\n",
       "2. 2\n",
       "3. 3\n",
       "4. 4\n",
       "5. 5\n",
       "6. 6\n",
       "7. 7\n",
       "8. 8\n",
       "9. 9\n",
       "10. 10\n",
       "\n",
       "\n"
      ],
      "text/plain": [
       " [1]  1  2  3  4  5  6  7  8  9 10"
      ]
     },
     "metadata": {},
     "output_type": "display_data"
    }
   ],
   "source": [
    "x"
   ]
  },
  {
   "cell_type": "code",
   "execution_count": 3,
   "metadata": {},
   "outputs": [
    {
     "data": {
      "text/html": [
       "<style>\n",
       ".list-inline {list-style: none; margin:0; padding: 0}\n",
       ".list-inline>li {display: inline-block}\n",
       ".list-inline>li:not(:last-child)::after {content: \"\\00b7\"; padding: 0 .5ex}\n",
       "</style>\n",
       "<ol class=list-inline><li>-1.30839755678855</li><li>1.01421285478702</li><li>2.42406206827801</li><li>3.44072978139482</li><li>4.71828406230692</li><li>3.49385668767337</li><li>3.70041057991018</li><li>4.98947070564009</li><li>7.01429486964679</li><li>7.0953463030209</li></ol>\n"
      ],
      "text/latex": [
       "\\begin{enumerate*}\n",
       "\\item -1.30839755678855\n",
       "\\item 1.01421285478702\n",
       "\\item 2.42406206827801\n",
       "\\item 3.44072978139482\n",
       "\\item 4.71828406230692\n",
       "\\item 3.49385668767337\n",
       "\\item 3.70041057991018\n",
       "\\item 4.98947070564009\n",
       "\\item 7.01429486964679\n",
       "\\item 7.0953463030209\n",
       "\\end{enumerate*}\n"
      ],
      "text/markdown": [
       "1. -1.30839755678855\n",
       "2. 1.01421285478702\n",
       "3. 2.42406206827801\n",
       "4. 3.44072978139482\n",
       "5. 4.71828406230692\n",
       "6. 3.49385668767337\n",
       "7. 3.70041057991018\n",
       "8. 4.98947070564009\n",
       "9. 7.01429486964679\n",
       "10. 7.0953463030209\n",
       "\n",
       "\n"
      ],
      "text/plain": [
       " [1] -1.308398  1.014213  2.424062  3.440730  4.718284  3.493857  3.700411\n",
       " [8]  4.989471  7.014295  7.095346"
      ]
     },
     "metadata": {},
     "output_type": "display_data"
    }
   ],
   "source": [
    "e <- rnorm(10)\n",
    "y <- 0.8*x + e\n",
    "y"
   ]
  },
  {
   "cell_type": "code",
   "execution_count": 4,
   "metadata": {},
   "outputs": [
    {
     "name": "stderr",
     "output_type": "stream",
     "text": [
      "Warning message:\n",
      "\"package 'ggplot2' was built under R version 4.0.5\"\n"
     ]
    },
    {
     "data": {
      "image/png": "[encoded data removed]",
      "text/plain": [
       "plot without title"
      ]
     },
     "metadata": {
      "image/png": {
       "height": 300,
       "width": 480
      }
     },
     "output_type": "display_data"
    }
   ],
   "source": [
    "# install.packages(\"ggplot2\") # Activate this once if run it the first time on your computer\n",
    "library(ggplot2)\n",
    "data <- as.data.frame(cbind(x,y))\n",
    "options(repr.plot.width=8, repr.plot.height=5)\n",
    "ggplot(data, aes(x=x, y=y)) + geom_point() + theme_bw(base_size = 20)"
   ]
  },
  {
   "cell_type": "markdown",
   "metadata": {},
   "source": [
    "\n",
    "## Advice on following lab sessions\n",
    "\n",
    "* We will send around instructions on how to use Jupyter notebooks before the next session. \n",
    "* For those on Zoom, try to have two screens whenever possible.\n",
    "* Taking notes: in the uploaded PDFs, directly in your R code, or in the Jupyter notebook (if saved locally). \n",
    "* Do not forget to save everything. The PCs in the lab do not allow you to permanently store files. Copy all relevant files to an external drive/cloud.\n",
    "\n",
    "\n",
    "If you have any question about the lab sessions, write us an email at `ulrike.unterhofer[at]unibas.ch` and/or `vera.zabrodina[at]unibas.ch`."
   ]
  },
  {
   "cell_type": "code",
   "execution_count": null,
   "metadata": {},
   "outputs": [],
   "source": []
  }
 ],
 "metadata": {
  "kernelspec": {
   "display_name": "R.4.0.3",
   "language": "R",
   "name": "ir40"
  },
  "language_info": {
   "codemirror_mode": "r",
   "file_extension": ".r",
   "mimetype": "text/x-r-source",
   "name": "R",
   "pygments_lexer": "r",
   "version": "4.0.3"
  }
 },
 "nbformat": 4,
 "nbformat_minor": 2
}
